{
 "cells": [
  {
   "cell_type": "markdown",
   "metadata": {
    "toc": true
   },
   "source": [
    "<h1>Содержание<span class=\"tocSkip\"></span></h1>\n",
    "<div class=\"toc\"><ul class=\"toc-item\"><li><span><a href=\"#Подготовка-данных\" data-toc-modified-id=\"Подготовка-данных-1\"><span class=\"toc-item-num\">1&nbsp;&nbsp;</span>Подготовка данных</a></span></li><li><span><a href=\"#Исследование-задачи\" data-toc-modified-id=\"Исследование-задачи-2\"><span class=\"toc-item-num\">2&nbsp;&nbsp;</span>Исследование задачи</a></span></li><li><span><a href=\"#Борьба-с-дисбалансом\" data-toc-modified-id=\"Борьба-с-дисбалансом-3\"><span class=\"toc-item-num\">3&nbsp;&nbsp;</span>Борьба с дисбалансом</a></span></li><li><span><a href=\"#Тестирование-модели\" data-toc-modified-id=\"Тестирование-модели-4\"><span class=\"toc-item-num\">4&nbsp;&nbsp;</span>Тестирование модели</a></span></li><li><span><a href=\"#Чек-лист-готовности-проекта\" data-toc-modified-id=\"Чек-лист-готовности-проекта-5\"><span class=\"toc-item-num\">5&nbsp;&nbsp;</span>Чек-лист готовности проекта</a></span></li><li><span><a href=\"#Общий-вывод-по-проекту\" data-toc-modified-id=\"Общий-вывод-по-проекту-6\"><span class=\"toc-item-num\">6&nbsp;&nbsp;</span><b>Общий вывод по проекту</b></a></span></li><li><span><a href=\"#Общий-вывод-по-проекту-В2\" data-toc-modified-id=\"Общий-вывод-по-проекту-В2-7\"><span class=\"toc-item-num\">7&nbsp;&nbsp;</span><b>Общий вывод по проекту В2</b></a></span></li></ul></div>"
   ]
  },
  {
   "cell_type": "markdown",
   "metadata": {},
   "source": [
    "# Отток клиентов"
   ]
  },
  {
   "cell_type": "markdown",
   "metadata": {},
   "source": [
    "Из «Бета-Банка» стали уходить клиенты. Каждый месяц. Немного, но заметно. Банковские маркетологи посчитали: сохранять текущих клиентов дешевле, чем привлекать новых.\n",
    "\n",
    "Нужно спрогнозировать, уйдёт клиент из банка в ближайшее время или нет. Вам предоставлены исторические данные о поведении клиентов и расторжении договоров с банком. \n",
    "\n",
    "Постройте модель с предельно большим значением *F1*-меры. Чтобы сдать проект успешно, нужно довести метрику до 0.59. Проверьте *F1*-меру на тестовой выборке самостоятельно.\n",
    "\n",
    "Дополнительно измеряйте *AUC-ROC*, сравнивайте её значение с *F1*-мерой.\n",
    "\n",
    "Источник данных: [https://www.kaggle.com/barelydedicated/bank-customer-churn-modeling](https://www.kaggle.com/barelydedicated/bank-customer-churn-modeling)"
   ]
  },
  {
   "cell_type": "markdown",
   "metadata": {},
   "source": [
    "**Цель проекта: Нужно спрогнозировать, уйдёт клиент из банка в ближайшее время или нет. Предоставлены исторические данные о поведении клиентов и расторжении договоров с банком. \n",
    "Построить модель с предельно большим значением F1-меры, нужно довести метрику до 0.59. Проверить F1-меру на тестовой выборке.**"
   ]
  },
  {
   "cell_type": "markdown",
   "metadata": {},
   "source": [
    "Этапы выполнения:\n",
    "\n",
    "    Загрузить и подготовить данные. Пояснить порядок действий.\n",
    "    Исследовать баланс классов, обучить модель без учёта дисбаланса.\n",
    "    Улучшить качество модели, учитывая дисбаланс классов. Обучить разные модели и найти лучшую. \n",
    "    Провести финальное тестирование."
   ]
  },
  {
   "cell_type": "markdown",
   "metadata": {},
   "source": [
    "## Подготовка данных"
   ]
  },
  {
   "cell_type": "markdown",
   "metadata": {},
   "source": [
    "Импортируем необходимые модули и библиотеки. Загрузим данные в датафрейм и выведем первые 20 строк."
   ]
  },
  {
   "cell_type": "code",
   "execution_count": 44,
   "metadata": {},
   "outputs": [
    {
     "data": {
      "text/html": [
       "<div>\n",
       "<style scoped>\n",
       "    .dataframe tbody tr th:only-of-type {\n",
       "        vertical-align: middle;\n",
       "    }\n",
       "\n",
       "    .dataframe tbody tr th {\n",
       "        vertical-align: top;\n",
       "    }\n",
       "\n",
       "    .dataframe thead th {\n",
       "        text-align: right;\n",
       "    }\n",
       "</style>\n",
       "<table border=\"1\" class=\"dataframe\">\n",
       "  <thead>\n",
       "    <tr style=\"text-align: right;\">\n",
       "      <th></th>\n",
       "      <th>RowNumber</th>\n",
       "      <th>CustomerId</th>\n",
       "      <th>Surname</th>\n",
       "      <th>CreditScore</th>\n",
       "      <th>Geography</th>\n",
       "      <th>Gender</th>\n",
       "      <th>Age</th>\n",
       "      <th>Tenure</th>\n",
       "      <th>Balance</th>\n",
       "      <th>NumOfProducts</th>\n",
       "      <th>HasCrCard</th>\n",
       "      <th>IsActiveMember</th>\n",
       "      <th>EstimatedSalary</th>\n",
       "      <th>Exited</th>\n",
       "    </tr>\n",
       "  </thead>\n",
       "  <tbody>\n",
       "    <tr>\n",
       "      <th>0</th>\n",
       "      <td>1</td>\n",
       "      <td>15634602</td>\n",
       "      <td>Hargrave</td>\n",
       "      <td>619</td>\n",
       "      <td>France</td>\n",
       "      <td>Female</td>\n",
       "      <td>42</td>\n",
       "      <td>2.0</td>\n",
       "      <td>0.00</td>\n",
       "      <td>1</td>\n",
       "      <td>1</td>\n",
       "      <td>1</td>\n",
       "      <td>101348.88</td>\n",
       "      <td>1</td>\n",
       "    </tr>\n",
       "    <tr>\n",
       "      <th>1</th>\n",
       "      <td>2</td>\n",
       "      <td>15647311</td>\n",
       "      <td>Hill</td>\n",
       "      <td>608</td>\n",
       "      <td>Spain</td>\n",
       "      <td>Female</td>\n",
       "      <td>41</td>\n",
       "      <td>1.0</td>\n",
       "      <td>83807.86</td>\n",
       "      <td>1</td>\n",
       "      <td>0</td>\n",
       "      <td>1</td>\n",
       "      <td>112542.58</td>\n",
       "      <td>0</td>\n",
       "    </tr>\n",
       "    <tr>\n",
       "      <th>2</th>\n",
       "      <td>3</td>\n",
       "      <td>15619304</td>\n",
       "      <td>Onio</td>\n",
       "      <td>502</td>\n",
       "      <td>France</td>\n",
       "      <td>Female</td>\n",
       "      <td>42</td>\n",
       "      <td>8.0</td>\n",
       "      <td>159660.80</td>\n",
       "      <td>3</td>\n",
       "      <td>1</td>\n",
       "      <td>0</td>\n",
       "      <td>113931.57</td>\n",
       "      <td>1</td>\n",
       "    </tr>\n",
       "    <tr>\n",
       "      <th>3</th>\n",
       "      <td>4</td>\n",
       "      <td>15701354</td>\n",
       "      <td>Boni</td>\n",
       "      <td>699</td>\n",
       "      <td>France</td>\n",
       "      <td>Female</td>\n",
       "      <td>39</td>\n",
       "      <td>1.0</td>\n",
       "      <td>0.00</td>\n",
       "      <td>2</td>\n",
       "      <td>0</td>\n",
       "      <td>0</td>\n",
       "      <td>93826.63</td>\n",
       "      <td>0</td>\n",
       "    </tr>\n",
       "    <tr>\n",
       "      <th>4</th>\n",
       "      <td>5</td>\n",
       "      <td>15737888</td>\n",
       "      <td>Mitchell</td>\n",
       "      <td>850</td>\n",
       "      <td>Spain</td>\n",
       "      <td>Female</td>\n",
       "      <td>43</td>\n",
       "      <td>2.0</td>\n",
       "      <td>125510.82</td>\n",
       "      <td>1</td>\n",
       "      <td>1</td>\n",
       "      <td>1</td>\n",
       "      <td>79084.10</td>\n",
       "      <td>0</td>\n",
       "    </tr>\n",
       "    <tr>\n",
       "      <th>5</th>\n",
       "      <td>6</td>\n",
       "      <td>15574012</td>\n",
       "      <td>Chu</td>\n",
       "      <td>645</td>\n",
       "      <td>Spain</td>\n",
       "      <td>Male</td>\n",
       "      <td>44</td>\n",
       "      <td>8.0</td>\n",
       "      <td>113755.78</td>\n",
       "      <td>2</td>\n",
       "      <td>1</td>\n",
       "      <td>0</td>\n",
       "      <td>149756.71</td>\n",
       "      <td>1</td>\n",
       "    </tr>\n",
       "    <tr>\n",
       "      <th>6</th>\n",
       "      <td>7</td>\n",
       "      <td>15592531</td>\n",
       "      <td>Bartlett</td>\n",
       "      <td>822</td>\n",
       "      <td>France</td>\n",
       "      <td>Male</td>\n",
       "      <td>50</td>\n",
       "      <td>7.0</td>\n",
       "      <td>0.00</td>\n",
       "      <td>2</td>\n",
       "      <td>1</td>\n",
       "      <td>1</td>\n",
       "      <td>10062.80</td>\n",
       "      <td>0</td>\n",
       "    </tr>\n",
       "    <tr>\n",
       "      <th>7</th>\n",
       "      <td>8</td>\n",
       "      <td>15656148</td>\n",
       "      <td>Obinna</td>\n",
       "      <td>376</td>\n",
       "      <td>Germany</td>\n",
       "      <td>Female</td>\n",
       "      <td>29</td>\n",
       "      <td>4.0</td>\n",
       "      <td>115046.74</td>\n",
       "      <td>4</td>\n",
       "      <td>1</td>\n",
       "      <td>0</td>\n",
       "      <td>119346.88</td>\n",
       "      <td>1</td>\n",
       "    </tr>\n",
       "    <tr>\n",
       "      <th>8</th>\n",
       "      <td>9</td>\n",
       "      <td>15792365</td>\n",
       "      <td>He</td>\n",
       "      <td>501</td>\n",
       "      <td>France</td>\n",
       "      <td>Male</td>\n",
       "      <td>44</td>\n",
       "      <td>4.0</td>\n",
       "      <td>142051.07</td>\n",
       "      <td>2</td>\n",
       "      <td>0</td>\n",
       "      <td>1</td>\n",
       "      <td>74940.50</td>\n",
       "      <td>0</td>\n",
       "    </tr>\n",
       "    <tr>\n",
       "      <th>9</th>\n",
       "      <td>10</td>\n",
       "      <td>15592389</td>\n",
       "      <td>H?</td>\n",
       "      <td>684</td>\n",
       "      <td>France</td>\n",
       "      <td>Male</td>\n",
       "      <td>27</td>\n",
       "      <td>2.0</td>\n",
       "      <td>134603.88</td>\n",
       "      <td>1</td>\n",
       "      <td>1</td>\n",
       "      <td>1</td>\n",
       "      <td>71725.73</td>\n",
       "      <td>0</td>\n",
       "    </tr>\n",
       "    <tr>\n",
       "      <th>10</th>\n",
       "      <td>11</td>\n",
       "      <td>15767821</td>\n",
       "      <td>Bearce</td>\n",
       "      <td>528</td>\n",
       "      <td>France</td>\n",
       "      <td>Male</td>\n",
       "      <td>31</td>\n",
       "      <td>6.0</td>\n",
       "      <td>102016.72</td>\n",
       "      <td>2</td>\n",
       "      <td>0</td>\n",
       "      <td>0</td>\n",
       "      <td>80181.12</td>\n",
       "      <td>0</td>\n",
       "    </tr>\n",
       "    <tr>\n",
       "      <th>11</th>\n",
       "      <td>12</td>\n",
       "      <td>15737173</td>\n",
       "      <td>Andrews</td>\n",
       "      <td>497</td>\n",
       "      <td>Spain</td>\n",
       "      <td>Male</td>\n",
       "      <td>24</td>\n",
       "      <td>3.0</td>\n",
       "      <td>0.00</td>\n",
       "      <td>2</td>\n",
       "      <td>1</td>\n",
       "      <td>0</td>\n",
       "      <td>76390.01</td>\n",
       "      <td>0</td>\n",
       "    </tr>\n",
       "    <tr>\n",
       "      <th>12</th>\n",
       "      <td>13</td>\n",
       "      <td>15632264</td>\n",
       "      <td>Kay</td>\n",
       "      <td>476</td>\n",
       "      <td>France</td>\n",
       "      <td>Female</td>\n",
       "      <td>34</td>\n",
       "      <td>10.0</td>\n",
       "      <td>0.00</td>\n",
       "      <td>2</td>\n",
       "      <td>1</td>\n",
       "      <td>0</td>\n",
       "      <td>26260.98</td>\n",
       "      <td>0</td>\n",
       "    </tr>\n",
       "    <tr>\n",
       "      <th>13</th>\n",
       "      <td>14</td>\n",
       "      <td>15691483</td>\n",
       "      <td>Chin</td>\n",
       "      <td>549</td>\n",
       "      <td>France</td>\n",
       "      <td>Female</td>\n",
       "      <td>25</td>\n",
       "      <td>5.0</td>\n",
       "      <td>0.00</td>\n",
       "      <td>2</td>\n",
       "      <td>0</td>\n",
       "      <td>0</td>\n",
       "      <td>190857.79</td>\n",
       "      <td>0</td>\n",
       "    </tr>\n",
       "    <tr>\n",
       "      <th>14</th>\n",
       "      <td>15</td>\n",
       "      <td>15600882</td>\n",
       "      <td>Scott</td>\n",
       "      <td>635</td>\n",
       "      <td>Spain</td>\n",
       "      <td>Female</td>\n",
       "      <td>35</td>\n",
       "      <td>7.0</td>\n",
       "      <td>0.00</td>\n",
       "      <td>2</td>\n",
       "      <td>1</td>\n",
       "      <td>1</td>\n",
       "      <td>65951.65</td>\n",
       "      <td>0</td>\n",
       "    </tr>\n",
       "    <tr>\n",
       "      <th>15</th>\n",
       "      <td>16</td>\n",
       "      <td>15643966</td>\n",
       "      <td>Goforth</td>\n",
       "      <td>616</td>\n",
       "      <td>Germany</td>\n",
       "      <td>Male</td>\n",
       "      <td>45</td>\n",
       "      <td>3.0</td>\n",
       "      <td>143129.41</td>\n",
       "      <td>2</td>\n",
       "      <td>0</td>\n",
       "      <td>1</td>\n",
       "      <td>64327.26</td>\n",
       "      <td>0</td>\n",
       "    </tr>\n",
       "    <tr>\n",
       "      <th>16</th>\n",
       "      <td>17</td>\n",
       "      <td>15737452</td>\n",
       "      <td>Romeo</td>\n",
       "      <td>653</td>\n",
       "      <td>Germany</td>\n",
       "      <td>Male</td>\n",
       "      <td>58</td>\n",
       "      <td>1.0</td>\n",
       "      <td>132602.88</td>\n",
       "      <td>1</td>\n",
       "      <td>1</td>\n",
       "      <td>0</td>\n",
       "      <td>5097.67</td>\n",
       "      <td>1</td>\n",
       "    </tr>\n",
       "    <tr>\n",
       "      <th>17</th>\n",
       "      <td>18</td>\n",
       "      <td>15788218</td>\n",
       "      <td>Henderson</td>\n",
       "      <td>549</td>\n",
       "      <td>Spain</td>\n",
       "      <td>Female</td>\n",
       "      <td>24</td>\n",
       "      <td>9.0</td>\n",
       "      <td>0.00</td>\n",
       "      <td>2</td>\n",
       "      <td>1</td>\n",
       "      <td>1</td>\n",
       "      <td>14406.41</td>\n",
       "      <td>0</td>\n",
       "    </tr>\n",
       "    <tr>\n",
       "      <th>18</th>\n",
       "      <td>19</td>\n",
       "      <td>15661507</td>\n",
       "      <td>Muldrow</td>\n",
       "      <td>587</td>\n",
       "      <td>Spain</td>\n",
       "      <td>Male</td>\n",
       "      <td>45</td>\n",
       "      <td>6.0</td>\n",
       "      <td>0.00</td>\n",
       "      <td>1</td>\n",
       "      <td>0</td>\n",
       "      <td>0</td>\n",
       "      <td>158684.81</td>\n",
       "      <td>0</td>\n",
       "    </tr>\n",
       "    <tr>\n",
       "      <th>19</th>\n",
       "      <td>20</td>\n",
       "      <td>15568982</td>\n",
       "      <td>Hao</td>\n",
       "      <td>726</td>\n",
       "      <td>France</td>\n",
       "      <td>Female</td>\n",
       "      <td>24</td>\n",
       "      <td>6.0</td>\n",
       "      <td>0.00</td>\n",
       "      <td>2</td>\n",
       "      <td>1</td>\n",
       "      <td>1</td>\n",
       "      <td>54724.03</td>\n",
       "      <td>0</td>\n",
       "    </tr>\n",
       "  </tbody>\n",
       "</table>\n",
       "</div>"
      ],
      "text/plain": [
       "    RowNumber  CustomerId    Surname  CreditScore Geography  Gender  Age  \\\n",
       "0           1    15634602   Hargrave          619    France  Female   42   \n",
       "1           2    15647311       Hill          608     Spain  Female   41   \n",
       "2           3    15619304       Onio          502    France  Female   42   \n",
       "3           4    15701354       Boni          699    France  Female   39   \n",
       "4           5    15737888   Mitchell          850     Spain  Female   43   \n",
       "5           6    15574012        Chu          645     Spain    Male   44   \n",
       "6           7    15592531   Bartlett          822    France    Male   50   \n",
       "7           8    15656148     Obinna          376   Germany  Female   29   \n",
       "8           9    15792365         He          501    France    Male   44   \n",
       "9          10    15592389         H?          684    France    Male   27   \n",
       "10         11    15767821     Bearce          528    France    Male   31   \n",
       "11         12    15737173    Andrews          497     Spain    Male   24   \n",
       "12         13    15632264        Kay          476    France  Female   34   \n",
       "13         14    15691483       Chin          549    France  Female   25   \n",
       "14         15    15600882      Scott          635     Spain  Female   35   \n",
       "15         16    15643966    Goforth          616   Germany    Male   45   \n",
       "16         17    15737452      Romeo          653   Germany    Male   58   \n",
       "17         18    15788218  Henderson          549     Spain  Female   24   \n",
       "18         19    15661507    Muldrow          587     Spain    Male   45   \n",
       "19         20    15568982        Hao          726    France  Female   24   \n",
       "\n",
       "    Tenure    Balance  NumOfProducts  HasCrCard  IsActiveMember  \\\n",
       "0      2.0       0.00              1          1               1   \n",
       "1      1.0   83807.86              1          0               1   \n",
       "2      8.0  159660.80              3          1               0   \n",
       "3      1.0       0.00              2          0               0   \n",
       "4      2.0  125510.82              1          1               1   \n",
       "5      8.0  113755.78              2          1               0   \n",
       "6      7.0       0.00              2          1               1   \n",
       "7      4.0  115046.74              4          1               0   \n",
       "8      4.0  142051.07              2          0               1   \n",
       "9      2.0  134603.88              1          1               1   \n",
       "10     6.0  102016.72              2          0               0   \n",
       "11     3.0       0.00              2          1               0   \n",
       "12    10.0       0.00              2          1               0   \n",
       "13     5.0       0.00              2          0               0   \n",
       "14     7.0       0.00              2          1               1   \n",
       "15     3.0  143129.41              2          0               1   \n",
       "16     1.0  132602.88              1          1               0   \n",
       "17     9.0       0.00              2          1               1   \n",
       "18     6.0       0.00              1          0               0   \n",
       "19     6.0       0.00              2          1               1   \n",
       "\n",
       "    EstimatedSalary  Exited  \n",
       "0         101348.88       1  \n",
       "1         112542.58       0  \n",
       "2         113931.57       1  \n",
       "3          93826.63       0  \n",
       "4          79084.10       0  \n",
       "5         149756.71       1  \n",
       "6          10062.80       0  \n",
       "7         119346.88       1  \n",
       "8          74940.50       0  \n",
       "9          71725.73       0  \n",
       "10         80181.12       0  \n",
       "11         76390.01       0  \n",
       "12         26260.98       0  \n",
       "13        190857.79       0  \n",
       "14         65951.65       0  \n",
       "15         64327.26       0  \n",
       "16          5097.67       1  \n",
       "17         14406.41       0  \n",
       "18        158684.81       0  \n",
       "19         54724.03       0  "
      ]
     },
     "execution_count": 44,
     "metadata": {},
     "output_type": "execute_result"
    }
   ],
   "source": [
    "import pandas as pd\n",
    "import numpy as np\n",
    "from sklearn.model_selection import train_test_split\n",
    "from sklearn.linear_model import LogisticRegression\n",
    "from sklearn.tree import DecisionTreeClassifier\n",
    "from sklearn.ensemble import RandomForestClassifier\n",
    "from sklearn.metrics import confusion_matrix\n",
    "from sklearn.metrics import f1_score\n",
    "from sklearn.preprocessing import StandardScaler\n",
    "from sklearn.metrics import roc_auc_score\n",
    "from sklearn.metrics import roc_curve \n",
    "from sklearn.metrics import accuracy_score \n",
    "from sklearn.metrics import recall_score\n",
    "from sklearn.metrics import precision_score\n",
    "from sklearn.dummy import DummyClassifier\n",
    "import matplotlib.pyplot as plt\n",
    "\n",
    "\n",
    "data = pd.read_csv('Churn.csv')\n",
    "data.head(20)"
   ]
  },
  {
   "cell_type": "markdown",
   "metadata": {},
   "source": [
    "Выведем общую информацию:"
   ]
  },
  {
   "cell_type": "code",
   "execution_count": 45,
   "metadata": {},
   "outputs": [
    {
     "name": "stdout",
     "output_type": "stream",
     "text": [
      "<class 'pandas.core.frame.DataFrame'>\n",
      "RangeIndex: 10000 entries, 0 to 9999\n",
      "Data columns (total 14 columns):\n",
      " #   Column           Non-Null Count  Dtype  \n",
      "---  ------           --------------  -----  \n",
      " 0   RowNumber        10000 non-null  int64  \n",
      " 1   CustomerId       10000 non-null  int64  \n",
      " 2   Surname          10000 non-null  object \n",
      " 3   CreditScore      10000 non-null  int64  \n",
      " 4   Geography        10000 non-null  object \n",
      " 5   Gender           10000 non-null  object \n",
      " 6   Age              10000 non-null  int64  \n",
      " 7   Tenure           9091 non-null   float64\n",
      " 8   Balance          10000 non-null  float64\n",
      " 9   NumOfProducts    10000 non-null  int64  \n",
      " 10  HasCrCard        10000 non-null  int64  \n",
      " 11  IsActiveMember   10000 non-null  int64  \n",
      " 12  EstimatedSalary  10000 non-null  float64\n",
      " 13  Exited           10000 non-null  int64  \n",
      "dtypes: float64(3), int64(8), object(3)\n",
      "memory usage: 1.1+ MB\n"
     ]
    }
   ],
   "source": [
    "data.info()"
   ]
  },
  {
   "cell_type": "markdown",
   "metadata": {},
   "source": [
    "        RowNumber — индекс строки в данных\n",
    "        CustomerId — уникальный идентификатор клиента\n",
    "        Surname — фамилия\n",
    "        CreditScore — кредитный рейтинг\n",
    "        Geography — страна проживания\n",
    "        Gender — пол\n",
    "        Age — возраст\n",
    "        Tenure — сколько лет человек является клиентом банка\n",
    "        Balance — баланс на счёте\n",
    "        NumOfProducts — количество продуктов банка, используемых клиентом\n",
    "        HasCrCard — наличие кредитной карты\n",
    "        IsActiveMember — активность клиента\n",
    "        EstimatedSalary — предполагаемая зарплата\n",
    "        Exited — факт ухода клиента"
   ]
  },
  {
   "cell_type": "markdown",
   "metadata": {},
   "source": [
    "Все необходимые типы данных соответсвуют. Видим пропуски в столбце \"Tenure\" (сколько лет человек является клиентом банка) - около 9%. Данный параметр представляется важным и может сильно повлиять на результаты прогнозирования. Заполнить пропуски медианными значениями, нулевыми или случайными соответсвенно будет нецелесообразно, поэтому удалим эти строки. 9% это большой объем, но думаю данных будет достаточно для обучения и тестирования модели. \n",
    "\n",
    "Можно было бы заполнить столбец \"Tenure\", сделав его целевым и обучив модель, но в данном проекте думаю это будет лишним)\n",
    "\n",
    "\n",
    "Столбцы \"RowNumber\", \"CustomerId\", \"Surname\" не понадобятся в процессе обучения модели - их надо удалить."
   ]
  },
  {
   "cell_type": "code",
   "execution_count": 46,
   "metadata": {},
   "outputs": [
    {
     "data": {
      "text/html": [
       "<div>\n",
       "<style scoped>\n",
       "    .dataframe tbody tr th:only-of-type {\n",
       "        vertical-align: middle;\n",
       "    }\n",
       "\n",
       "    .dataframe tbody tr th {\n",
       "        vertical-align: top;\n",
       "    }\n",
       "\n",
       "    .dataframe thead th {\n",
       "        text-align: right;\n",
       "    }\n",
       "</style>\n",
       "<table border=\"1\" class=\"dataframe\">\n",
       "  <thead>\n",
       "    <tr style=\"text-align: right;\">\n",
       "      <th></th>\n",
       "      <th>CreditScore</th>\n",
       "      <th>Geography</th>\n",
       "      <th>Gender</th>\n",
       "      <th>Age</th>\n",
       "      <th>Tenure</th>\n",
       "      <th>Balance</th>\n",
       "      <th>NumOfProducts</th>\n",
       "      <th>HasCrCard</th>\n",
       "      <th>IsActiveMember</th>\n",
       "      <th>EstimatedSalary</th>\n",
       "      <th>Exited</th>\n",
       "    </tr>\n",
       "  </thead>\n",
       "  <tbody>\n",
       "    <tr>\n",
       "      <th>9086</th>\n",
       "      <td>800</td>\n",
       "      <td>France</td>\n",
       "      <td>Female</td>\n",
       "      <td>29</td>\n",
       "      <td>2.0</td>\n",
       "      <td>0.00</td>\n",
       "      <td>2</td>\n",
       "      <td>0</td>\n",
       "      <td>0</td>\n",
       "      <td>167773.55</td>\n",
       "      <td>0</td>\n",
       "    </tr>\n",
       "    <tr>\n",
       "      <th>9087</th>\n",
       "      <td>771</td>\n",
       "      <td>France</td>\n",
       "      <td>Male</td>\n",
       "      <td>39</td>\n",
       "      <td>5.0</td>\n",
       "      <td>0.00</td>\n",
       "      <td>2</td>\n",
       "      <td>1</td>\n",
       "      <td>0</td>\n",
       "      <td>96270.64</td>\n",
       "      <td>0</td>\n",
       "    </tr>\n",
       "    <tr>\n",
       "      <th>9088</th>\n",
       "      <td>516</td>\n",
       "      <td>France</td>\n",
       "      <td>Male</td>\n",
       "      <td>35</td>\n",
       "      <td>10.0</td>\n",
       "      <td>57369.61</td>\n",
       "      <td>1</td>\n",
       "      <td>1</td>\n",
       "      <td>1</td>\n",
       "      <td>101699.77</td>\n",
       "      <td>0</td>\n",
       "    </tr>\n",
       "    <tr>\n",
       "      <th>9089</th>\n",
       "      <td>709</td>\n",
       "      <td>France</td>\n",
       "      <td>Female</td>\n",
       "      <td>36</td>\n",
       "      <td>7.0</td>\n",
       "      <td>0.00</td>\n",
       "      <td>1</td>\n",
       "      <td>0</td>\n",
       "      <td>1</td>\n",
       "      <td>42085.58</td>\n",
       "      <td>1</td>\n",
       "    </tr>\n",
       "    <tr>\n",
       "      <th>9090</th>\n",
       "      <td>772</td>\n",
       "      <td>Germany</td>\n",
       "      <td>Male</td>\n",
       "      <td>42</td>\n",
       "      <td>3.0</td>\n",
       "      <td>75075.31</td>\n",
       "      <td>2</td>\n",
       "      <td>1</td>\n",
       "      <td>0</td>\n",
       "      <td>92888.52</td>\n",
       "      <td>1</td>\n",
       "    </tr>\n",
       "  </tbody>\n",
       "</table>\n",
       "</div>"
      ],
      "text/plain": [
       "      CreditScore Geography  Gender  Age  Tenure   Balance  NumOfProducts  \\\n",
       "9086          800    France  Female   29     2.0      0.00              2   \n",
       "9087          771    France    Male   39     5.0      0.00              2   \n",
       "9088          516    France    Male   35    10.0  57369.61              1   \n",
       "9089          709    France  Female   36     7.0      0.00              1   \n",
       "9090          772   Germany    Male   42     3.0  75075.31              2   \n",
       "\n",
       "      HasCrCard  IsActiveMember  EstimatedSalary  Exited  \n",
       "9086          0               0        167773.55       0  \n",
       "9087          1               0         96270.64       0  \n",
       "9088          1               1        101699.77       0  \n",
       "9089          0               1         42085.58       1  \n",
       "9090          1               0         92888.52       1  "
      ]
     },
     "execution_count": 46,
     "metadata": {},
     "output_type": "execute_result"
    }
   ],
   "source": [
    "data = data[(data['Tenure'].isna() != True)]\n",
    "data.drop(columns=['RowNumber','CustomerId','Surname'],axis=1, inplace=True)\n",
    "data.reset_index(drop= True , inplace= True )\n",
    "data.tail()"
   ]
  },
  {
   "cell_type": "code",
   "execution_count": 47,
   "metadata": {},
   "outputs": [
    {
     "data": {
      "text/plain": [
       "0"
      ]
     },
     "execution_count": 47,
     "metadata": {},
     "output_type": "execute_result"
    }
   ],
   "source": [
    "data.duplicated().sum()"
   ]
  },
  {
   "cell_type": "markdown",
   "metadata": {},
   "source": [
    "Дубликаты отсутсвуют."
   ]
  },
  {
   "cell_type": "markdown",
   "metadata": {},
   "source": [
    "Посмотрим уникальные значения категориальных переменных:"
   ]
  },
  {
   "cell_type": "code",
   "execution_count": 48,
   "metadata": {},
   "outputs": [
    {
     "data": {
      "text/plain": [
       "France     4550\n",
       "Germany    2293\n",
       "Spain      2248\n",
       "Name: Geography, dtype: int64"
      ]
     },
     "execution_count": 48,
     "metadata": {},
     "output_type": "execute_result"
    }
   ],
   "source": [
    "data['Geography'].value_counts()"
   ]
  },
  {
   "cell_type": "code",
   "execution_count": 49,
   "metadata": {},
   "outputs": [
    {
     "data": {
      "text/plain": [
       "Male      4974\n",
       "Female    4117\n",
       "Name: Gender, dtype: int64"
      ]
     },
     "execution_count": 49,
     "metadata": {},
     "output_type": "execute_result"
    }
   ],
   "source": [
    "data['Gender'].value_counts()"
   ]
  },
  {
   "cell_type": "code",
   "execution_count": 50,
   "metadata": {},
   "outputs": [
    {
     "data": {
      "text/plain": [
       "1    4687\n",
       "0    4404\n",
       "Name: IsActiveMember, dtype: int64"
      ]
     },
     "execution_count": 50,
     "metadata": {},
     "output_type": "execute_result"
    }
   ],
   "source": [
    "data['IsActiveMember'].value_counts()"
   ]
  },
  {
   "cell_type": "code",
   "execution_count": 51,
   "metadata": {},
   "outputs": [
    {
     "data": {
      "text/plain": [
       "0    7237\n",
       "1    1854\n",
       "Name: Exited, dtype: int64"
      ]
     },
     "execution_count": 51,
     "metadata": {},
     "output_type": "execute_result"
    }
   ],
   "source": [
    "data['Exited'].value_counts()"
   ]
  },
  {
   "cell_type": "markdown",
   "metadata": {},
   "source": [
    "С данными всё в порядке, аномальных занчений нет. 'Exited' является целевым признаком. "
   ]
  },
  {
   "cell_type": "markdown",
   "metadata": {},
   "source": [
    "Пострим матрицу рассеяния и таблицу кореляции, чтобы выявить зависимости в количественных переменных:"
   ]
  },
  {
   "cell_type": "code",
   "execution_count": 52,
   "metadata": {},
   "outputs": [
    {
     "data": {
      "image/png": "[encoded data removed]",
      "text/plain": [
       "<Figure size 1500x1500 with 81 Axes>"
      ]
     },
     "metadata": {},
     "output_type": "display_data"
    }
   ],
   "source": [
    "pd.plotting.scatter_matrix(data, figsize=(15, 15));"
   ]
  },
  {
   "cell_type": "markdown",
   "metadata": {},
   "source": [
    "Зависимостей не видно."
   ]
  },
  {
   "cell_type": "code",
   "execution_count": 53,
   "metadata": {},
   "outputs": [
    {
     "data": {
      "text/html": [
       "<div>\n",
       "<style scoped>\n",
       "    .dataframe tbody tr th:only-of-type {\n",
       "        vertical-align: middle;\n",
       "    }\n",
       "\n",
       "    .dataframe tbody tr th {\n",
       "        vertical-align: top;\n",
       "    }\n",
       "\n",
       "    .dataframe thead th {\n",
       "        text-align: right;\n",
       "    }\n",
       "</style>\n",
       "<table border=\"1\" class=\"dataframe\">\n",
       "  <thead>\n",
       "    <tr style=\"text-align: right;\">\n",
       "      <th></th>\n",
       "      <th>CreditScore</th>\n",
       "      <th>Age</th>\n",
       "      <th>Tenure</th>\n",
       "      <th>Balance</th>\n",
       "      <th>NumOfProducts</th>\n",
       "      <th>HasCrCard</th>\n",
       "      <th>IsActiveMember</th>\n",
       "      <th>EstimatedSalary</th>\n",
       "      <th>Exited</th>\n",
       "    </tr>\n",
       "  </thead>\n",
       "  <tbody>\n",
       "    <tr>\n",
       "      <th>CreditScore</th>\n",
       "      <td>1.000000</td>\n",
       "      <td>-0.004504</td>\n",
       "      <td>-0.000062</td>\n",
       "      <td>0.002804</td>\n",
       "      <td>0.011090</td>\n",
       "      <td>-0.003937</td>\n",
       "      <td>0.030947</td>\n",
       "      <td>0.005182</td>\n",
       "      <td>-0.023950</td>\n",
       "    </tr>\n",
       "    <tr>\n",
       "      <th>Age</th>\n",
       "      <td>-0.004504</td>\n",
       "      <td>1.000000</td>\n",
       "      <td>-0.013134</td>\n",
       "      <td>0.031481</td>\n",
       "      <td>-0.031877</td>\n",
       "      <td>-0.014129</td>\n",
       "      <td>0.082269</td>\n",
       "      <td>-0.007037</td>\n",
       "      <td>0.283017</td>\n",
       "    </tr>\n",
       "    <tr>\n",
       "      <th>Tenure</th>\n",
       "      <td>-0.000062</td>\n",
       "      <td>-0.013134</td>\n",
       "      <td>1.000000</td>\n",
       "      <td>-0.007911</td>\n",
       "      <td>0.011979</td>\n",
       "      <td>0.027232</td>\n",
       "      <td>-0.032178</td>\n",
       "      <td>0.010520</td>\n",
       "      <td>-0.016761</td>\n",
       "    </tr>\n",
       "    <tr>\n",
       "      <th>Balance</th>\n",
       "      <td>0.002804</td>\n",
       "      <td>0.031481</td>\n",
       "      <td>-0.007911</td>\n",
       "      <td>1.000000</td>\n",
       "      <td>-0.301858</td>\n",
       "      <td>-0.019055</td>\n",
       "      <td>-0.003285</td>\n",
       "      <td>0.014351</td>\n",
       "      <td>0.117218</td>\n",
       "    </tr>\n",
       "    <tr>\n",
       "      <th>NumOfProducts</th>\n",
       "      <td>0.011090</td>\n",
       "      <td>-0.031877</td>\n",
       "      <td>0.011979</td>\n",
       "      <td>-0.301858</td>\n",
       "      <td>1.000000</td>\n",
       "      <td>0.005805</td>\n",
       "      <td>0.009084</td>\n",
       "      <td>0.013990</td>\n",
       "      <td>-0.050271</td>\n",
       "    </tr>\n",
       "    <tr>\n",
       "      <th>HasCrCard</th>\n",
       "      <td>-0.003937</td>\n",
       "      <td>-0.014129</td>\n",
       "      <td>0.027232</td>\n",
       "      <td>-0.019055</td>\n",
       "      <td>0.005805</td>\n",
       "      <td>1.000000</td>\n",
       "      <td>-0.008810</td>\n",
       "      <td>-0.006136</td>\n",
       "      <td>-0.005411</td>\n",
       "    </tr>\n",
       "    <tr>\n",
       "      <th>IsActiveMember</th>\n",
       "      <td>0.030947</td>\n",
       "      <td>0.082269</td>\n",
       "      <td>-0.032178</td>\n",
       "      <td>-0.003285</td>\n",
       "      <td>0.009084</td>\n",
       "      <td>-0.008810</td>\n",
       "      <td>1.000000</td>\n",
       "      <td>-0.020049</td>\n",
       "      <td>-0.155062</td>\n",
       "    </tr>\n",
       "    <tr>\n",
       "      <th>EstimatedSalary</th>\n",
       "      <td>0.005182</td>\n",
       "      <td>-0.007037</td>\n",
       "      <td>0.010520</td>\n",
       "      <td>0.014351</td>\n",
       "      <td>0.013990</td>\n",
       "      <td>-0.006136</td>\n",
       "      <td>-0.020049</td>\n",
       "      <td>1.000000</td>\n",
       "      <td>0.016029</td>\n",
       "    </tr>\n",
       "    <tr>\n",
       "      <th>Exited</th>\n",
       "      <td>-0.023950</td>\n",
       "      <td>0.283017</td>\n",
       "      <td>-0.016761</td>\n",
       "      <td>0.117218</td>\n",
       "      <td>-0.050271</td>\n",
       "      <td>-0.005411</td>\n",
       "      <td>-0.155062</td>\n",
       "      <td>0.016029</td>\n",
       "      <td>1.000000</td>\n",
       "    </tr>\n",
       "  </tbody>\n",
       "</table>\n",
       "</div>"
      ],
      "text/plain": [
       "                 CreditScore       Age    Tenure   Balance  NumOfProducts  \\\n",
       "CreditScore         1.000000 -0.004504 -0.000062  0.002804       0.011090   \n",
       "Age                -0.004504  1.000000 -0.013134  0.031481      -0.031877   \n",
       "Tenure             -0.000062 -0.013134  1.000000 -0.007911       0.011979   \n",
       "Balance             0.002804  0.031481 -0.007911  1.000000      -0.301858   \n",
       "NumOfProducts       0.011090 -0.031877  0.011979 -0.301858       1.000000   \n",
       "HasCrCard          -0.003937 -0.014129  0.027232 -0.019055       0.005805   \n",
       "IsActiveMember      0.030947  0.082269 -0.032178 -0.003285       0.009084   \n",
       "EstimatedSalary     0.005182 -0.007037  0.010520  0.014351       0.013990   \n",
       "Exited             -0.023950  0.283017 -0.016761  0.117218      -0.050271   \n",
       "\n",
       "                 HasCrCard  IsActiveMember  EstimatedSalary    Exited  \n",
       "CreditScore      -0.003937        0.030947         0.005182 -0.023950  \n",
       "Age              -0.014129        0.082269        -0.007037  0.283017  \n",
       "Tenure            0.027232       -0.032178         0.010520 -0.016761  \n",
       "Balance          -0.019055       -0.003285         0.014351  0.117218  \n",
       "NumOfProducts     0.005805        0.009084         0.013990 -0.050271  \n",
       "HasCrCard         1.000000       -0.008810        -0.006136 -0.005411  \n",
       "IsActiveMember   -0.008810        1.000000        -0.020049 -0.155062  \n",
       "EstimatedSalary  -0.006136       -0.020049         1.000000  0.016029  \n",
       "Exited           -0.005411       -0.155062         0.016029  1.000000  "
      ]
     },
     "execution_count": 53,
     "metadata": {},
     "output_type": "execute_result"
    }
   ],
   "source": [
    " data.corr()"
   ]
  },
  {
   "cell_type": "markdown",
   "metadata": {},
   "source": [
    "Явной корреляции в данных не выявлено. Данные подходят для обучения модели."
   ]
  },
  {
   "cell_type": "markdown",
   "metadata": {},
   "source": [
    "Использем метод phik_matrix для оценки корреляции:"
   ]
  },
  {
   "cell_type": "code",
   "execution_count": 54,
   "metadata": {},
   "outputs": [
    {
     "name": "stdout",
     "output_type": "stream",
     "text": [
      "Requirement already satisfied: phik==0.10.0 in c:\\users\\rushan\\anaconda3\\envs\\ds_practicum_env\\lib\\site-packages (0.10.0)\n",
      "Requirement already satisfied: numpy>=1.15.4 in c:\\users\\rushan\\anaconda3\\envs\\ds_practicum_env\\lib\\site-packages (from phik==0.10.0) (1.22.3)\n",
      "Requirement already satisfied: scipy>=1.1.0 in c:\\users\\rushan\\anaconda3\\envs\\ds_practicum_env\\lib\\site-packages (from phik==0.10.0) (1.8.0)\n",
      "Requirement already satisfied: pandas>=0.23.4 in c:\\users\\rushan\\anaconda3\\envs\\ds_practicum_env\\lib\\site-packages (from phik==0.10.0) (1.2.4)\n",
      "Requirement already satisfied: matplotlib>=2.2.3 in c:\\users\\rushan\\anaconda3\\envs\\ds_practicum_env\\lib\\site-packages (from phik==0.10.0) (3.3.4)\n",
      "Requirement already satisfied: numba>=0.38.1 in c:\\users\\rushan\\anaconda3\\envs\\ds_practicum_env\\lib\\site-packages (from phik==0.10.0) (0.57.1)\n",
      "Requirement already satisfied: joblib>=0.14.1 in c:\\users\\rushan\\anaconda3\\envs\\ds_practicum_env\\lib\\site-packages (from phik==0.10.0) (1.2.0)\n",
      "Requirement already satisfied: cycler>=0.10 in c:\\users\\rushan\\anaconda3\\envs\\ds_practicum_env\\lib\\site-packages (from matplotlib>=2.2.3->phik==0.10.0) (0.11.0)\n",
      "Requirement already satisfied: kiwisolver>=1.0.1 in c:\\users\\rushan\\anaconda3\\envs\\ds_practicum_env\\lib\\site-packages (from matplotlib>=2.2.3->phik==0.10.0) (1.4.4)\n",
      "Requirement already satisfied: pillow>=6.2.0 in c:\\users\\rushan\\anaconda3\\envs\\ds_practicum_env\\lib\\site-packages (from matplotlib>=2.2.3->phik==0.10.0) (8.4.0)\n",
      "Requirement already satisfied: pyparsing!=2.0.4,!=2.1.2,!=2.1.6,>=2.0.3 in c:\\users\\rushan\\anaconda3\\envs\\ds_practicum_env\\lib\\site-packages (from matplotlib>=2.2.3->phik==0.10.0) (3.0.9)\n",
      "Requirement already satisfied: python-dateutil>=2.1 in c:\\users\\rushan\\anaconda3\\envs\\ds_practicum_env\\lib\\site-packages (from matplotlib>=2.2.3->phik==0.10.0) (2.8.2)\n",
      "Requirement already satisfied: llvmlite<0.41,>=0.40.0dev0 in c:\\users\\rushan\\anaconda3\\envs\\ds_practicum_env\\lib\\site-packages (from numba>=0.38.1->phik==0.10.0) (0.40.1)\n",
      "Requirement already satisfied: pytz>=2017.3 in c:\\users\\rushan\\anaconda3\\envs\\ds_practicum_env\\lib\\site-packages (from pandas>=0.23.4->phik==0.10.0) (2022.7)\n",
      "Requirement already satisfied: six>=1.5 in c:\\users\\rushan\\anaconda3\\envs\\ds_practicum_env\\lib\\site-packages (from python-dateutil>=2.1->matplotlib>=2.2.3->phik==0.10.0) (1.16.0)\n",
      "Note: you may need to restart the kernel to use updated packages.\n"
     ]
    }
   ],
   "source": [
    "pip install phik==0.10.0\n"
   ]
  },
  {
   "cell_type": "code",
   "execution_count": 55,
   "metadata": {},
   "outputs": [
    {
     "name": "stdout",
     "output_type": "stream",
     "text": [
      "interval columns not set, guessing: ['CreditScore', 'Age', 'Tenure', 'Balance', 'NumOfProducts', 'HasCrCard', 'IsActiveMember', 'EstimatedSalary', 'Exited']\n"
     ]
    },
    {
     "data": {
      "text/html": [
       "<div>\n",
       "<style scoped>\n",
       "    .dataframe tbody tr th:only-of-type {\n",
       "        vertical-align: middle;\n",
       "    }\n",
       "\n",
       "    .dataframe tbody tr th {\n",
       "        vertical-align: top;\n",
       "    }\n",
       "\n",
       "    .dataframe thead th {\n",
       "        text-align: right;\n",
       "    }\n",
       "</style>\n",
       "<table border=\"1\" class=\"dataframe\">\n",
       "  <thead>\n",
       "    <tr style=\"text-align: right;\">\n",
       "      <th></th>\n",
       "      <th>CreditScore</th>\n",
       "      <th>Geography</th>\n",
       "      <th>Gender</th>\n",
       "      <th>Age</th>\n",
       "      <th>Tenure</th>\n",
       "      <th>Balance</th>\n",
       "      <th>NumOfProducts</th>\n",
       "      <th>HasCrCard</th>\n",
       "      <th>IsActiveMember</th>\n",
       "      <th>EstimatedSalary</th>\n",
       "      <th>Exited</th>\n",
       "    </tr>\n",
       "  </thead>\n",
       "  <tbody>\n",
       "    <tr>\n",
       "      <th>CreditScore</th>\n",
       "      <td>1.000000</td>\n",
       "      <td>0.049082</td>\n",
       "      <td>0.000000</td>\n",
       "      <td>0.000000</td>\n",
       "      <td>0.000000</td>\n",
       "      <td>0.000000</td>\n",
       "      <td>0.040113</td>\n",
       "      <td>0.007910</td>\n",
       "      <td>0.041025</td>\n",
       "      <td>0.041021</td>\n",
       "      <td>0.092598</td>\n",
       "    </tr>\n",
       "    <tr>\n",
       "      <th>Geography</th>\n",
       "      <td>0.049082</td>\n",
       "      <td>1.000000</td>\n",
       "      <td>0.012121</td>\n",
       "      <td>0.083915</td>\n",
       "      <td>0.003879</td>\n",
       "      <td>0.464769</td>\n",
       "      <td>0.049003</td>\n",
       "      <td>0.006254</td>\n",
       "      <td>0.007572</td>\n",
       "      <td>0.018600</td>\n",
       "      <td>0.107284</td>\n",
       "    </tr>\n",
       "    <tr>\n",
       "      <th>Gender</th>\n",
       "      <td>0.000000</td>\n",
       "      <td>0.012121</td>\n",
       "      <td>1.000000</td>\n",
       "      <td>0.032615</td>\n",
       "      <td>0.031054</td>\n",
       "      <td>0.011366</td>\n",
       "      <td>0.069812</td>\n",
       "      <td>0.000000</td>\n",
       "      <td>0.035291</td>\n",
       "      <td>0.025059</td>\n",
       "      <td>0.171438</td>\n",
       "    </tr>\n",
       "    <tr>\n",
       "      <th>Age</th>\n",
       "      <td>0.000000</td>\n",
       "      <td>0.083915</td>\n",
       "      <td>0.032615</td>\n",
       "      <td>1.000000</td>\n",
       "      <td>0.046402</td>\n",
       "      <td>0.028647</td>\n",
       "      <td>0.144832</td>\n",
       "      <td>0.031990</td>\n",
       "      <td>0.188602</td>\n",
       "      <td>0.055886</td>\n",
       "      <td>0.486531</td>\n",
       "    </tr>\n",
       "    <tr>\n",
       "      <th>Tenure</th>\n",
       "      <td>0.000000</td>\n",
       "      <td>0.003879</td>\n",
       "      <td>0.031054</td>\n",
       "      <td>0.046402</td>\n",
       "      <td>1.000000</td>\n",
       "      <td>0.063973</td>\n",
       "      <td>0.060387</td>\n",
       "      <td>0.031409</td>\n",
       "      <td>0.027321</td>\n",
       "      <td>0.000000</td>\n",
       "      <td>0.020845</td>\n",
       "    </tr>\n",
       "    <tr>\n",
       "      <th>Balance</th>\n",
       "      <td>0.000000</td>\n",
       "      <td>0.464769</td>\n",
       "      <td>0.011366</td>\n",
       "      <td>0.028647</td>\n",
       "      <td>0.063973</td>\n",
       "      <td>1.000000</td>\n",
       "      <td>0.374296</td>\n",
       "      <td>0.053707</td>\n",
       "      <td>0.000000</td>\n",
       "      <td>0.000000</td>\n",
       "      <td>0.185118</td>\n",
       "    </tr>\n",
       "    <tr>\n",
       "      <th>NumOfProducts</th>\n",
       "      <td>0.040113</td>\n",
       "      <td>0.049003</td>\n",
       "      <td>0.069812</td>\n",
       "      <td>0.144832</td>\n",
       "      <td>0.060387</td>\n",
       "      <td>0.374296</td>\n",
       "      <td>1.000000</td>\n",
       "      <td>0.000000</td>\n",
       "      <td>0.057994</td>\n",
       "      <td>0.027493</td>\n",
       "      <td>0.560950</td>\n",
       "    </tr>\n",
       "    <tr>\n",
       "      <th>HasCrCard</th>\n",
       "      <td>0.007910</td>\n",
       "      <td>0.006254</td>\n",
       "      <td>0.000000</td>\n",
       "      <td>0.031990</td>\n",
       "      <td>0.031409</td>\n",
       "      <td>0.053707</td>\n",
       "      <td>0.000000</td>\n",
       "      <td>1.000000</td>\n",
       "      <td>0.000000</td>\n",
       "      <td>0.000000</td>\n",
       "      <td>0.000000</td>\n",
       "    </tr>\n",
       "    <tr>\n",
       "      <th>IsActiveMember</th>\n",
       "      <td>0.041025</td>\n",
       "      <td>0.007572</td>\n",
       "      <td>0.035291</td>\n",
       "      <td>0.188602</td>\n",
       "      <td>0.027321</td>\n",
       "      <td>0.000000</td>\n",
       "      <td>0.057994</td>\n",
       "      <td>0.000000</td>\n",
       "      <td>1.000000</td>\n",
       "      <td>0.035863</td>\n",
       "      <td>0.240225</td>\n",
       "    </tr>\n",
       "    <tr>\n",
       "      <th>EstimatedSalary</th>\n",
       "      <td>0.041021</td>\n",
       "      <td>0.018600</td>\n",
       "      <td>0.025059</td>\n",
       "      <td>0.055886</td>\n",
       "      <td>0.000000</td>\n",
       "      <td>0.000000</td>\n",
       "      <td>0.027493</td>\n",
       "      <td>0.000000</td>\n",
       "      <td>0.035863</td>\n",
       "      <td>1.000000</td>\n",
       "      <td>0.000000</td>\n",
       "    </tr>\n",
       "    <tr>\n",
       "      <th>Exited</th>\n",
       "      <td>0.092598</td>\n",
       "      <td>0.107284</td>\n",
       "      <td>0.171438</td>\n",
       "      <td>0.486531</td>\n",
       "      <td>0.020845</td>\n",
       "      <td>0.185118</td>\n",
       "      <td>0.560950</td>\n",
       "      <td>0.000000</td>\n",
       "      <td>0.240225</td>\n",
       "      <td>0.000000</td>\n",
       "      <td>1.000000</td>\n",
       "    </tr>\n",
       "  </tbody>\n",
       "</table>\n",
       "</div>"
      ],
      "text/plain": [
       "                 CreditScore  Geography    Gender       Age    Tenure  \\\n",
       "CreditScore         1.000000   0.049082  0.000000  0.000000  0.000000   \n",
       "Geography           0.049082   1.000000  0.012121  0.083915  0.003879   \n",
       "Gender              0.000000   0.012121  1.000000  0.032615  0.031054   \n",
       "Age                 0.000000   0.083915  0.032615  1.000000  0.046402   \n",
       "Tenure              0.000000   0.003879  0.031054  0.046402  1.000000   \n",
       "Balance             0.000000   0.464769  0.011366  0.028647  0.063973   \n",
       "NumOfProducts       0.040113   0.049003  0.069812  0.144832  0.060387   \n",
       "HasCrCard           0.007910   0.006254  0.000000  0.031990  0.031409   \n",
       "IsActiveMember      0.041025   0.007572  0.035291  0.188602  0.027321   \n",
       "EstimatedSalary     0.041021   0.018600  0.025059  0.055886  0.000000   \n",
       "Exited              0.092598   0.107284  0.171438  0.486531  0.020845   \n",
       "\n",
       "                  Balance  NumOfProducts  HasCrCard  IsActiveMember  \\\n",
       "CreditScore      0.000000       0.040113   0.007910        0.041025   \n",
       "Geography        0.464769       0.049003   0.006254        0.007572   \n",
       "Gender           0.011366       0.069812   0.000000        0.035291   \n",
       "Age              0.028647       0.144832   0.031990        0.188602   \n",
       "Tenure           0.063973       0.060387   0.031409        0.027321   \n",
       "Balance          1.000000       0.374296   0.053707        0.000000   \n",
       "NumOfProducts    0.374296       1.000000   0.000000        0.057994   \n",
       "HasCrCard        0.053707       0.000000   1.000000        0.000000   \n",
       "IsActiveMember   0.000000       0.057994   0.000000        1.000000   \n",
       "EstimatedSalary  0.000000       0.027493   0.000000        0.035863   \n",
       "Exited           0.185118       0.560950   0.000000        0.240225   \n",
       "\n",
       "                 EstimatedSalary    Exited  \n",
       "CreditScore             0.041021  0.092598  \n",
       "Geography               0.018600  0.107284  \n",
       "Gender                  0.025059  0.171438  \n",
       "Age                     0.055886  0.486531  \n",
       "Tenure                  0.000000  0.020845  \n",
       "Balance                 0.000000  0.185118  \n",
       "NumOfProducts           0.027493  0.560950  \n",
       "HasCrCard               0.000000  0.000000  \n",
       "IsActiveMember          0.035863  0.240225  \n",
       "EstimatedSalary         1.000000  0.000000  \n",
       "Exited                  0.000000  1.000000  "
      ]
     },
     "execution_count": 55,
     "metadata": {},
     "output_type": "execute_result"
    }
   ],
   "source": [
    "import phik\n",
    "data.phik_matrix()"
   ]
  },
  {
   "cell_type": "code",
   "execution_count": 56,
   "metadata": {},
   "outputs": [
    {
     "name": "stdout",
     "output_type": "stream",
     "text": [
      "interval columns not set, guessing: ['CreditScore', 'Age', 'Tenure', 'Balance', 'NumOfProducts', 'HasCrCard', 'IsActiveMember', 'EstimatedSalary', 'Exited']\n"
     ]
    },
    {
     "data": {
      "text/plain": [
       "<AxesSubplot:>"
      ]
     },
     "execution_count": 56,
     "metadata": {},
     "output_type": "execute_result"
    },
    {
     "data": {
      "image/png": "[encoded data removed]",
      "text/plain": [
       "<Figure size 640x480 with 2 Axes>"
      ]
     },
     "metadata": {},
     "output_type": "display_data"
    }
   ],
   "source": [
    "import seaborn as sns\n",
    "sns.heatmap(data.phik_matrix())"
   ]
  },
  {
   "cell_type": "markdown",
   "metadata": {},
   "source": [
    "Используя метод phik_matrix можно заметить корреляцию между Geography и  Balance, а так же видим взаимосвязь целевого признака Exited\tс признаками Age и NumOfProducts.\n"
   ]
  },
  {
   "cell_type": "markdown",
   "metadata": {},
   "source": [
    "Применим прямое кодирование ко всему датафрейму. Вызовим функцию pd.get_dummies() c аргументом drop_first. Сохраним таблицу в переменной data_ohe."
   ]
  },
  {
   "cell_type": "code",
   "execution_count": 57,
   "metadata": {},
   "outputs": [],
   "source": [
    "data_ohe = pd.get_dummies(data, drop_first=True)"
   ]
  },
  {
   "cell_type": "code",
   "execution_count": 58,
   "metadata": {},
   "outputs": [
    {
     "data": {
      "text/html": [
       "<div>\n",
       "<style scoped>\n",
       "    .dataframe tbody tr th:only-of-type {\n",
       "        vertical-align: middle;\n",
       "    }\n",
       "\n",
       "    .dataframe tbody tr th {\n",
       "        vertical-align: top;\n",
       "    }\n",
       "\n",
       "    .dataframe thead tr th {\n",
       "        text-align: left;\n",
       "    }\n",
       "</style>\n",
       "<table border=\"1\" class=\"dataframe\">\n",
       "  <thead>\n",
       "    <tr>\n",
       "      <th></th>\n",
       "      <th>Female</th>\n",
       "      <th>Male</th>\n",
       "    </tr>\n",
       "  </thead>\n",
       "  <tbody>\n",
       "    <tr>\n",
       "      <th>9086</th>\n",
       "      <td>1.0</td>\n",
       "      <td>0.0</td>\n",
       "    </tr>\n",
       "    <tr>\n",
       "      <th>9087</th>\n",
       "      <td>0.0</td>\n",
       "      <td>1.0</td>\n",
       "    </tr>\n",
       "    <tr>\n",
       "      <th>9088</th>\n",
       "      <td>0.0</td>\n",
       "      <td>1.0</td>\n",
       "    </tr>\n",
       "    <tr>\n",
       "      <th>9089</th>\n",
       "      <td>1.0</td>\n",
       "      <td>0.0</td>\n",
       "    </tr>\n",
       "    <tr>\n",
       "      <th>9090</th>\n",
       "      <td>0.0</td>\n",
       "      <td>1.0</td>\n",
       "    </tr>\n",
       "  </tbody>\n",
       "</table>\n",
       "</div>"
      ],
      "text/plain": [
       "     Female Male\n",
       "9086    1.0  0.0\n",
       "9087    0.0  1.0\n",
       "9088    0.0  1.0\n",
       "9089    1.0  0.0\n",
       "9090    0.0  1.0"
      ]
     },
     "execution_count": 58,
     "metadata": {},
     "output_type": "execute_result"
    }
   ],
   "source": [
    "from sklearn.preprocessing import OneHotEncoder\n",
    "\n",
    "ohe = OneHotEncoder()\n",
    "ohe_encoder = ohe.fit_transform(data['Gender'].values.reshape(-1, 1)) \n",
    "data_encoder = pd.DataFrame(ohe_encoder.toarray(), columns=ohe.categories_)\n",
    "data_encoder.tail()"
   ]
  },
  {
   "cell_type": "code",
   "execution_count": 59,
   "metadata": {},
   "outputs": [
    {
     "data": {
      "text/html": [
       "<div>\n",
       "<style scoped>\n",
       "    .dataframe tbody tr th:only-of-type {\n",
       "        vertical-align: middle;\n",
       "    }\n",
       "\n",
       "    .dataframe tbody tr th {\n",
       "        vertical-align: top;\n",
       "    }\n",
       "\n",
       "    .dataframe thead th {\n",
       "        text-align: right;\n",
       "    }\n",
       "</style>\n",
       "<table border=\"1\" class=\"dataframe\">\n",
       "  <thead>\n",
       "    <tr style=\"text-align: right;\">\n",
       "      <th></th>\n",
       "      <th>CreditScore</th>\n",
       "      <th>Geography</th>\n",
       "      <th>Gender</th>\n",
       "      <th>Age</th>\n",
       "      <th>Tenure</th>\n",
       "      <th>Balance</th>\n",
       "      <th>NumOfProducts</th>\n",
       "      <th>HasCrCard</th>\n",
       "      <th>IsActiveMember</th>\n",
       "      <th>EstimatedSalary</th>\n",
       "      <th>Exited</th>\n",
       "      <th>(Female,)</th>\n",
       "      <th>(Male,)</th>\n",
       "    </tr>\n",
       "  </thead>\n",
       "  <tbody>\n",
       "    <tr>\n",
       "      <th>0</th>\n",
       "      <td>619</td>\n",
       "      <td>France</td>\n",
       "      <td>Female</td>\n",
       "      <td>42</td>\n",
       "      <td>2.0</td>\n",
       "      <td>0.00</td>\n",
       "      <td>1</td>\n",
       "      <td>1</td>\n",
       "      <td>1</td>\n",
       "      <td>101348.88</td>\n",
       "      <td>1</td>\n",
       "      <td>1.0</td>\n",
       "      <td>0.0</td>\n",
       "    </tr>\n",
       "    <tr>\n",
       "      <th>1</th>\n",
       "      <td>608</td>\n",
       "      <td>Spain</td>\n",
       "      <td>Female</td>\n",
       "      <td>41</td>\n",
       "      <td>1.0</td>\n",
       "      <td>83807.86</td>\n",
       "      <td>1</td>\n",
       "      <td>0</td>\n",
       "      <td>1</td>\n",
       "      <td>112542.58</td>\n",
       "      <td>0</td>\n",
       "      <td>1.0</td>\n",
       "      <td>0.0</td>\n",
       "    </tr>\n",
       "    <tr>\n",
       "      <th>2</th>\n",
       "      <td>502</td>\n",
       "      <td>France</td>\n",
       "      <td>Female</td>\n",
       "      <td>42</td>\n",
       "      <td>8.0</td>\n",
       "      <td>159660.80</td>\n",
       "      <td>3</td>\n",
       "      <td>1</td>\n",
       "      <td>0</td>\n",
       "      <td>113931.57</td>\n",
       "      <td>1</td>\n",
       "      <td>1.0</td>\n",
       "      <td>0.0</td>\n",
       "    </tr>\n",
       "    <tr>\n",
       "      <th>3</th>\n",
       "      <td>699</td>\n",
       "      <td>France</td>\n",
       "      <td>Female</td>\n",
       "      <td>39</td>\n",
       "      <td>1.0</td>\n",
       "      <td>0.00</td>\n",
       "      <td>2</td>\n",
       "      <td>0</td>\n",
       "      <td>0</td>\n",
       "      <td>93826.63</td>\n",
       "      <td>0</td>\n",
       "      <td>1.0</td>\n",
       "      <td>0.0</td>\n",
       "    </tr>\n",
       "    <tr>\n",
       "      <th>4</th>\n",
       "      <td>850</td>\n",
       "      <td>Spain</td>\n",
       "      <td>Female</td>\n",
       "      <td>43</td>\n",
       "      <td>2.0</td>\n",
       "      <td>125510.82</td>\n",
       "      <td>1</td>\n",
       "      <td>1</td>\n",
       "      <td>1</td>\n",
       "      <td>79084.10</td>\n",
       "      <td>0</td>\n",
       "      <td>1.0</td>\n",
       "      <td>0.0</td>\n",
       "    </tr>\n",
       "    <tr>\n",
       "      <th>...</th>\n",
       "      <td>...</td>\n",
       "      <td>...</td>\n",
       "      <td>...</td>\n",
       "      <td>...</td>\n",
       "      <td>...</td>\n",
       "      <td>...</td>\n",
       "      <td>...</td>\n",
       "      <td>...</td>\n",
       "      <td>...</td>\n",
       "      <td>...</td>\n",
       "      <td>...</td>\n",
       "      <td>...</td>\n",
       "      <td>...</td>\n",
       "    </tr>\n",
       "    <tr>\n",
       "      <th>9086</th>\n",
       "      <td>800</td>\n",
       "      <td>France</td>\n",
       "      <td>Female</td>\n",
       "      <td>29</td>\n",
       "      <td>2.0</td>\n",
       "      <td>0.00</td>\n",
       "      <td>2</td>\n",
       "      <td>0</td>\n",
       "      <td>0</td>\n",
       "      <td>167773.55</td>\n",
       "      <td>0</td>\n",
       "      <td>1.0</td>\n",
       "      <td>0.0</td>\n",
       "    </tr>\n",
       "    <tr>\n",
       "      <th>9087</th>\n",
       "      <td>771</td>\n",
       "      <td>France</td>\n",
       "      <td>Male</td>\n",
       "      <td>39</td>\n",
       "      <td>5.0</td>\n",
       "      <td>0.00</td>\n",
       "      <td>2</td>\n",
       "      <td>1</td>\n",
       "      <td>0</td>\n",
       "      <td>96270.64</td>\n",
       "      <td>0</td>\n",
       "      <td>0.0</td>\n",
       "      <td>1.0</td>\n",
       "    </tr>\n",
       "    <tr>\n",
       "      <th>9088</th>\n",
       "      <td>516</td>\n",
       "      <td>France</td>\n",
       "      <td>Male</td>\n",
       "      <td>35</td>\n",
       "      <td>10.0</td>\n",
       "      <td>57369.61</td>\n",
       "      <td>1</td>\n",
       "      <td>1</td>\n",
       "      <td>1</td>\n",
       "      <td>101699.77</td>\n",
       "      <td>0</td>\n",
       "      <td>0.0</td>\n",
       "      <td>1.0</td>\n",
       "    </tr>\n",
       "    <tr>\n",
       "      <th>9089</th>\n",
       "      <td>709</td>\n",
       "      <td>France</td>\n",
       "      <td>Female</td>\n",
       "      <td>36</td>\n",
       "      <td>7.0</td>\n",
       "      <td>0.00</td>\n",
       "      <td>1</td>\n",
       "      <td>0</td>\n",
       "      <td>1</td>\n",
       "      <td>42085.58</td>\n",
       "      <td>1</td>\n",
       "      <td>1.0</td>\n",
       "      <td>0.0</td>\n",
       "    </tr>\n",
       "    <tr>\n",
       "      <th>9090</th>\n",
       "      <td>772</td>\n",
       "      <td>Germany</td>\n",
       "      <td>Male</td>\n",
       "      <td>42</td>\n",
       "      <td>3.0</td>\n",
       "      <td>75075.31</td>\n",
       "      <td>2</td>\n",
       "      <td>1</td>\n",
       "      <td>0</td>\n",
       "      <td>92888.52</td>\n",
       "      <td>1</td>\n",
       "      <td>0.0</td>\n",
       "      <td>1.0</td>\n",
       "    </tr>\n",
       "  </tbody>\n",
       "</table>\n",
       "<p>9091 rows × 13 columns</p>\n",
       "</div>"
      ],
      "text/plain": [
       "      CreditScore Geography  Gender  Age  Tenure    Balance  NumOfProducts  \\\n",
       "0             619    France  Female   42     2.0       0.00              1   \n",
       "1             608     Spain  Female   41     1.0   83807.86              1   \n",
       "2             502    France  Female   42     8.0  159660.80              3   \n",
       "3             699    France  Female   39     1.0       0.00              2   \n",
       "4             850     Spain  Female   43     2.0  125510.82              1   \n",
       "...           ...       ...     ...  ...     ...        ...            ...   \n",
       "9086          800    France  Female   29     2.0       0.00              2   \n",
       "9087          771    France    Male   39     5.0       0.00              2   \n",
       "9088          516    France    Male   35    10.0   57369.61              1   \n",
       "9089          709    France  Female   36     7.0       0.00              1   \n",
       "9090          772   Germany    Male   42     3.0   75075.31              2   \n",
       "\n",
       "      HasCrCard  IsActiveMember  EstimatedSalary  Exited  (Female,)  (Male,)  \n",
       "0             1               1        101348.88       1        1.0      0.0  \n",
       "1             0               1        112542.58       0        1.0      0.0  \n",
       "2             1               0        113931.57       1        1.0      0.0  \n",
       "3             0               0         93826.63       0        1.0      0.0  \n",
       "4             1               1         79084.10       0        1.0      0.0  \n",
       "...         ...             ...              ...     ...        ...      ...  \n",
       "9086          0               0        167773.55       0        1.0      0.0  \n",
       "9087          1               0         96270.64       0        0.0      1.0  \n",
       "9088          1               1        101699.77       0        0.0      1.0  \n",
       "9089          0               1         42085.58       1        1.0      0.0  \n",
       "9090          1               0         92888.52       1        0.0      1.0  \n",
       "\n",
       "[9091 rows x 13 columns]"
      ]
     },
     "execution_count": 59,
     "metadata": {},
     "output_type": "execute_result"
    }
   ],
   "source": [
    "final_data = data.join(data_encoder, how ='left')\n",
    "final_data"
   ]
  },
  {
   "cell_type": "markdown",
   "metadata": {},
   "source": [
    "Посмотрим на получившуюся таблицу:"
   ]
  },
  {
   "cell_type": "code",
   "execution_count": 60,
   "metadata": {},
   "outputs": [
    {
     "data": {
      "text/html": [
       "<div>\n",
       "<style scoped>\n",
       "    .dataframe tbody tr th:only-of-type {\n",
       "        vertical-align: middle;\n",
       "    }\n",
       "\n",
       "    .dataframe tbody tr th {\n",
       "        vertical-align: top;\n",
       "    }\n",
       "\n",
       "    .dataframe thead th {\n",
       "        text-align: right;\n",
       "    }\n",
       "</style>\n",
       "<table border=\"1\" class=\"dataframe\">\n",
       "  <thead>\n",
       "    <tr style=\"text-align: right;\">\n",
       "      <th></th>\n",
       "      <th>CreditScore</th>\n",
       "      <th>Age</th>\n",
       "      <th>Tenure</th>\n",
       "      <th>Balance</th>\n",
       "      <th>NumOfProducts</th>\n",
       "      <th>HasCrCard</th>\n",
       "      <th>IsActiveMember</th>\n",
       "      <th>EstimatedSalary</th>\n",
       "      <th>Exited</th>\n",
       "      <th>Geography_Germany</th>\n",
       "      <th>Geography_Spain</th>\n",
       "      <th>Gender_Male</th>\n",
       "    </tr>\n",
       "  </thead>\n",
       "  <tbody>\n",
       "    <tr>\n",
       "      <th>0</th>\n",
       "      <td>619</td>\n",
       "      <td>42</td>\n",
       "      <td>2.0</td>\n",
       "      <td>0.00</td>\n",
       "      <td>1</td>\n",
       "      <td>1</td>\n",
       "      <td>1</td>\n",
       "      <td>101348.88</td>\n",
       "      <td>1</td>\n",
       "      <td>0</td>\n",
       "      <td>0</td>\n",
       "      <td>0</td>\n",
       "    </tr>\n",
       "    <tr>\n",
       "      <th>1</th>\n",
       "      <td>608</td>\n",
       "      <td>41</td>\n",
       "      <td>1.0</td>\n",
       "      <td>83807.86</td>\n",
       "      <td>1</td>\n",
       "      <td>0</td>\n",
       "      <td>1</td>\n",
       "      <td>112542.58</td>\n",
       "      <td>0</td>\n",
       "      <td>0</td>\n",
       "      <td>1</td>\n",
       "      <td>0</td>\n",
       "    </tr>\n",
       "    <tr>\n",
       "      <th>2</th>\n",
       "      <td>502</td>\n",
       "      <td>42</td>\n",
       "      <td>8.0</td>\n",
       "      <td>159660.80</td>\n",
       "      <td>3</td>\n",
       "      <td>1</td>\n",
       "      <td>0</td>\n",
       "      <td>113931.57</td>\n",
       "      <td>1</td>\n",
       "      <td>0</td>\n",
       "      <td>0</td>\n",
       "      <td>0</td>\n",
       "    </tr>\n",
       "    <tr>\n",
       "      <th>3</th>\n",
       "      <td>699</td>\n",
       "      <td>39</td>\n",
       "      <td>1.0</td>\n",
       "      <td>0.00</td>\n",
       "      <td>2</td>\n",
       "      <td>0</td>\n",
       "      <td>0</td>\n",
       "      <td>93826.63</td>\n",
       "      <td>0</td>\n",
       "      <td>0</td>\n",
       "      <td>0</td>\n",
       "      <td>0</td>\n",
       "    </tr>\n",
       "    <tr>\n",
       "      <th>4</th>\n",
       "      <td>850</td>\n",
       "      <td>43</td>\n",
       "      <td>2.0</td>\n",
       "      <td>125510.82</td>\n",
       "      <td>1</td>\n",
       "      <td>1</td>\n",
       "      <td>1</td>\n",
       "      <td>79084.10</td>\n",
       "      <td>0</td>\n",
       "      <td>0</td>\n",
       "      <td>1</td>\n",
       "      <td>0</td>\n",
       "    </tr>\n",
       "    <tr>\n",
       "      <th>5</th>\n",
       "      <td>645</td>\n",
       "      <td>44</td>\n",
       "      <td>8.0</td>\n",
       "      <td>113755.78</td>\n",
       "      <td>2</td>\n",
       "      <td>1</td>\n",
       "      <td>0</td>\n",
       "      <td>149756.71</td>\n",
       "      <td>1</td>\n",
       "      <td>0</td>\n",
       "      <td>1</td>\n",
       "      <td>1</td>\n",
       "    </tr>\n",
       "    <tr>\n",
       "      <th>6</th>\n",
       "      <td>822</td>\n",
       "      <td>50</td>\n",
       "      <td>7.0</td>\n",
       "      <td>0.00</td>\n",
       "      <td>2</td>\n",
       "      <td>1</td>\n",
       "      <td>1</td>\n",
       "      <td>10062.80</td>\n",
       "      <td>0</td>\n",
       "      <td>0</td>\n",
       "      <td>0</td>\n",
       "      <td>1</td>\n",
       "    </tr>\n",
       "    <tr>\n",
       "      <th>7</th>\n",
       "      <td>376</td>\n",
       "      <td>29</td>\n",
       "      <td>4.0</td>\n",
       "      <td>115046.74</td>\n",
       "      <td>4</td>\n",
       "      <td>1</td>\n",
       "      <td>0</td>\n",
       "      <td>119346.88</td>\n",
       "      <td>1</td>\n",
       "      <td>1</td>\n",
       "      <td>0</td>\n",
       "      <td>0</td>\n",
       "    </tr>\n",
       "    <tr>\n",
       "      <th>8</th>\n",
       "      <td>501</td>\n",
       "      <td>44</td>\n",
       "      <td>4.0</td>\n",
       "      <td>142051.07</td>\n",
       "      <td>2</td>\n",
       "      <td>0</td>\n",
       "      <td>1</td>\n",
       "      <td>74940.50</td>\n",
       "      <td>0</td>\n",
       "      <td>0</td>\n",
       "      <td>0</td>\n",
       "      <td>1</td>\n",
       "    </tr>\n",
       "    <tr>\n",
       "      <th>9</th>\n",
       "      <td>684</td>\n",
       "      <td>27</td>\n",
       "      <td>2.0</td>\n",
       "      <td>134603.88</td>\n",
       "      <td>1</td>\n",
       "      <td>1</td>\n",
       "      <td>1</td>\n",
       "      <td>71725.73</td>\n",
       "      <td>0</td>\n",
       "      <td>0</td>\n",
       "      <td>0</td>\n",
       "      <td>1</td>\n",
       "    </tr>\n",
       "  </tbody>\n",
       "</table>\n",
       "</div>"
      ],
      "text/plain": [
       "   CreditScore  Age  Tenure    Balance  NumOfProducts  HasCrCard  \\\n",
       "0          619   42     2.0       0.00              1          1   \n",
       "1          608   41     1.0   83807.86              1          0   \n",
       "2          502   42     8.0  159660.80              3          1   \n",
       "3          699   39     1.0       0.00              2          0   \n",
       "4          850   43     2.0  125510.82              1          1   \n",
       "5          645   44     8.0  113755.78              2          1   \n",
       "6          822   50     7.0       0.00              2          1   \n",
       "7          376   29     4.0  115046.74              4          1   \n",
       "8          501   44     4.0  142051.07              2          0   \n",
       "9          684   27     2.0  134603.88              1          1   \n",
       "\n",
       "   IsActiveMember  EstimatedSalary  Exited  Geography_Germany  \\\n",
       "0               1        101348.88       1                  0   \n",
       "1               1        112542.58       0                  0   \n",
       "2               0        113931.57       1                  0   \n",
       "3               0         93826.63       0                  0   \n",
       "4               1         79084.10       0                  0   \n",
       "5               0        149756.71       1                  0   \n",
       "6               1         10062.80       0                  0   \n",
       "7               0        119346.88       1                  1   \n",
       "8               1         74940.50       0                  0   \n",
       "9               1         71725.73       0                  0   \n",
       "\n",
       "   Geography_Spain  Gender_Male  \n",
       "0                0            0  \n",
       "1                1            0  \n",
       "2                0            0  \n",
       "3                0            0  \n",
       "4                1            0  \n",
       "5                1            1  \n",
       "6                0            1  \n",
       "7                0            0  \n",
       "8                0            1  \n",
       "9                0            1  "
      ]
     },
     "execution_count": 60,
     "metadata": {},
     "output_type": "execute_result"
    }
   ],
   "source": [
    "data_ohe.head(10)"
   ]
  },
  {
   "cell_type": "markdown",
   "metadata": {},
   "source": [
    "Таблица стала шире. Появились новые столбцы: \"Geography_Germany\", \"Geography_Spain\",\"Gender_Male\". А столбцы \"Geography\" и \"Gender_Male\" исчезли."
   ]
  },
  {
   "cell_type": "code",
   "execution_count": 61,
   "metadata": {},
   "outputs": [
    {
     "name": "stdout",
     "output_type": "stream",
     "text": [
      "<class 'pandas.core.frame.DataFrame'>\n",
      "RangeIndex: 9091 entries, 0 to 9090\n",
      "Data columns (total 12 columns):\n",
      " #   Column             Non-Null Count  Dtype  \n",
      "---  ------             --------------  -----  \n",
      " 0   CreditScore        9091 non-null   int64  \n",
      " 1   Age                9091 non-null   int64  \n",
      " 2   Tenure             9091 non-null   float64\n",
      " 3   Balance            9091 non-null   float64\n",
      " 4   NumOfProducts      9091 non-null   int64  \n",
      " 5   HasCrCard          9091 non-null   int64  \n",
      " 6   IsActiveMember     9091 non-null   int64  \n",
      " 7   EstimatedSalary    9091 non-null   float64\n",
      " 8   Exited             9091 non-null   int64  \n",
      " 9   Geography_Germany  9091 non-null   uint8  \n",
      " 10  Geography_Spain    9091 non-null   uint8  \n",
      " 11  Gender_Male        9091 non-null   uint8  \n",
      "dtypes: float64(3), int64(6), uint8(3)\n",
      "memory usage: 666.0 KB\n"
     ]
    }
   ],
   "source": [
    "data_ohe.info()"
   ]
  },
  {
   "cell_type": "markdown",
   "metadata": {},
   "source": [
    "Теперь все признаки в числовом формате."
   ]
  },
  {
   "cell_type": "code",
   "execution_count": 62,
   "metadata": {},
   "outputs": [
    {
     "data": {
      "text/html": [
       "<div>\n",
       "<style scoped>\n",
       "    .dataframe tbody tr th:only-of-type {\n",
       "        vertical-align: middle;\n",
       "    }\n",
       "\n",
       "    .dataframe tbody tr th {\n",
       "        vertical-align: top;\n",
       "    }\n",
       "\n",
       "    .dataframe thead th {\n",
       "        text-align: right;\n",
       "    }\n",
       "</style>\n",
       "<table border=\"1\" class=\"dataframe\">\n",
       "  <thead>\n",
       "    <tr style=\"text-align: right;\">\n",
       "      <th></th>\n",
       "      <th>CreditScore</th>\n",
       "      <th>Age</th>\n",
       "      <th>Tenure</th>\n",
       "      <th>Balance</th>\n",
       "      <th>NumOfProducts</th>\n",
       "      <th>HasCrCard</th>\n",
       "      <th>IsActiveMember</th>\n",
       "      <th>EstimatedSalary</th>\n",
       "      <th>Exited</th>\n",
       "      <th>Geography_Germany</th>\n",
       "      <th>Geography_Spain</th>\n",
       "      <th>Gender_Male</th>\n",
       "    </tr>\n",
       "  </thead>\n",
       "  <tbody>\n",
       "    <tr>\n",
       "      <th>count</th>\n",
       "      <td>9091.000000</td>\n",
       "      <td>9091.000000</td>\n",
       "      <td>9091.000000</td>\n",
       "      <td>9091.000000</td>\n",
       "      <td>9091.000000</td>\n",
       "      <td>9091.000000</td>\n",
       "      <td>9091.000000</td>\n",
       "      <td>9091.000000</td>\n",
       "      <td>9091.000000</td>\n",
       "      <td>9091.000000</td>\n",
       "      <td>9091.000000</td>\n",
       "      <td>9091.000000</td>\n",
       "    </tr>\n",
       "    <tr>\n",
       "      <th>mean</th>\n",
       "      <td>650.736553</td>\n",
       "      <td>38.949181</td>\n",
       "      <td>4.997690</td>\n",
       "      <td>76522.740015</td>\n",
       "      <td>1.530195</td>\n",
       "      <td>0.704983</td>\n",
       "      <td>0.515565</td>\n",
       "      <td>100181.214924</td>\n",
       "      <td>0.203938</td>\n",
       "      <td>0.252227</td>\n",
       "      <td>0.247278</td>\n",
       "      <td>0.547135</td>\n",
       "    </tr>\n",
       "    <tr>\n",
       "      <th>std</th>\n",
       "      <td>96.410471</td>\n",
       "      <td>10.555581</td>\n",
       "      <td>2.894723</td>\n",
       "      <td>62329.528576</td>\n",
       "      <td>0.581003</td>\n",
       "      <td>0.456076</td>\n",
       "      <td>0.499785</td>\n",
       "      <td>57624.755647</td>\n",
       "      <td>0.402946</td>\n",
       "      <td>0.434315</td>\n",
       "      <td>0.431453</td>\n",
       "      <td>0.497801</td>\n",
       "    </tr>\n",
       "    <tr>\n",
       "      <th>min</th>\n",
       "      <td>350.000000</td>\n",
       "      <td>18.000000</td>\n",
       "      <td>0.000000</td>\n",
       "      <td>0.000000</td>\n",
       "      <td>1.000000</td>\n",
       "      <td>0.000000</td>\n",
       "      <td>0.000000</td>\n",
       "      <td>11.580000</td>\n",
       "      <td>0.000000</td>\n",
       "      <td>0.000000</td>\n",
       "      <td>0.000000</td>\n",
       "      <td>0.000000</td>\n",
       "    </tr>\n",
       "    <tr>\n",
       "      <th>25%</th>\n",
       "      <td>584.000000</td>\n",
       "      <td>32.000000</td>\n",
       "      <td>2.000000</td>\n",
       "      <td>0.000000</td>\n",
       "      <td>1.000000</td>\n",
       "      <td>0.000000</td>\n",
       "      <td>0.000000</td>\n",
       "      <td>51227.745000</td>\n",
       "      <td>0.000000</td>\n",
       "      <td>0.000000</td>\n",
       "      <td>0.000000</td>\n",
       "      <td>0.000000</td>\n",
       "    </tr>\n",
       "    <tr>\n",
       "      <th>50%</th>\n",
       "      <td>652.000000</td>\n",
       "      <td>37.000000</td>\n",
       "      <td>5.000000</td>\n",
       "      <td>97318.250000</td>\n",
       "      <td>1.000000</td>\n",
       "      <td>1.000000</td>\n",
       "      <td>1.000000</td>\n",
       "      <td>100240.200000</td>\n",
       "      <td>0.000000</td>\n",
       "      <td>0.000000</td>\n",
       "      <td>0.000000</td>\n",
       "      <td>1.000000</td>\n",
       "    </tr>\n",
       "    <tr>\n",
       "      <th>75%</th>\n",
       "      <td>717.000000</td>\n",
       "      <td>44.000000</td>\n",
       "      <td>7.000000</td>\n",
       "      <td>127561.890000</td>\n",
       "      <td>2.000000</td>\n",
       "      <td>1.000000</td>\n",
       "      <td>1.000000</td>\n",
       "      <td>149567.210000</td>\n",
       "      <td>0.000000</td>\n",
       "      <td>1.000000</td>\n",
       "      <td>0.000000</td>\n",
       "      <td>1.000000</td>\n",
       "    </tr>\n",
       "    <tr>\n",
       "      <th>max</th>\n",
       "      <td>850.000000</td>\n",
       "      <td>92.000000</td>\n",
       "      <td>10.000000</td>\n",
       "      <td>250898.090000</td>\n",
       "      <td>4.000000</td>\n",
       "      <td>1.000000</td>\n",
       "      <td>1.000000</td>\n",
       "      <td>199992.480000</td>\n",
       "      <td>1.000000</td>\n",
       "      <td>1.000000</td>\n",
       "      <td>1.000000</td>\n",
       "      <td>1.000000</td>\n",
       "    </tr>\n",
       "  </tbody>\n",
       "</table>\n",
       "</div>"
      ],
      "text/plain": [
       "       CreditScore          Age       Tenure        Balance  NumOfProducts  \\\n",
       "count  9091.000000  9091.000000  9091.000000    9091.000000    9091.000000   \n",
       "mean    650.736553    38.949181     4.997690   76522.740015       1.530195   \n",
       "std      96.410471    10.555581     2.894723   62329.528576       0.581003   \n",
       "min     350.000000    18.000000     0.000000       0.000000       1.000000   \n",
       "25%     584.000000    32.000000     2.000000       0.000000       1.000000   \n",
       "50%     652.000000    37.000000     5.000000   97318.250000       1.000000   \n",
       "75%     717.000000    44.000000     7.000000  127561.890000       2.000000   \n",
       "max     850.000000    92.000000    10.000000  250898.090000       4.000000   \n",
       "\n",
       "         HasCrCard  IsActiveMember  EstimatedSalary       Exited  \\\n",
       "count  9091.000000     9091.000000      9091.000000  9091.000000   \n",
       "mean      0.704983        0.515565    100181.214924     0.203938   \n",
       "std       0.456076        0.499785     57624.755647     0.402946   \n",
       "min       0.000000        0.000000        11.580000     0.000000   \n",
       "25%       0.000000        0.000000     51227.745000     0.000000   \n",
       "50%       1.000000        1.000000    100240.200000     0.000000   \n",
       "75%       1.000000        1.000000    149567.210000     0.000000   \n",
       "max       1.000000        1.000000    199992.480000     1.000000   \n",
       "\n",
       "       Geography_Germany  Geography_Spain  Gender_Male  \n",
       "count        9091.000000      9091.000000  9091.000000  \n",
       "mean            0.252227         0.247278     0.547135  \n",
       "std             0.434315         0.431453     0.497801  \n",
       "min             0.000000         0.000000     0.000000  \n",
       "25%             0.000000         0.000000     0.000000  \n",
       "50%             0.000000         0.000000     1.000000  \n",
       "75%             1.000000         0.000000     1.000000  \n",
       "max             1.000000         1.000000     1.000000  "
      ]
     },
     "execution_count": 62,
     "metadata": {},
     "output_type": "execute_result"
    }
   ],
   "source": [
    "data_ohe.describe()"
   ]
  },
  {
   "cell_type": "markdown",
   "metadata": {},
   "source": [
    "Выбивающихся значений не видно. "
   ]
  },
  {
   "cell_type": "markdown",
   "metadata": {},
   "source": [
    "Разделим исходные данные на три выборки в соотношении 60:20:20 (%):"
   ]
  },
  {
   "cell_type": "code",
   "execution_count": 63,
   "metadata": {},
   "outputs": [
    {
     "data": {
      "text/plain": [
       "[9091, 5454, 1818, 1819]"
      ]
     },
     "execution_count": 63,
     "metadata": {},
     "output_type": "execute_result"
    }
   ],
   "source": [
    "target = data_ohe['Exited']\n",
    "features = data_ohe.drop('Exited', axis=1)\n",
    "\n",
    "features_train, features_valid, target_train, target_valid = train_test_split(\n",
    "    features, target, test_size=0.40, random_state=42, stratify=target)\n",
    "\n",
    "features_valid, features_test, target_valid, target_test = train_test_split(\n",
    "    features_valid, target_valid, test_size=0.50, random_state=42, stratify=target_valid)\n",
    "\n",
    "[data_ohe.shape[0], features_train.shape[0], features_valid.shape[0], features_test.shape[0]]"
   ]
  },
  {
   "cell_type": "markdown",
   "metadata": {},
   "source": [
    "Стандартизируем численные признаки. Создадим объект структуры StandardScaler() и настроим его на обучающих данных. В переменной numeric - список всех численных признаков.\n",
    "Сохраним преобразованные обучающую, валидационную и тестовую выборки в переменных: features_train, features_valid и features_test: "
   ]
  },
  {
   "cell_type": "code",
   "execution_count": 64,
   "metadata": {
    "scrolled": true
   },
   "outputs": [
    {
     "data": {
      "text/html": [
       "<div>\n",
       "<style scoped>\n",
       "    .dataframe tbody tr th:only-of-type {\n",
       "        vertical-align: middle;\n",
       "    }\n",
       "\n",
       "    .dataframe tbody tr th {\n",
       "        vertical-align: top;\n",
       "    }\n",
       "\n",
       "    .dataframe thead th {\n",
       "        text-align: right;\n",
       "    }\n",
       "</style>\n",
       "<table border=\"1\" class=\"dataframe\">\n",
       "  <thead>\n",
       "    <tr style=\"text-align: right;\">\n",
       "      <th></th>\n",
       "      <th>CreditScore</th>\n",
       "      <th>Age</th>\n",
       "      <th>Tenure</th>\n",
       "      <th>Balance</th>\n",
       "      <th>NumOfProducts</th>\n",
       "      <th>HasCrCard</th>\n",
       "      <th>IsActiveMember</th>\n",
       "      <th>EstimatedSalary</th>\n",
       "      <th>Geography_Germany</th>\n",
       "      <th>Geography_Spain</th>\n",
       "      <th>Gender_Male</th>\n",
       "    </tr>\n",
       "  </thead>\n",
       "  <tbody>\n",
       "    <tr>\n",
       "      <th>2924</th>\n",
       "      <td>-0.689347</td>\n",
       "      <td>-0.944503</td>\n",
       "      <td>1.737181</td>\n",
       "      <td>-1.223083</td>\n",
       "      <td>0.813512</td>\n",
       "      <td>1</td>\n",
       "      <td>1</td>\n",
       "      <td>0.194467</td>\n",
       "      <td>0</td>\n",
       "      <td>0</td>\n",
       "      <td>0</td>\n",
       "    </tr>\n",
       "    <tr>\n",
       "      <th>3384</th>\n",
       "      <td>0.913235</td>\n",
       "      <td>-0.944503</td>\n",
       "      <td>1.391431</td>\n",
       "      <td>1.004114</td>\n",
       "      <td>-0.918297</td>\n",
       "      <td>1</td>\n",
       "      <td>0</td>\n",
       "      <td>0.725671</td>\n",
       "      <td>1</td>\n",
       "      <td>0</td>\n",
       "      <td>0</td>\n",
       "    </tr>\n",
       "    <tr>\n",
       "      <th>7959</th>\n",
       "      <td>0.799504</td>\n",
       "      <td>2.116464</td>\n",
       "      <td>-1.720318</td>\n",
       "      <td>0.829721</td>\n",
       "      <td>0.813512</td>\n",
       "      <td>1</td>\n",
       "      <td>1</td>\n",
       "      <td>1.539459</td>\n",
       "      <td>0</td>\n",
       "      <td>0</td>\n",
       "      <td>1</td>\n",
       "    </tr>\n",
       "    <tr>\n",
       "      <th>3727</th>\n",
       "      <td>0.644415</td>\n",
       "      <td>1.255567</td>\n",
       "      <td>1.391431</td>\n",
       "      <td>-1.223083</td>\n",
       "      <td>-0.918297</td>\n",
       "      <td>1</td>\n",
       "      <td>1</td>\n",
       "      <td>0.310683</td>\n",
       "      <td>0</td>\n",
       "      <td>1</td>\n",
       "      <td>1</td>\n",
       "    </tr>\n",
       "    <tr>\n",
       "      <th>7948</th>\n",
       "      <td>-0.772061</td>\n",
       "      <td>-0.848848</td>\n",
       "      <td>1.045681</td>\n",
       "      <td>-1.223083</td>\n",
       "      <td>0.813512</td>\n",
       "      <td>1</td>\n",
       "      <td>0</td>\n",
       "      <td>1.480628</td>\n",
       "      <td>0</td>\n",
       "      <td>1</td>\n",
       "      <td>0</td>\n",
       "    </tr>\n",
       "  </tbody>\n",
       "</table>\n",
       "</div>"
      ],
      "text/plain": [
       "      CreditScore       Age    Tenure   Balance  NumOfProducts  HasCrCard  \\\n",
       "2924    -0.689347 -0.944503  1.737181 -1.223083       0.813512          1   \n",
       "3384     0.913235 -0.944503  1.391431  1.004114      -0.918297          1   \n",
       "7959     0.799504  2.116464 -1.720318  0.829721       0.813512          1   \n",
       "3727     0.644415  1.255567  1.391431 -1.223083      -0.918297          1   \n",
       "7948    -0.772061 -0.848848  1.045681 -1.223083       0.813512          1   \n",
       "\n",
       "      IsActiveMember  EstimatedSalary  Geography_Germany  Geography_Spain  \\\n",
       "2924               1         0.194467                  0                0   \n",
       "3384               0         0.725671                  1                0   \n",
       "7959               1         1.539459                  0                0   \n",
       "3727               1         0.310683                  0                1   \n",
       "7948               0         1.480628                  0                1   \n",
       "\n",
       "      Gender_Male  \n",
       "2924            0  \n",
       "3384            0  \n",
       "7959            1  \n",
       "3727            1  \n",
       "7948            0  "
      ]
     },
     "execution_count": 64,
     "metadata": {},
     "output_type": "execute_result"
    }
   ],
   "source": [
    "numeric = ['CreditScore', 'Age', 'Tenure', 'Balance', 'Age', 'NumOfProducts', 'EstimatedSalary']\n",
    "scaler = StandardScaler()\n",
    "scaler.fit(features_train[numeric])\n",
    "\n",
    "features_train[numeric] = scaler.transform(features_train[numeric])\n",
    "features_valid[numeric] = scaler.transform(features_valid[numeric]) \n",
    "features_test[numeric] = scaler.transform(features_test[numeric])\n",
    "pd.options.mode.chained_assignment = None\n",
    "\n",
    "features_train.head()"
   ]
  },
  {
   "cell_type": "code",
   "execution_count": 65,
   "metadata": {},
   "outputs": [
    {
     "data": {
      "text/html": [
       "<div>\n",
       "<style scoped>\n",
       "    .dataframe tbody tr th:only-of-type {\n",
       "        vertical-align: middle;\n",
       "    }\n",
       "\n",
       "    .dataframe tbody tr th {\n",
       "        vertical-align: top;\n",
       "    }\n",
       "\n",
       "    .dataframe thead th {\n",
       "        text-align: right;\n",
       "    }\n",
       "</style>\n",
       "<table border=\"1\" class=\"dataframe\">\n",
       "  <thead>\n",
       "    <tr style=\"text-align: right;\">\n",
       "      <th></th>\n",
       "      <th>CreditScore</th>\n",
       "      <th>Age</th>\n",
       "      <th>Tenure</th>\n",
       "      <th>Balance</th>\n",
       "      <th>NumOfProducts</th>\n",
       "      <th>HasCrCard</th>\n",
       "      <th>IsActiveMember</th>\n",
       "      <th>EstimatedSalary</th>\n",
       "      <th>Geography_Germany</th>\n",
       "      <th>Geography_Spain</th>\n",
       "      <th>Gender_Male</th>\n",
       "    </tr>\n",
       "  </thead>\n",
       "  <tbody>\n",
       "    <tr>\n",
       "      <th>3233</th>\n",
       "      <td>0.148131</td>\n",
       "      <td>-0.274917</td>\n",
       "      <td>0.354181</td>\n",
       "      <td>-0.084033</td>\n",
       "      <td>0.813512</td>\n",
       "      <td>1</td>\n",
       "      <td>0</td>\n",
       "      <td>0.388066</td>\n",
       "      <td>1</td>\n",
       "      <td>0</td>\n",
       "      <td>1</td>\n",
       "    </tr>\n",
       "    <tr>\n",
       "      <th>1994</th>\n",
       "      <td>0.809843</td>\n",
       "      <td>0.681636</td>\n",
       "      <td>-1.028818</td>\n",
       "      <td>0.533386</td>\n",
       "      <td>-0.918297</td>\n",
       "      <td>1</td>\n",
       "      <td>0</td>\n",
       "      <td>-1.386128</td>\n",
       "      <td>0</td>\n",
       "      <td>0</td>\n",
       "      <td>0</td>\n",
       "    </tr>\n",
       "    <tr>\n",
       "      <th>4492</th>\n",
       "      <td>0.106774</td>\n",
       "      <td>-0.561882</td>\n",
       "      <td>-1.028818</td>\n",
       "      <td>0.065179</td>\n",
       "      <td>-0.918297</td>\n",
       "      <td>0</td>\n",
       "      <td>0</td>\n",
       "      <td>0.874168</td>\n",
       "      <td>0</td>\n",
       "      <td>1</td>\n",
       "      <td>1</td>\n",
       "    </tr>\n",
       "    <tr>\n",
       "      <th>4428</th>\n",
       "      <td>-0.730704</td>\n",
       "      <td>-0.753193</td>\n",
       "      <td>0.354181</td>\n",
       "      <td>-1.223083</td>\n",
       "      <td>0.813512</td>\n",
       "      <td>1</td>\n",
       "      <td>0</td>\n",
       "      <td>-1.284140</td>\n",
       "      <td>0</td>\n",
       "      <td>0</td>\n",
       "      <td>1</td>\n",
       "    </tr>\n",
       "    <tr>\n",
       "      <th>1678</th>\n",
       "      <td>-1.743950</td>\n",
       "      <td>0.490325</td>\n",
       "      <td>1.391431</td>\n",
       "      <td>1.583653</td>\n",
       "      <td>-0.918297</td>\n",
       "      <td>1</td>\n",
       "      <td>0</td>\n",
       "      <td>-0.600708</td>\n",
       "      <td>0</td>\n",
       "      <td>0</td>\n",
       "      <td>1</td>\n",
       "    </tr>\n",
       "  </tbody>\n",
       "</table>\n",
       "</div>"
      ],
      "text/plain": [
       "      CreditScore       Age    Tenure   Balance  NumOfProducts  HasCrCard  \\\n",
       "3233     0.148131 -0.274917  0.354181 -0.084033       0.813512          1   \n",
       "1994     0.809843  0.681636 -1.028818  0.533386      -0.918297          1   \n",
       "4492     0.106774 -0.561882 -1.028818  0.065179      -0.918297          0   \n",
       "4428    -0.730704 -0.753193  0.354181 -1.223083       0.813512          1   \n",
       "1678    -1.743950  0.490325  1.391431  1.583653      -0.918297          1   \n",
       "\n",
       "      IsActiveMember  EstimatedSalary  Geography_Germany  Geography_Spain  \\\n",
       "3233               0         0.388066                  1                0   \n",
       "1994               0        -1.386128                  0                0   \n",
       "4492               0         0.874168                  0                1   \n",
       "4428               0        -1.284140                  0                0   \n",
       "1678               0        -0.600708                  0                0   \n",
       "\n",
       "      Gender_Male  \n",
       "3233            1  \n",
       "1994            0  \n",
       "4492            1  \n",
       "4428            1  \n",
       "1678            1  "
      ]
     },
     "execution_count": 65,
     "metadata": {},
     "output_type": "execute_result"
    }
   ],
   "source": [
    "features_valid.head()"
   ]
  },
  {
   "cell_type": "code",
   "execution_count": 66,
   "metadata": {},
   "outputs": [
    {
     "data": {
      "text/html": [
       "<div>\n",
       "<style scoped>\n",
       "    .dataframe tbody tr th:only-of-type {\n",
       "        vertical-align: middle;\n",
       "    }\n",
       "\n",
       "    .dataframe tbody tr th {\n",
       "        vertical-align: top;\n",
       "    }\n",
       "\n",
       "    .dataframe thead th {\n",
       "        text-align: right;\n",
       "    }\n",
       "</style>\n",
       "<table border=\"1\" class=\"dataframe\">\n",
       "  <thead>\n",
       "    <tr style=\"text-align: right;\">\n",
       "      <th></th>\n",
       "      <th>CreditScore</th>\n",
       "      <th>Age</th>\n",
       "      <th>Tenure</th>\n",
       "      <th>Balance</th>\n",
       "      <th>NumOfProducts</th>\n",
       "      <th>HasCrCard</th>\n",
       "      <th>IsActiveMember</th>\n",
       "      <th>EstimatedSalary</th>\n",
       "      <th>Geography_Germany</th>\n",
       "      <th>Geography_Spain</th>\n",
       "      <th>Gender_Male</th>\n",
       "    </tr>\n",
       "  </thead>\n",
       "  <tbody>\n",
       "    <tr>\n",
       "      <th>2061</th>\n",
       "      <td>-0.203403</td>\n",
       "      <td>1.064257</td>\n",
       "      <td>-0.683068</td>\n",
       "      <td>0.848244</td>\n",
       "      <td>4.277129</td>\n",
       "      <td>1</td>\n",
       "      <td>1</td>\n",
       "      <td>-0.908549</td>\n",
       "      <td>1</td>\n",
       "      <td>0</td>\n",
       "      <td>1</td>\n",
       "    </tr>\n",
       "    <tr>\n",
       "      <th>8843</th>\n",
       "      <td>0.013721</td>\n",
       "      <td>-1.518435</td>\n",
       "      <td>1.737181</td>\n",
       "      <td>-1.223083</td>\n",
       "      <td>0.813512</td>\n",
       "      <td>1</td>\n",
       "      <td>1</td>\n",
       "      <td>1.215906</td>\n",
       "      <td>0</td>\n",
       "      <td>0</td>\n",
       "      <td>1</td>\n",
       "    </tr>\n",
       "    <tr>\n",
       "      <th>6795</th>\n",
       "      <td>-1.154613</td>\n",
       "      <td>0.299015</td>\n",
       "      <td>-0.337319</td>\n",
       "      <td>0.063866</td>\n",
       "      <td>-0.918297</td>\n",
       "      <td>1</td>\n",
       "      <td>0</td>\n",
       "      <td>0.332201</td>\n",
       "      <td>1</td>\n",
       "      <td>0</td>\n",
       "      <td>0</td>\n",
       "    </tr>\n",
       "    <tr>\n",
       "      <th>772</th>\n",
       "      <td>0.292881</td>\n",
       "      <td>-1.327124</td>\n",
       "      <td>1.737181</td>\n",
       "      <td>0.009236</td>\n",
       "      <td>0.813512</td>\n",
       "      <td>0</td>\n",
       "      <td>1</td>\n",
       "      <td>0.545565</td>\n",
       "      <td>1</td>\n",
       "      <td>0</td>\n",
       "      <td>0</td>\n",
       "    </tr>\n",
       "    <tr>\n",
       "      <th>1093</th>\n",
       "      <td>-0.958168</td>\n",
       "      <td>-1.040159</td>\n",
       "      <td>0.699931</td>\n",
       "      <td>1.121617</td>\n",
       "      <td>0.813512</td>\n",
       "      <td>1</td>\n",
       "      <td>0</td>\n",
       "      <td>1.462845</td>\n",
       "      <td>0</td>\n",
       "      <td>0</td>\n",
       "      <td>0</td>\n",
       "    </tr>\n",
       "  </tbody>\n",
       "</table>\n",
       "</div>"
      ],
      "text/plain": [
       "      CreditScore       Age    Tenure   Balance  NumOfProducts  HasCrCard  \\\n",
       "2061    -0.203403  1.064257 -0.683068  0.848244       4.277129          1   \n",
       "8843     0.013721 -1.518435  1.737181 -1.223083       0.813512          1   \n",
       "6795    -1.154613  0.299015 -0.337319  0.063866      -0.918297          1   \n",
       "772      0.292881 -1.327124  1.737181  0.009236       0.813512          0   \n",
       "1093    -0.958168 -1.040159  0.699931  1.121617       0.813512          1   \n",
       "\n",
       "      IsActiveMember  EstimatedSalary  Geography_Germany  Geography_Spain  \\\n",
       "2061               1        -0.908549                  1                0   \n",
       "8843               1         1.215906                  0                0   \n",
       "6795               0         0.332201                  1                0   \n",
       "772                1         0.545565                  1                0   \n",
       "1093               0         1.462845                  0                0   \n",
       "\n",
       "      Gender_Male  \n",
       "2061            1  \n",
       "8843            1  \n",
       "6795            0  \n",
       "772             0  \n",
       "1093            0  "
      ]
     },
     "execution_count": 66,
     "metadata": {},
     "output_type": "execute_result"
    }
   ],
   "source": [
    "features_test.head()"
   ]
  },
  {
   "cell_type": "markdown",
   "metadata": {},
   "source": [
    "Данные подготовлены. Преобразовали категориальные признаки в численные техникой прямого кодирования, масштабировали численные признаки. Можно приступить к исследованию задачи."
   ]
  },
  {
   "cell_type": "markdown",
   "metadata": {},
   "source": [
    "## Исследование задачи"
   ]
  },
  {
   "cell_type": "markdown",
   "metadata": {},
   "source": [
    "Проверим баланс классов:"
   ]
  },
  {
   "cell_type": "code",
   "execution_count": 67,
   "metadata": {},
   "outputs": [
    {
     "data": {
      "text/plain": [
       "[0    0.796113\n",
       " 1    0.203887\n",
       " Name: Exited, dtype: float64,\n",
       " 0    0.79593\n",
       " 1    0.20407\n",
       " Name: Exited, dtype: float64,\n",
       " 0    0.796042\n",
       " 1    0.203958\n",
       " Name: Exited, dtype: float64]"
      ]
     },
     "execution_count": 67,
     "metadata": {},
     "output_type": "execute_result"
    }
   ],
   "source": [
    "[target_train.value_counts(normalize = True),\n",
    " target_valid.value_counts(normalize = True),\n",
    " target_test.value_counts(normalize = True)]"
   ]
  },
  {
   "cell_type": "markdown",
   "metadata": {},
   "source": [
    "Классы являются несбалансированными, так как делятся в соотношении 79.6% и 20.4%."
   ]
  },
  {
   "cell_type": "markdown",
   "metadata": {},
   "source": [
    "**Исследуем модели обучения без учета дисбаланса классов. И визаулизируем их работу ROC кривой.**\n"
   ]
  },
  {
   "cell_type": "markdown",
   "metadata": {},
   "source": [
    "Обучим модель логистической регрессии и посчитаем метрики на валидационной выборке:"
   ]
  },
  {
   "cell_type": "code",
   "execution_count": 68,
   "metadata": {},
   "outputs": [
    {
     "name": "stdout",
     "output_type": "stream",
     "text": [
      "Полнота: 0.1778975741239892\n",
      "Точность: 0.584070796460177\n",
      "F1 score: 0.27272727272727276\n",
      "ROC_auc score: 0.7522935267129501\n",
      "Accuracy: 0.8063806380638063\n",
      "Матрица ошибок:\n",
      "[[1400   47]\n",
      " [ 305   66]]\n"
     ]
    },
    {
     "data": {
      "image/png": "[encoded data removed]",
      "text/plain": [
       "<Figure size 640x480 with 1 Axes>"
      ]
     },
     "metadata": {},
     "output_type": "display_data"
    }
   ],
   "source": [
    "model_lr_unbalanced = LogisticRegression(random_state=42, solver='liblinear')\n",
    "model_lr_unbalanced.fit(features_train, target_train)\n",
    "predicted_valid = model_lr_unbalanced.predict(features_valid)\n",
    "\n",
    "probabilities_valid = model_lr_unbalanced.predict_proba(features_valid)\n",
    "probabilities_one_valid = probabilities_valid[:, 1]\n",
    "roc_auc = roc_auc_score(target_valid, probabilities_one_valid)\n",
    "\n",
    "print(\"Полнота:\", recall_score(target_valid, predicted_valid))\n",
    "print(\"Точность:\", precision_score(target_valid, predicted_valid))\n",
    "print(\"F1 score:\", f1_score(target_valid, predicted_valid))\n",
    "print(\"ROC_auc score:\", roc_auc)\n",
    "print(\"Accuracy:\", accuracy_score(target_valid, predicted_valid))\n",
    "print(\"Матрица ошибок:\")\n",
    "print(confusion_matrix(target_valid, predicted_valid))\n",
    "\n",
    "fpr, tpr, thresholds = roc_curve(target_valid, probabilities_one_valid) \n",
    "plt.figure()\n",
    "plt.plot(fpr, tpr)\n",
    "plt.plot([0, 1], [0, 1], linestyle='--')\n",
    "plt.xlabel('False Positive Rate')\n",
    "plt.ylabel('True Positive Rate')\n",
    "plt.ylim([0.0, 1.0])\n",
    "plt.xlim([0.0, 1.0])\n",
    "plt.title('ROC-кривая')\n",
    "plt.show()\n"
   ]
  },
  {
   "cell_type": "markdown",
   "metadata": {},
   "source": [
    "Полнота низкая всего 0.17, что говорит о том что модель плохо ищет положительные ответы -в данном случае плохо определяет факт ухода клиентов. Доля правильных положительный ответов всего 58% (точность). Отсюда наблюдаем низкий уровень F1 score. По матрице ошибок можно заметить, что много ложноотрицательных ответов.  ROC кривая не сильно выгнута к левому углу хоть и находится выше случайной модели и площадь под кривой ROC_auc score равна 0.75."
   ]
  },
  {
   "cell_type": "markdown",
   "metadata": {},
   "source": [
    "Обучим модель дерева решений (в цикле подберем глубину) и посчитаем метрики на валидационной выборке:"
   ]
  },
  {
   "cell_type": "code",
   "execution_count": 69,
   "metadata": {},
   "outputs": [
    {
     "name": "stdout",
     "output_type": "stream",
     "text": [
      "Полнота: 0.48787061994609165\n",
      "Точность: 0.5041782729805014\n",
      "F1 score: 0.4958904109589041\n",
      "Accuracy: 0.7975797579757976\n",
      "Матрица ошибок:\n",
      "[[1269  178]\n",
      " [ 190  181]]\n",
      "ROC_auc score: 0.682428744665513\n"
     ]
    },
    {
     "data": {
      "image/png": "[encoded data removed]",
      "text/plain": [
       "<Figure size 640x480 with 1 Axes>"
      ]
     },
     "metadata": {},
     "output_type": "display_data"
    }
   ],
   "source": [
    "best_model_tc_unbalanced = None\n",
    "best_result_tc = 0\n",
    "for depth in range(1, 30):\n",
    "    model_tree_unbalanced = DecisionTreeClassifier(random_state=42, max_depth=depth)\n",
    "    model_tree_unbalanced.fit(features_train, target_train)\n",
    "    predictions = model_tree_unbalanced.predict(features_valid)\n",
    "    result = f1_score(target_valid, predictions)\n",
    "    if result > best_result_tc:\n",
    "        best_model_tc_unbalanced = model_tree_unbalanced\n",
    "        predicted_valid = predictions\n",
    "\n",
    "print(\"Полнота:\", recall_score(target_valid, predicted_valid))\n",
    "print(\"Точность:\", precision_score(target_valid, predicted_valid))\n",
    "print(\"F1 score:\", f1_score(target_valid, predicted_valid))\n",
    "print(\"Accuracy:\", accuracy_score(target_valid, predicted_valid))\n",
    "print(\"Матрица ошибок:\")\n",
    "print(confusion_matrix(target_valid, predicted_valid))\n",
    "\n",
    "\n",
    "probabilities_valid = best_model_tc_unbalanced.predict_proba(features_valid)\n",
    "probabilities_one_valid = probabilities_valid[:, 1]\n",
    "auc_roc = roc_auc_score(target_valid, probabilities_one_valid)\n",
    "print(\"ROC_auc score:\", auc_roc)\n",
    "\n",
    "fpr, tpr, thresholds = roc_curve(target_valid, probabilities_one_valid) \n",
    "plt.figure()\n",
    "plt.plot(fpr, tpr)\n",
    "plt.plot([0, 1], [0, 1], linestyle='--')\n",
    "plt.xlabel('False Positive Rate')\n",
    "plt.ylabel('True Positive Rate')\n",
    "plt.ylim([0.0, 1.0])\n",
    "plt.xlim([0.0, 1.0])\n",
    "plt.title('ROC-кривая')\n",
    "plt.show()"
   ]
  },
  {
   "cell_type": "markdown",
   "metadata": {},
   "source": [
    "Полнота, точность и соответсвенно F1 score близка к 0.5. По матрице ошибок можно заметить, что TP, FP и FN примерно одинаковые.  А ROC_auc score равна 0.68. Модель не сильно лучше слуйчайной, что видно и по ROC кривой."
   ]
  },
  {
   "cell_type": "markdown",
   "metadata": {},
   "source": [
    "Обучим модель случайного леса (в цикле подберем глубину) и посчитаем метрики на валидационной выборке:"
   ]
  },
  {
   "cell_type": "code",
   "execution_count": null,
   "metadata": {},
   "outputs": [],
   "source": [
    "best_model_rf_unbalanced = None\n",
    "best_result_rf = 0\n",
    "for depth in range(1, 16, 1):\n",
    "    \n",
    "    model_rf_unbalanced = RandomForestClassifier(random_state=42, n_estimators=100, max_depth=depth)\n",
    "    model_rf_unbalanced.fit(features_train, target_train)\n",
    "    predictions = model_rf_unbalanced.predict(features_valid)\n",
    "    result = f1_score(target_valid, predictions)\n",
    "    if result > best_result_rf:\n",
    "        best_model_rf_unbalanced = model_rf_unbalanced\n",
    "        best_result_rf = result\n",
    "        \n",
    "predicted_valid = best_model_rf_unbalanced.predict(features_valid)\n",
    "\n",
    "print(\"Полнота:\", recall_score(target_valid, predicted_valid))\n",
    "print(\"Точность:\", precision_score(target_valid, predicted_valid))\n",
    "print(\"F1 score:\", f1_score(target_valid, predicted_valid))\n",
    "print(\"Accuracy:\", accuracy_score(target_valid, predicted_valid))\n",
    "print(\"Матрица ошибок:\")\n",
    "print(confusion_matrix(target_valid, predicted_valid))\n",
    "\n",
    "probabilities_valid = best_model_rf_unbalanced.predict_proba(features_valid)\n",
    "probabilities_one_valid = probabilities_valid[:, 1]\n",
    "auc_roc = roc_auc_score(target_valid, probabilities_one_valid)\n",
    "print(\"ROC_auc score:\", auc_roc)\n",
    "\n",
    "\n",
    "fpr, tpr, thresholds = roc_curve(target_valid, probabilities_one_valid) \n",
    "plt.figure()\n",
    "plt.plot(fpr, tpr)\n",
    "plt.plot([0, 1], [0, 1], linestyle='--')\n",
    "plt.xlabel('False Positive Rate')\n",
    "plt.ylabel('True Positive Rate')\n",
    "plt.ylim([0.0, 1.0])\n",
    "plt.xlim([0.0, 1.0])\n",
    "plt.title('ROC-кривая')\n",
    "plt.show()"
   ]
  },
  {
   "cell_type": "markdown",
   "metadata": {},
   "source": [
    "Данная модель выглядит более предпочтительной, по сравнению с предыдущими. Полнота 0.41 - низкая, то есть доля правильных положительных ответов всего 41%. Точность высокая 81%, а F1 score 0.54. Модель дает мало положительных ответов."
   ]
  },
  {
   "cell_type": "markdown",
   "metadata": {},
   "source": [
    "**Изучили три модели без учета дисбаланса классов: модели логистической регресии, дерева решений и случайного леса. Модели логистической регресии, дерева решений не пригодны для использования. А модель случайного леса сильно занижает количество положительных ответов. Необходимо обучить модели с учётом дисбаланса классов и проверить их работу.**"
   ]
  },
  {
   "cell_type": "markdown",
   "metadata": {},
   "source": [
    "## Борьба с дисбалансом"
   ]
  },
  {
   "cell_type": "markdown",
   "metadata": {},
   "source": [
    "**Применим в моделях взвешивание классов**- сделаем аргумент class_weight='balanced', обучим модели и посчитаем метрики на валидационной выборке."
   ]
  },
  {
   "cell_type": "markdown",
   "metadata": {},
   "source": [
    "Логистическая регрессия с аргументом class_weight='balanced':"
   ]
  },
  {
   "cell_type": "code",
   "execution_count": null,
   "metadata": {},
   "outputs": [],
   "source": [
    "model_lr_class_weight = LogisticRegression(random_state=42, solver='liblinear', class_weight='balanced')\n",
    "model_lr_class_weight.fit(features_train, target_train)\n",
    "predicted_valid = model_lr_class_weight.predict(features_valid)\n",
    "\n",
    "probabilities_valid = model_lr_class_weight.predict_proba(features_valid)\n",
    "probabilities_one_valid = probabilities_valid[:, 1]\n",
    "roc_auc = roc_auc_score(target_valid, probabilities_one_valid)\n",
    "\n",
    "print(\"Полнота:\", recall_score(target_valid, predicted_valid))\n",
    "print(\"Точность:\", precision_score(target_valid, predicted_valid))\n",
    "print(\"F1 score:\", f1_score(target_valid, predicted_valid))\n",
    "print(\"ROC_auc score:\", roc_auc)\n",
    "print(\"Accuracy:\", accuracy_score(target_valid, predicted_valid))\n",
    "print(\"Матрица ошибок:\")\n",
    "print(confusion_matrix(target_valid, predicted_valid))\n",
    "\n",
    "fpr, tpr, thresholds = roc_curve(target_valid, probabilities_one_valid) \n",
    "plt.figure()\n",
    "plt.plot(fpr, tpr)\n",
    "plt.plot([0, 1], [0, 1], linestyle='--')\n",
    "plt.xlabel('False Positive Rate')\n",
    "plt.ylabel('True Positive Rate')\n",
    "plt.ylim([0.0, 1.0])\n",
    "plt.xlim([0.0, 1.0])\n",
    "plt.title('ROC-кривая')\n",
    "plt.show()"
   ]
  },
  {
   "cell_type": "markdown",
   "metadata": {},
   "source": [
    "Полнота выросла до 0.67, точность упала до 0.375 - что говорит о том что модель дает много положительных ответов. ROC_auc score осталась на уровне 0.75. Несмотря на то, что приминение взвешивания классов улучшила метрику F1 score до 0.48, всё же качество предсказаний осталось низким."
   ]
  },
  {
   "cell_type": "markdown",
   "metadata": {},
   "source": [
    "Дерево решений с аргументом class_weight='balanced':"
   ]
  },
  {
   "cell_type": "code",
   "execution_count": null,
   "metadata": {},
   "outputs": [],
   "source": [
    "best_model_tc_class_weight = None\n",
    "best_result_tc = 0\n",
    "for depth in range(1, 30):\n",
    "                model_tc_class_weight = DecisionTreeClassifier(random_state=42, max_depth=depth, class_weight='balanced')\n",
    "                model_tc_class_weight.fit(features_train, target_train)\n",
    "                predictions = model_tc_class_weight.predict(features_valid)\n",
    "                result = f1_score(target_valid, predictions)\n",
    "                if result > best_result_tc:\n",
    "                    best_model_tc_class_weight = model_tc_class_weight\n",
    "                    predicted_valid = predictions\n",
    "\n",
    "print(\"Полнота:\", recall_score(target_valid, predicted_valid))\n",
    "print(\"Точность:\", precision_score(target_valid, predicted_valid))\n",
    "print(\"F1 score:\", f1_score(target_valid, predicted_valid))\n",
    "print(\"Accuracy:\", accuracy_score(target_valid, predicted_valid))\n",
    "print(\"Матрица ошибок:\")\n",
    "print(confusion_matrix(target_valid, predicted_valid))\n",
    "\n",
    "\n",
    "probabilities_valid = best_model_tc_class_weight.predict_proba(features_valid)\n",
    "probabilities_one_valid = probabilities_valid[:, 1]\n",
    "auc_roc = roc_auc_score(target_valid, probabilities_one_valid)\n",
    "print(\"ROC_auc score:\", auc_roc)\n",
    "\n",
    "fpr, tpr, thresholds = roc_curve(target_valid, probabilities_one_valid) \n",
    "plt.figure()\n",
    "plt.plot(fpr, tpr)\n",
    "plt.plot([0, 1], [0, 1], linestyle='--')\n",
    "plt.xlabel('False Positive Rate')\n",
    "plt.ylabel('True Positive Rate')\n",
    "plt.ylim([0.0, 1.0])\n",
    "plt.xlim([0.0, 1.0])\n",
    "plt.title('ROC-кривая')\n",
    "plt.show()\n"
   ]
  },
  {
   "cell_type": "markdown",
   "metadata": {},
   "source": [
    "class_weight='balanced' практически не повлиял на обучение дерева решений."
   ]
  },
  {
   "cell_type": "markdown",
   "metadata": {},
   "source": [
    "Рассмотрим случайный лес с class_weight='balanced':"
   ]
  },
  {
   "cell_type": "code",
   "execution_count": null,
   "metadata": {},
   "outputs": [],
   "source": [
    "best_model_rf_class_weight = None\n",
    "best_result_rf = 0\n",
    "for depth in range(1, 16, 1):\n",
    "    \n",
    "    model_rf_class_weight = RandomForestClassifier(random_state=42, n_estimators=200, max_depth=depth, class_weight='balanced')\n",
    "    model_rf_class_weight.fit(features_train, target_train)\n",
    "    predictions = model_rf_class_weight.predict(features_valid)\n",
    "    result = f1_score(target_valid, predictions)\n",
    "    if result > best_result_rf:\n",
    "        best_model_rf_class_weight = model_rf_class_weight\n",
    "        best_result_rf = result\n",
    "        \n",
    "predicted_valid = best_model_rf_class_weight.predict(features_valid)\n",
    "\n",
    "print(\"Полнота:\", recall_score(target_valid, predicted_valid))\n",
    "print(\"Точность:\", precision_score(target_valid, predicted_valid))\n",
    "print(\"F1 score:\", f1_score(target_valid, predicted_valid))\n",
    "print(\"Accuracy:\", accuracy_score(target_valid, predicted_valid))\n",
    "print(\"Матрица ошибок:\")\n",
    "print(confusion_matrix(target_valid, predicted_valid))\n",
    "\n",
    "probabilities_valid = best_model_rf_class_weight.predict_proba(features_valid)\n",
    "probabilities_one_valid = probabilities_valid[:, 1]\n",
    "auc_roc = roc_auc_score(target_valid, probabilities_one_valid)\n",
    "print(\"ROC_auc score:\", auc_roc)\n",
    "\n",
    "\n",
    "fpr, tpr, thresholds = roc_curve(target_valid, probabilities_one_valid) \n",
    "plt.figure()\n",
    "plt.plot(fpr, tpr)\n",
    "plt.plot([0, 1], [0, 1], linestyle='--')\n",
    "plt.xlabel('False Positive Rate')\n",
    "plt.ylabel('True Positive Rate')\n",
    "plt.ylim([0.0, 1.0])\n",
    "plt.xlim([0.0, 1.0])\n",
    "plt.title('ROC-кривая')\n",
    "plt.show()\n",
    "\n"
   ]
  },
  {
   "cell_type": "markdown",
   "metadata": {},
   "source": [
    "Видим, что F1 score увеличилось до 0.62! Так как модель стала больше предсказывать положительных ответов - увеличилась полнота и уменьшилась точность. ROC_auc score осталась на прежнем уровне 0.85. Данная модель на текущий момент наиболее сбалансированная. "
   ]
  },
  {
   "cell_type": "markdown",
   "metadata": {},
   "source": [
    "**Обучим модель применив технику увеличения выборки (upsampling):**"
   ]
  },
  {
   "cell_type": "markdown",
   "metadata": {},
   "source": [
    "Создадим функцию для увеличения выборки обучающих данных:"
   ]
  },
  {
   "cell_type": "code",
   "execution_count": null,
   "metadata": {},
   "outputs": [],
   "source": [
    "from sklearn.utils import shuffle\n",
    "def upsample(features, target, repeat):\n",
    "    features_zeros = features_train[target == 0]\n",
    "    features_ones = features_train[target == 1]\n",
    "    target_zeros = target_train[target == 0]\n",
    "    target_ones = target_train[target == 1]\n",
    "\n",
    "    features_upsampled = pd.concat([features_zeros] + [features_ones] * repeat)\n",
    "    target_upsampled = pd.concat([target_zeros] + [target_ones] * repeat)\n",
    "    \n",
    "    features_upsampled, target_upsampled = shuffle(\n",
    "        features_upsampled, target_upsampled, random_state=12345)\n",
    "    \n",
    "    return features_upsampled, target_upsampled\n",
    "\n",
    "features_upsampled, target_upsampled = upsample(features_train, target_train, 4)"
   ]
  },
  {
   "cell_type": "markdown",
   "metadata": {},
   "source": [
    "Обучим на них модель логистической регрессии и посмотрим метрики на валидационной выборке:"
   ]
  },
  {
   "cell_type": "code",
   "execution_count": null,
   "metadata": {},
   "outputs": [],
   "source": [
    "model_lr_upsampling = LogisticRegression(random_state=42, solver='liblinear')\n",
    "model_lr_upsampling.fit(features_upsampled, target_upsampled)\n",
    "predicted_valid = model_lr_upsampling.predict(features_valid)\n",
    "\n",
    "probabilities_valid = model_lr_upsampling.predict_proba(features_valid)\n",
    "probabilities_one_valid = probabilities_valid[:, 1]\n",
    "roc_auc = roc_auc_score(target_valid, probabilities_one_valid)\n",
    "\n",
    "print(\"Полнота:\", recall_score(target_valid, predicted_valid))\n",
    "print(\"Точность:\", precision_score(target_valid, predicted_valid))\n",
    "print(\"F1 score:\", f1_score(target_valid, predicted_valid))\n",
    "print(\"ROC_auc score:\", roc_auc)\n",
    "print(\"Accuracy:\", accuracy_score(target_valid, predicted_valid))\n",
    "print(\"Матрица ошибок:\")\n",
    "print(confusion_matrix(target_valid, predicted_valid))\n",
    "\n",
    "fpr, tpr, thresholds = roc_curve(target_valid, probabilities_one_valid) \n",
    "plt.figure()\n",
    "plt.plot(fpr, tpr)\n",
    "plt.plot([0, 1], [0, 1], linestyle='--')\n",
    "plt.xlabel('False Positive Rate')\n",
    "plt.ylabel('True Positive Rate')\n",
    "plt.ylim([0.0, 1.0])\n",
    "plt.xlim([0.0, 1.0])\n",
    "plt.title('ROC-кривая')\n",
    "plt.show()\n"
   ]
  },
  {
   "cell_type": "markdown",
   "metadata": {},
   "source": [
    "upsampling для модели логистической регрессии показвает такой же результат что и при взвешивании классов.\n"
   ]
  },
  {
   "cell_type": "markdown",
   "metadata": {},
   "source": [
    "Дерева решений:"
   ]
  },
  {
   "cell_type": "code",
   "execution_count": null,
   "metadata": {},
   "outputs": [],
   "source": [
    "best_model_tc_upsampled = None\n",
    "best_result_tc = 0\n",
    "for depth in range(1, 35):\n",
    "    model_tc_upsampled = DecisionTreeClassifier(random_state=42, max_depth=depth)\n",
    "    model_tc_upsampled.fit(features_upsampled, target_upsampled)\n",
    "    predictions = model_tc_upsampled.predict(features_valid)\n",
    "    result = f1_score(target_valid, predictions)\n",
    "    if result > best_result_tc:\n",
    "        best_model_tc_upsampled = model_tc_upsampled\n",
    "        predicted_valid = predictions\n",
    "\n",
    "print(\"Полнота:\", recall_score(target_valid, predicted_valid))\n",
    "print(\"Точность:\", precision_score(target_valid, predicted_valid))\n",
    "print(\"F1 score:\", f1_score(target_valid, predicted_valid))\n",
    "print(\"Accuracy:\", accuracy_score(target_valid, predicted_valid))\n",
    "print(\"Матрица ошибок:\")\n",
    "print(confusion_matrix(target_valid, predicted_valid))\n",
    "\n",
    "\n",
    "probabilities_valid = best_model_tc_upsampled.predict_proba(features_valid)\n",
    "probabilities_one_valid = probabilities_valid[:, 1]\n",
    "auc_roc = roc_auc_score(target_valid, probabilities_one_valid)\n",
    "print(\"ROC_auc score:\", auc_roc)\n",
    "\n",
    "fpr, tpr, thresholds = roc_curve(target_valid, probabilities_one_valid) \n",
    "plt.figure()\n",
    "plt.plot(fpr, tpr)\n",
    "plt.plot([0, 1], [0, 1], linestyle='--')\n",
    "plt.xlabel('False Positive Rate')\n",
    "plt.ylabel('True Positive Rate')\n",
    "plt.ylim([0.0, 1.0])\n",
    "plt.xlim([0.0, 1.0])\n",
    "plt.title('ROC-кривая')\n",
    "plt.show()\n"
   ]
  },
  {
   "cell_type": "markdown",
   "metadata": {},
   "source": [
    "F1 score: 0.49. Для дерева решений аналогичный результат."
   ]
  },
  {
   "cell_type": "markdown",
   "metadata": {},
   "source": [
    "Модель случайного леса:"
   ]
  },
  {
   "cell_type": "code",
   "execution_count": null,
   "metadata": {},
   "outputs": [],
   "source": [
    "best_model_rf_upsampled = None\n",
    "best_result_rf = 0\n",
    "for depth in range(1, 16, 1):\n",
    "    \n",
    "    model_rf_upsampled = RandomForestClassifier(random_state=42, n_estimators=100, max_depth=depth)\n",
    "    model_rf_upsampled.fit(features_upsampled, target_upsampled)\n",
    "    predictions = model_rf_upsampled.predict(features_valid)\n",
    "    result = f1_score(target_valid, predictions)\n",
    "    if result > best_result_rf:\n",
    "        best_model_rf_upsampled = model_rf_upsampled\n",
    "        best_result_rf = result\n",
    "        \n",
    "predicted_valid = best_model_rf_upsampled.predict(features_valid)\n",
    "\n",
    "print(\"Полнота:\", recall_score(target_valid, predicted_valid))\n",
    "print(\"Точность:\", precision_score(target_valid, predicted_valid))\n",
    "print(\"F1 score:\", f1_score(target_valid, predicted_valid))\n",
    "print(\"Accuracy:\", accuracy_score(target_valid, predicted_valid))\n",
    "print(\"Матрица ошибок:\")\n",
    "print(confusion_matrix(target_valid, predicted_valid))\n",
    "\n",
    "probabilities_valid = best_model_rf_upsampled.predict_proba(features_valid)\n",
    "probabilities_one_valid = probabilities_valid[:, 1]\n",
    "auc_roc = roc_auc_score(target_valid, probabilities_one_valid)\n",
    "print(\"ROC_auc score:\", auc_roc)\n",
    "\n",
    "\n",
    "fpr, tpr, thresholds = roc_curve(target_valid, probabilities_one_valid) \n",
    "plt.figure()\n",
    "plt.plot(fpr, tpr)\n",
    "plt.plot([0, 1], [0, 1], linestyle='--')\n",
    "plt.xlabel('False Positive Rate')\n",
    "plt.ylabel('True Positive Rate')\n",
    "plt.ylim([0.0, 1.0])\n",
    "plt.xlim([0.0, 1.0])\n",
    "plt.title('ROC-кривая')\n",
    "plt.show()\n"
   ]
  },
  {
   "cell_type": "markdown",
   "metadata": {},
   "source": [
    "upsampling незначительно лучше, чем при использований взвешивания классов. "
   ]
  },
  {
   "cell_type": "markdown",
   "metadata": {},
   "source": [
    "**Обучим модель применив технику уменьшение выборки (downsampling):**"
   ]
  },
  {
   "cell_type": "markdown",
   "metadata": {},
   "source": [
    "Создадим функцию для уменьшения выборки обучающих данных:"
   ]
  },
  {
   "cell_type": "code",
   "execution_count": null,
   "metadata": {},
   "outputs": [],
   "source": [
    "def downsample(features, target, fraction):\n",
    "    features_zeros = features_train[target == 0]\n",
    "    features_ones = features_train[target == 1]\n",
    "    target_zeros = target_train[target == 0]\n",
    "    target_ones = target_train[target == 1]\n",
    "\n",
    "    features_downsampled = pd.concat(\n",
    "        [features_zeros.sample(frac=fraction, random_state=12345)] + [features_ones])\n",
    "    target_downsampled = pd.concat(\n",
    "        [target_zeros.sample(frac=fraction, random_state=12345)] + [target_ones])\n",
    "    \n",
    "    features_downsampled, target_downsampled = shuffle(\n",
    "        features_downsampled, target_downsampled, random_state=12345)\n",
    "    \n",
    "    return features_downsampled, target_downsampled\n",
    "\n",
    "features_downsampled, target_downsampled = downsample(features_train, target_train, 0.25)"
   ]
  },
  {
   "cell_type": "markdown",
   "metadata": {},
   "source": [
    "Обучим на них модель логистической регрессии и посмотрим метрики на валидационной выборке:"
   ]
  },
  {
   "cell_type": "code",
   "execution_count": null,
   "metadata": {},
   "outputs": [],
   "source": [
    "model_lr_downsampling = LogisticRegression(random_state=42, solver='liblinear')\n",
    "model_lr_downsampling.fit(features_downsampled, target_downsampled)\n",
    "predicted_valid = model_lr_downsampling.predict(features_valid)\n",
    "\n",
    "probabilities_valid = model_lr_downsampling.predict_proba(features_valid)\n",
    "probabilities_one_valid = probabilities_valid[:, 1]\n",
    "roc_auc = roc_auc_score(target_valid, probabilities_one_valid)\n",
    "\n",
    "print(\"Полнота:\", recall_score(target_valid, predicted_valid))\n",
    "print(\"Точность:\", precision_score(target_valid, predicted_valid))\n",
    "print(\"F1 score:\", f1_score(target_valid, predicted_valid))\n",
    "print(\"ROC_auc score:\", roc_auc)\n",
    "print(\"Accuracy:\", accuracy_score(target_valid, predicted_valid))\n",
    "print(\"Матрица ошибок:\")\n",
    "print(confusion_matrix(target_valid, predicted_valid))\n"
   ]
  },
  {
   "cell_type": "markdown",
   "metadata": {},
   "source": [
    "downsampling не показывает эффективность на модели логистической регрессии."
   ]
  },
  {
   "cell_type": "markdown",
   "metadata": {},
   "source": [
    "Дерева решений:"
   ]
  },
  {
   "cell_type": "code",
   "execution_count": null,
   "metadata": {},
   "outputs": [],
   "source": [
    "best_model_tc_downsample = None\n",
    "best_result_tc = 0\n",
    "for depth in range(1, 30):\n",
    "                model_tc_downsample = DecisionTreeClassifier(random_state=42, max_depth=depth)\n",
    "                model_tc_downsample.fit(features_downsampled, target_downsampled)\n",
    "                predictions = model_tc_downsample.predict(features_valid)\n",
    "                result = f1_score(target_valid, predictions)\n",
    "                if result > best_result_tc:\n",
    "                    best_model_tc_downsample = model_tc_downsample\n",
    "                    predicted_valid = predictions\n",
    "\n",
    "print(\"Полнота:\", recall_score(target_valid, predicted_valid))\n",
    "print(\"Точность:\", precision_score(target_valid, predicted_valid))\n",
    "print(\"F1 score:\", f1_score(target_valid, predicted_valid))\n",
    "print(\"Accuracy:\", accuracy_score(target_valid, predicted_valid))\n",
    "print(\"Матрица ошибок:\")\n",
    "print(confusion_matrix(target_valid, predicted_valid))\n",
    "\n",
    "\n",
    "probabilities_valid = best_model_tc_downsample.predict_proba(features_valid)\n",
    "probabilities_one_valid = probabilities_valid[:, 1]\n",
    "auc_roc = roc_auc_score(target_valid, probabilities_one_valid)\n",
    "print(\"ROC_auc score:\", auc_roc)"
   ]
  },
  {
   "cell_type": "markdown",
   "metadata": {},
   "source": [
    "downsampling не показывает эффективность на модели дерева решений."
   ]
  },
  {
   "cell_type": "markdown",
   "metadata": {},
   "source": [
    "Модель случайного леса:"
   ]
  },
  {
   "cell_type": "code",
   "execution_count": null,
   "metadata": {},
   "outputs": [],
   "source": [
    "best_model_rf_downsampling = None\n",
    "best_result_rf = 0\n",
    "for depth in range(1, 16, 1):\n",
    "    \n",
    "    model_rf_downsampling = RandomForestClassifier(random_state=42, n_estimators=100, max_depth=depth)\n",
    "    model_rf_downsampling.fit(features_downsampled, target_downsampled)\n",
    "    predictions = model_rf_downsampling.predict(features_valid)\n",
    "    result = f1_score(target_valid, predictions)\n",
    "    if result > best_result_rf:\n",
    "        best_model_rf_downsampling = model_rf_downsampling\n",
    "        best_result_rf = result\n",
    "        \n",
    "predicted_valid = best_model_rf_downsampling.predict(features_valid)\n",
    "\n",
    "print(\"Полнота:\", recall_score(target_valid, predicted_valid))\n",
    "print(\"Точность:\", precision_score(target_valid, predicted_valid))\n",
    "print(\"F1 score:\", f1_score(target_valid, predicted_valid))\n",
    "print(\"Accuracy:\", accuracy_score(target_valid, predicted_valid))\n",
    "print(\"Матрица ошибок:\")\n",
    "print(confusion_matrix(target_valid, predicted_valid))\n",
    "\n",
    "probabilities_valid = best_model_rf_downsampling.predict_proba(features_valid)\n",
    "probabilities_one_valid = probabilities_valid[:, 1]\n",
    "auc_roc = roc_auc_score(target_valid, probabilities_one_valid)\n",
    "print(\"ROC_auc score:\", auc_roc)\n"
   ]
  },
  {
   "cell_type": "markdown",
   "metadata": {},
   "source": [
    "Предсказания модели случайного леса при уменьшении выборки обучающих данных похуже чем при увеличении. Полнота улучшилась, точность уменьшилась, f1-мера 0.60. "
   ]
  },
  {
   "cell_type": "markdown",
   "metadata": {},
   "source": [
    "В ходе борьбы с дисбалансом классов наилучшие результаты показала модель случайного леса при увеличении выборки обучающих данных. Полнота: 0.66, Точность: 0.598, F1 score: 0.63, ROC_auc score: 0.86."
   ]
  },
  {
   "cell_type": "markdown",
   "metadata": {},
   "source": [
    "Посмотрим оптимальный порог классификации для лучшей модели (best_model_rf_upsampled):"
   ]
  },
  {
   "cell_type": "code",
   "execution_count": null,
   "metadata": {},
   "outputs": [],
   "source": [
    "probabilities_valid = best_model_rf_upsampled.predict_proba(features_valid)\n",
    "probabilities_one_valid = probabilities_valid[:, 1]\n",
    "\n",
    "for threshold in np.arange(0, 0.6, 0.02):\n",
    "    predicted_valid = probabilities_one_valid > threshold\n",
    "    precision = precision_score(target_valid, predicted_valid)\n",
    "    recall = recall_score(target_valid, predicted_valid)\n",
    "    print(\"Порог = {:.2f} | Точность = {:.3f}, Полнота = {:.3f}, F1 score = {:.3f}\".format(\n",
    "        threshold, precision, recall, f1_score(target_valid, predicted_valid)))"
   ]
  },
  {
   "cell_type": "markdown",
   "metadata": {},
   "source": [
    "Наилучший порог классификации: Порог = 0.50 | Точность = 0.598, Полнота = 0.666, F1 score = 0.630.\n",
    "\n",
    "Хотя можно рассмотреть и порог 0.40, при котором полнота наибольшая и F1 мера укладывается в целевые 0.59. В данном проекте я думаю полнота более важный параметр, так как при прогнозировании оттока клиентов лучше перестраховаться и захватить большее количество клиентов."
   ]
  },
  {
   "cell_type": "markdown",
   "metadata": {},
   "source": [
    "## Тестирование модели"
   ]
  },
  {
   "cell_type": "markdown",
   "metadata": {},
   "source": [
    "Проверим лучшую модель на тестовой выборке:"
   ]
  },
  {
   "cell_type": "code",
   "execution_count": null,
   "metadata": {},
   "outputs": [],
   "source": [
    "predicted_test = best_model_rf_upsampled.predict(features_test)\n",
    "\n",
    "print(\"Полнота:\", recall_score(target_test, predicted_test))\n",
    "print(\"Точность:\", precision_score(target_test, predicted_test))\n",
    "print(\"F1 score:\", f1_score(target_test, predicted_test))\n",
    "print(\"Accuracy:\", accuracy_score(target_test, predicted_test))\n",
    "print(\"Матрица ошибок:\")\n",
    "print(confusion_matrix(target_test, predicted_test))\n",
    "\n",
    "\n",
    "probabilities_test = best_model_rf_upsampled.predict_proba(features_test)\n",
    "probabilities_one_test = probabilities_test[:, 1]\n",
    "auc_roc = roc_auc_score(target_test, probabilities_one_test)\n",
    "print(\"ROC_auc score:\", auc_roc)\n",
    "\n",
    "\n",
    "fpr, tpr, thresholds = roc_curve(target_test, probabilities_one_test) \n",
    "plt.figure()\n",
    "plt.plot(fpr, tpr)\n",
    "plt.plot([0, 1], [0, 1], linestyle='--')\n",
    "plt.xlabel('False Positive Rate')\n",
    "plt.ylabel('True Positive Rate')\n",
    "plt.ylim([0.0, 1.0])\n",
    "plt.xlim([0.0, 1.0])\n",
    "plt.title('ROC-кривая')\n",
    "plt.show()"
   ]
  },
  {
   "cell_type": "markdown",
   "metadata": {},
   "source": [
    "На тестовой выборке модель показала значение F1 score: 0.597, предсказания приемлимые."
   ]
  },
  {
   "cell_type": "markdown",
   "metadata": {},
   "source": [
    "**Вывод:**"
   ]
  },
  {
   "cell_type": "markdown",
   "metadata": {},
   "source": [
    "Перед нами стояла задача: спрогнозировать, уйдёт клиент из банка в ближайшее время или нет. Построить модель с предельно большим значением F1-меры, нужно довести метрику до 0.59. Проверить F1-меру на тестовой выборке.\n",
    "\n",
    "   - Импортировали необходимые библиотеки и модули. Считали файл в датафрейм, вывели первые 20 строк и ознакомились с общей информацией. Убедились в отсутсвии дубликатов и наличии правильных типов данных. Пропуски в столбце \"Tenure\" удалили. Также удалили столбцы \"RowNumber\", \"CustomerId\", \"Surname\", которые не понадобятся в процессе обучения модели. Посмотрели уникальные значения категориальных переменных.  Пострили матрицу рассеяния и таблицу кореляции, чтобы выявить зависимости в количественных переменных.\n",
    "   - Применили прямое кодирование ко всему датафрейму, при помощи функции pd.get_dummies() c аргументом drop_first. Сохранили таблицу в переменной data_ohe.\n",
    "   - Разделили исходные данные на три выборки в соотношении 60:20:20 (%). Использовали функцию train_test_split и применили параметр stratify по столбцу 'target'. Проверили размерность полученных датафреймов.\n",
    "   - Выполнили стандартизацию численных признаков. Создали объект структуры StandardScaler() и настроили его на обучающих данных. Сохранили преобразованные обучающую, валидационную и тестовую выборки в переменных: features_train, features_valid и features_test.\n",
    "   - Проверили баланс классов: классы являются несбалансированными, так как делятся в соотношении 79.6% и 20.4%.\n",
    "   - Изучили три модели без учета дисбаланса классов: модели логистической регресии, дерева решений и случайного леса. Модели логистической регресии (Полнота: 0.17, Точность: 0.58, F1 score: 0.27, ROC_auc score: 0.75), дерева решений (модель не сильно лучше слуйчайной) не пригодны для использования. А модель случайного леса (Полнота 0.41 - низкая, то есть доля правильных положительных ответов всего 41%. Точность высокая 81%, а F1 score 0.54) - модель дает мало положительных ответов.\n",
    "   - Для борьбы с дисбалансом классов применили в моделях взвешивание классов, увеличение выборки (upsampling) и  уменьшение выборки (downsampling). Модели логистической регресии, дерева решений не показали качественного улучшения. В ходе борьбы с дисбалансом классов хорошие результаты показала только модель случайного леса при увеличении выборки обучающих данных. Полнота: 0.66, Точность: 0.598, F1 score: 0.63, ROC_auc score: 0.86. Наилучший порог классификации: Порог = 0.50.\n",
    "   - Проверили лучшую модель на тестовой выборке: модель показала значение F1 score: 0.597, предсказания приемлимые.\n",
    " \n",
    "        \n"
   ]
  },
  {
   "cell_type": "markdown",
   "metadata": {},
   "source": [
    "## Чек-лист готовности проекта"
   ]
  },
  {
   "cell_type": "markdown",
   "metadata": {},
   "source": [
    "Поставьте 'x' в выполненных пунктах. Далее нажмите Shift+Enter."
   ]
  },
  {
   "cell_type": "markdown",
   "metadata": {},
   "source": [
    "- [x]  Jupyter Notebook открыт\n",
    "- [x]  Весь код выполняется без ошибок\n",
    "- [x]  Ячейки с кодом расположены в порядке исполнения\n",
    "- [x]  Выполнен шаг 1: данные подготовлены\n",
    "- [x]  Выполнен шаг 2: задача исследована\n",
    "    - [x]  Исследован баланс классов\n",
    "    - [x]  Изучены модели без учёта дисбаланса\n",
    "    - [x]  Написаны выводы по результатам исследования\n",
    "- [x]  Выполнен шаг 3: учтён дисбаланс\n",
    "    - [x]  Применено несколько способов борьбы с дисбалансом\n",
    "    - [x]  Написаны выводы по результатам исследования\n",
    "- [x]  Выполнен шаг 4: проведено тестирование\n",
    "- [x]  Удалось достичь *F1*-меры не менее 0.59\n",
    "- [x]  Исследована метрика *AUC-ROC*"
   ]
  },
  {
   "cell_type": "code",
   "execution_count": null,
   "metadata": {},
   "outputs": [],
   "source": []
  }
 ],
 "metadata": {
  "ExecuteTimeLog": [
   {
    "duration": 500,
    "start_time": "2023-06-01T01:26:00.085Z"
   },
   {
    "duration": 344,
    "start_time": "2023-06-01T01:28:49.992Z"
   },
   {
    "duration": 864,
    "start_time": "2023-06-01T01:29:11.653Z"
   },
   {
    "duration": 300,
    "start_time": "2023-06-01T01:29:14.706Z"
   },
   {
    "duration": 306,
    "start_time": "2023-06-01T01:30:05.434Z"
   },
   {
    "duration": 23,
    "start_time": "2023-06-01T01:30:23.397Z"
   },
   {
    "duration": 1361,
    "start_time": "2023-06-01T01:33:17.882Z"
   },
   {
    "duration": 49,
    "start_time": "2023-06-01T01:33:30.674Z"
   },
   {
    "duration": 1305,
    "start_time": "2023-06-01T01:33:30.725Z"
   },
   {
    "duration": 0,
    "start_time": "2023-06-01T01:33:32.032Z"
   },
   {
    "duration": 11,
    "start_time": "2023-06-01T01:36:25.499Z"
   },
   {
    "duration": 51,
    "start_time": "2023-06-01T01:36:32.047Z"
   },
   {
    "duration": 21,
    "start_time": "2023-06-01T01:36:32.101Z"
   },
   {
    "duration": 0,
    "start_time": "2023-06-01T01:36:32.124Z"
   },
   {
    "duration": 11,
    "start_time": "2023-06-01T01:37:13.607Z"
   },
   {
    "duration": 8,
    "start_time": "2023-06-01T01:37:25.137Z"
   },
   {
    "duration": 12,
    "start_time": "2023-06-01T01:37:50.007Z"
   },
   {
    "duration": 6,
    "start_time": "2023-06-01T01:42:59.494Z"
   },
   {
    "duration": 6,
    "start_time": "2023-06-01T01:45:36.002Z"
   },
   {
    "duration": 548,
    "start_time": "2023-06-01T01:46:32.451Z"
   },
   {
    "duration": 16,
    "start_time": "2023-06-01T01:50:18.911Z"
   },
   {
    "duration": 5,
    "start_time": "2023-06-01T01:50:37.512Z"
   },
   {
    "duration": 1226,
    "start_time": "2023-06-01T01:51:08.033Z"
   },
   {
    "duration": 4,
    "start_time": "2023-06-01T01:51:14.158Z"
   },
   {
    "duration": 5,
    "start_time": "2023-06-01T01:51:34.532Z"
   },
   {
    "duration": 6,
    "start_time": "2023-06-01T01:51:54.580Z"
   },
   {
    "duration": 5,
    "start_time": "2023-06-01T01:52:14.710Z"
   },
   {
    "duration": 4,
    "start_time": "2023-06-01T01:52:32.980Z"
   },
   {
    "duration": 4,
    "start_time": "2023-06-01T01:53:10.011Z"
   },
   {
    "duration": 6,
    "start_time": "2023-06-01T01:53:39.190Z"
   },
   {
    "duration": 9,
    "start_time": "2023-06-01T01:55:12.878Z"
   },
   {
    "duration": 26,
    "start_time": "2023-06-01T01:57:23.284Z"
   },
   {
    "duration": 8,
    "start_time": "2023-06-01T02:04:49.532Z"
   },
   {
    "duration": 5,
    "start_time": "2023-06-01T02:05:28.392Z"
   },
   {
    "duration": 5,
    "start_time": "2023-06-01T02:05:36.900Z"
   },
   {
    "duration": 46,
    "start_time": "2023-06-01T02:05:47.521Z"
   },
   {
    "duration": 14,
    "start_time": "2023-06-01T02:05:47.588Z"
   },
   {
    "duration": 23,
    "start_time": "2023-06-01T02:05:47.604Z"
   },
   {
    "duration": 5,
    "start_time": "2023-06-01T02:05:47.628Z"
   },
   {
    "duration": 6,
    "start_time": "2023-06-01T02:05:47.634Z"
   },
   {
    "duration": 15,
    "start_time": "2023-06-01T02:05:47.642Z"
   },
   {
    "duration": 3,
    "start_time": "2023-06-01T02:05:48.844Z"
   },
   {
    "duration": 9,
    "start_time": "2023-06-01T02:05:48.849Z"
   },
   {
    "duration": 4,
    "start_time": "2023-06-01T02:05:48.860Z"
   },
   {
    "duration": 4,
    "start_time": "2023-06-01T02:05:49.130Z"
   },
   {
    "duration": 3,
    "start_time": "2023-06-01T02:05:49.136Z"
   },
   {
    "duration": 19,
    "start_time": "2023-06-01T02:05:49.223Z"
   },
   {
    "duration": 19,
    "start_time": "2023-06-01T02:05:49.276Z"
   },
   {
    "duration": 15,
    "start_time": "2023-06-01T02:05:51.446Z"
   },
   {
    "duration": 0,
    "start_time": "2023-06-01T02:05:51.463Z"
   },
   {
    "duration": 3,
    "start_time": "2023-06-01T02:06:18.949Z"
   },
   {
    "duration": 3,
    "start_time": "2023-06-01T02:08:35.328Z"
   },
   {
    "duration": 6,
    "start_time": "2023-06-01T02:08:50.502Z"
   },
   {
    "duration": 52,
    "start_time": "2023-06-01T03:06:36.199Z"
   },
   {
    "duration": 5,
    "start_time": "2023-06-01T03:10:31.862Z"
   },
   {
    "duration": 17,
    "start_time": "2023-06-01T03:10:42.006Z"
   },
   {
    "duration": 52,
    "start_time": "2023-06-01T16:44:53.865Z"
   },
   {
    "duration": 1221,
    "start_time": "2023-06-01T16:44:57.185Z"
   },
   {
    "duration": 12,
    "start_time": "2023-06-01T16:44:58.408Z"
   },
   {
    "duration": 10,
    "start_time": "2023-06-01T16:44:58.422Z"
   },
   {
    "duration": 7,
    "start_time": "2023-06-01T16:44:58.433Z"
   },
   {
    "duration": 6,
    "start_time": "2023-06-01T16:45:45.258Z"
   },
   {
    "duration": 5,
    "start_time": "2023-06-01T16:45:50.471Z"
   },
   {
    "duration": 7,
    "start_time": "2023-06-01T16:46:04.662Z"
   },
   {
    "duration": 5,
    "start_time": "2023-06-01T16:57:30.999Z"
   },
   {
    "duration": 72,
    "start_time": "2023-06-01T16:57:40.486Z"
   },
   {
    "duration": 57,
    "start_time": "2023-06-01T16:57:51.791Z"
   },
   {
    "duration": 13,
    "start_time": "2023-06-01T16:57:51.850Z"
   },
   {
    "duration": 4,
    "start_time": "2023-06-01T16:57:57.561Z"
   },
   {
    "duration": 11,
    "start_time": "2023-06-01T16:58:03.391Z"
   },
   {
    "duration": 11,
    "start_time": "2023-06-01T16:58:15.312Z"
   },
   {
    "duration": 56,
    "start_time": "2023-06-01T17:01:19.678Z"
   },
   {
    "duration": 11,
    "start_time": "2023-06-01T17:01:19.736Z"
   },
   {
    "duration": 39,
    "start_time": "2023-06-01T17:01:19.749Z"
   },
   {
    "duration": 33,
    "start_time": "2023-06-01T17:01:19.790Z"
   },
   {
    "duration": 34,
    "start_time": "2023-06-01T17:01:19.826Z"
   },
   {
    "duration": 42,
    "start_time": "2023-06-01T17:01:19.862Z"
   },
   {
    "duration": 31,
    "start_time": "2023-06-01T17:01:19.905Z"
   },
   {
    "duration": 19,
    "start_time": "2023-06-01T17:01:19.938Z"
   },
   {
    "duration": 25,
    "start_time": "2023-06-01T17:01:19.959Z"
   },
   {
    "duration": 25,
    "start_time": "2023-06-01T17:01:19.986Z"
   },
   {
    "duration": 555,
    "start_time": "2023-06-01T17:01:20.013Z"
   },
   {
    "duration": 26,
    "start_time": "2023-06-01T17:01:20.570Z"
   },
   {
    "duration": 33,
    "start_time": "2023-06-01T17:01:20.597Z"
   },
   {
    "duration": 55,
    "start_time": "2023-06-01T17:05:43.967Z"
   },
   {
    "duration": 13,
    "start_time": "2023-06-01T17:05:44.023Z"
   },
   {
    "duration": 1552,
    "start_time": "2023-06-01T17:05:44.037Z"
   },
   {
    "duration": 0,
    "start_time": "2023-06-01T17:05:45.591Z"
   },
   {
    "duration": 0,
    "start_time": "2023-06-01T17:05:45.592Z"
   },
   {
    "duration": 0,
    "start_time": "2023-06-01T17:05:45.593Z"
   },
   {
    "duration": 0,
    "start_time": "2023-06-01T17:05:45.594Z"
   },
   {
    "duration": 0,
    "start_time": "2023-06-01T17:05:45.595Z"
   },
   {
    "duration": 0,
    "start_time": "2023-06-01T17:05:45.596Z"
   },
   {
    "duration": 0,
    "start_time": "2023-06-01T17:05:45.597Z"
   },
   {
    "duration": 0,
    "start_time": "2023-06-01T17:05:45.598Z"
   },
   {
    "duration": 0,
    "start_time": "2023-06-01T17:05:45.599Z"
   },
   {
    "duration": 10,
    "start_time": "2023-06-01T17:07:15.649Z"
   },
   {
    "duration": 62,
    "start_time": "2023-06-01T17:07:21.464Z"
   },
   {
    "duration": 18,
    "start_time": "2023-06-01T17:07:21.528Z"
   },
   {
    "duration": 30,
    "start_time": "2023-06-01T17:07:21.548Z"
   },
   {
    "duration": 26,
    "start_time": "2023-06-01T17:07:21.581Z"
   },
   {
    "duration": 1339,
    "start_time": "2023-06-01T17:07:21.609Z"
   },
   {
    "duration": 0,
    "start_time": "2023-06-01T17:07:22.950Z"
   },
   {
    "duration": 0,
    "start_time": "2023-06-01T17:07:22.951Z"
   },
   {
    "duration": 0,
    "start_time": "2023-06-01T17:07:22.952Z"
   },
   {
    "duration": 0,
    "start_time": "2023-06-01T17:07:22.953Z"
   },
   {
    "duration": 0,
    "start_time": "2023-06-01T17:07:22.954Z"
   },
   {
    "duration": 0,
    "start_time": "2023-06-01T17:07:22.955Z"
   },
   {
    "duration": 0,
    "start_time": "2023-06-01T17:07:22.956Z"
   },
   {
    "duration": 6,
    "start_time": "2023-06-01T17:07:45.117Z"
   },
   {
    "duration": 56,
    "start_time": "2023-06-01T17:28:02.165Z"
   },
   {
    "duration": 15,
    "start_time": "2023-06-01T17:28:09.919Z"
   },
   {
    "duration": 7,
    "start_time": "2023-06-01T17:28:50.818Z"
   },
   {
    "duration": 14,
    "start_time": "2023-06-01T17:28:52.553Z"
   },
   {
    "duration": 11,
    "start_time": "2023-06-01T17:29:12.543Z"
   },
   {
    "duration": 9,
    "start_time": "2023-06-01T17:29:13.081Z"
   },
   {
    "duration": 12,
    "start_time": "2023-06-01T17:29:43.058Z"
   },
   {
    "duration": 9,
    "start_time": "2023-06-01T17:29:43.402Z"
   },
   {
    "duration": 7,
    "start_time": "2023-06-01T17:29:44.449Z"
   },
   {
    "duration": 6,
    "start_time": "2023-06-01T17:29:45.183Z"
   },
   {
    "duration": 6820,
    "start_time": "2023-06-01T19:12:42.652Z"
   },
   {
    "duration": 26,
    "start_time": "2023-06-01T19:13:54.781Z"
   },
   {
    "duration": 1190,
    "start_time": "2023-06-01T22:51:36.193Z"
   },
   {
    "duration": 13,
    "start_time": "2023-06-01T22:51:37.385Z"
   },
   {
    "duration": 7,
    "start_time": "2023-06-01T22:51:37.400Z"
   },
   {
    "duration": 12,
    "start_time": "2023-06-01T22:51:37.409Z"
   },
   {
    "duration": 7,
    "start_time": "2023-06-01T22:51:37.423Z"
   },
   {
    "duration": 9,
    "start_time": "2023-06-01T22:51:37.431Z"
   },
   {
    "duration": 6,
    "start_time": "2023-06-01T22:51:37.442Z"
   },
   {
    "duration": 6,
    "start_time": "2023-06-01T22:51:37.449Z"
   },
   {
    "duration": 5572,
    "start_time": "2023-06-01T22:51:37.457Z"
   },
   {
    "duration": 17,
    "start_time": "2023-06-01T22:51:43.030Z"
   },
   {
    "duration": 27,
    "start_time": "2023-06-01T22:51:43.048Z"
   },
   {
    "duration": 14,
    "start_time": "2023-06-01T22:51:53.094Z"
   },
   {
    "duration": 27,
    "start_time": "2023-06-02T00:01:40.819Z"
   },
   {
    "duration": 52,
    "start_time": "2023-06-02T00:05:46.771Z"
   },
   {
    "duration": 12,
    "start_time": "2023-06-02T00:05:46.825Z"
   },
   {
    "duration": 5,
    "start_time": "2023-06-02T00:05:46.839Z"
   },
   {
    "duration": 8,
    "start_time": "2023-06-02T00:05:46.846Z"
   },
   {
    "duration": 6,
    "start_time": "2023-06-02T00:05:46.856Z"
   },
   {
    "duration": 9,
    "start_time": "2023-06-02T00:05:46.863Z"
   },
   {
    "duration": 7,
    "start_time": "2023-06-02T00:05:46.874Z"
   },
   {
    "duration": 5,
    "start_time": "2023-06-02T00:05:46.917Z"
   },
   {
    "duration": 5310,
    "start_time": "2023-06-02T00:05:46.924Z"
   },
   {
    "duration": 17,
    "start_time": "2023-06-02T00:05:52.237Z"
   },
   {
    "duration": 14,
    "start_time": "2023-06-02T00:06:01.997Z"
   },
   {
    "duration": 15,
    "start_time": "2023-06-02T00:06:05.800Z"
   },
   {
    "duration": 12,
    "start_time": "2023-06-02T00:08:44.940Z"
   },
   {
    "duration": 11,
    "start_time": "2023-06-02T00:11:55.600Z"
   },
   {
    "duration": 13,
    "start_time": "2023-06-02T00:17:15.209Z"
   },
   {
    "duration": 11,
    "start_time": "2023-06-02T00:17:29.320Z"
   },
   {
    "duration": 37,
    "start_time": "2023-06-02T00:17:37.340Z"
   },
   {
    "duration": 7,
    "start_time": "2023-06-02T00:32:52.568Z"
   },
   {
    "duration": 51,
    "start_time": "2023-06-02T00:32:56.038Z"
   },
   {
    "duration": 15,
    "start_time": "2023-06-02T00:32:56.092Z"
   },
   {
    "duration": 29,
    "start_time": "2023-06-02T00:32:56.108Z"
   },
   {
    "duration": 15,
    "start_time": "2023-06-02T00:32:56.139Z"
   },
   {
    "duration": 12,
    "start_time": "2023-06-02T00:32:56.156Z"
   },
   {
    "duration": 12,
    "start_time": "2023-06-02T00:32:56.170Z"
   },
   {
    "duration": 6,
    "start_time": "2023-06-02T00:32:56.183Z"
   },
   {
    "duration": 6,
    "start_time": "2023-06-02T00:32:56.191Z"
   },
   {
    "duration": 5214,
    "start_time": "2023-06-02T00:32:56.199Z"
   },
   {
    "duration": 20,
    "start_time": "2023-06-02T00:33:01.414Z"
   },
   {
    "duration": 28,
    "start_time": "2023-06-02T00:33:01.436Z"
   },
   {
    "duration": 32,
    "start_time": "2023-06-02T00:33:01.467Z"
   },
   {
    "duration": 46,
    "start_time": "2023-06-02T00:33:01.501Z"
   },
   {
    "duration": 67,
    "start_time": "2023-06-02T00:33:01.549Z"
   },
   {
    "duration": 10,
    "start_time": "2023-06-02T00:33:01.619Z"
   },
   {
    "duration": 115,
    "start_time": "2023-06-02T01:34:34.912Z"
   },
   {
    "duration": 61,
    "start_time": "2023-06-02T01:34:40.836Z"
   },
   {
    "duration": 11,
    "start_time": "2023-06-02T01:34:40.899Z"
   },
   {
    "duration": 6,
    "start_time": "2023-06-02T01:34:40.912Z"
   },
   {
    "duration": 8,
    "start_time": "2023-06-02T01:34:40.919Z"
   },
   {
    "duration": 5,
    "start_time": "2023-06-02T01:34:40.929Z"
   },
   {
    "duration": 7,
    "start_time": "2023-06-02T01:34:40.935Z"
   },
   {
    "duration": 5,
    "start_time": "2023-06-02T01:34:40.943Z"
   },
   {
    "duration": 4,
    "start_time": "2023-06-02T01:34:40.950Z"
   },
   {
    "duration": 5107,
    "start_time": "2023-06-02T01:34:40.956Z"
   },
   {
    "duration": 16,
    "start_time": "2023-06-02T01:34:46.064Z"
   },
   {
    "duration": 29,
    "start_time": "2023-06-02T01:34:46.082Z"
   },
   {
    "duration": 13,
    "start_time": "2023-06-02T01:34:46.114Z"
   },
   {
    "duration": 26,
    "start_time": "2023-06-02T01:34:46.129Z"
   },
   {
    "duration": 39,
    "start_time": "2023-06-02T01:34:46.158Z"
   },
   {
    "duration": 7,
    "start_time": "2023-06-02T01:34:46.199Z"
   },
   {
    "duration": 31,
    "start_time": "2023-06-02T01:34:46.208Z"
   },
   {
    "duration": 29,
    "start_time": "2023-06-02T01:38:33.522Z"
   },
   {
    "duration": 68,
    "start_time": "2023-06-02T02:40:33.015Z"
   },
   {
    "duration": 13,
    "start_time": "2023-06-02T02:40:33.085Z"
   },
   {
    "duration": 6,
    "start_time": "2023-06-02T02:40:33.099Z"
   },
   {
    "duration": 9,
    "start_time": "2023-06-02T02:40:33.182Z"
   },
   {
    "duration": 6,
    "start_time": "2023-06-02T02:40:33.193Z"
   },
   {
    "duration": 8,
    "start_time": "2023-06-02T02:40:33.200Z"
   },
   {
    "duration": 7,
    "start_time": "2023-06-02T02:40:33.210Z"
   },
   {
    "duration": 8,
    "start_time": "2023-06-02T02:40:33.218Z"
   },
   {
    "duration": 5255,
    "start_time": "2023-06-02T02:40:33.228Z"
   },
   {
    "duration": 15,
    "start_time": "2023-06-02T02:40:38.484Z"
   },
   {
    "duration": 22,
    "start_time": "2023-06-02T02:40:38.500Z"
   },
   {
    "duration": 11,
    "start_time": "2023-06-02T02:40:38.524Z"
   },
   {
    "duration": 15,
    "start_time": "2023-06-02T02:40:38.537Z"
   },
   {
    "duration": 39,
    "start_time": "2023-06-02T02:40:38.553Z"
   },
   {
    "duration": 24,
    "start_time": "2023-06-02T02:40:38.593Z"
   },
   {
    "duration": 28,
    "start_time": "2023-06-02T02:40:38.619Z"
   },
   {
    "duration": 70,
    "start_time": "2023-06-02T02:40:38.648Z"
   },
   {
    "duration": 23,
    "start_time": "2023-06-02T02:41:13.799Z"
   },
   {
    "duration": 24,
    "start_time": "2023-06-02T02:41:26.129Z"
   },
   {
    "duration": 22,
    "start_time": "2023-06-02T02:42:25.078Z"
   },
   {
    "duration": 21,
    "start_time": "2023-06-02T03:08:57.021Z"
   },
   {
    "duration": 20,
    "start_time": "2023-06-02T03:09:30.672Z"
   },
   {
    "duration": 62,
    "start_time": "2023-06-02T03:10:33.483Z"
   },
   {
    "duration": 11,
    "start_time": "2023-06-02T03:10:33.547Z"
   },
   {
    "duration": 5,
    "start_time": "2023-06-02T03:10:33.560Z"
   },
   {
    "duration": 8,
    "start_time": "2023-06-02T03:10:33.567Z"
   },
   {
    "duration": 13,
    "start_time": "2023-06-02T03:10:33.577Z"
   },
   {
    "duration": 28,
    "start_time": "2023-06-02T03:10:33.592Z"
   },
   {
    "duration": 6,
    "start_time": "2023-06-02T03:10:33.622Z"
   },
   {
    "duration": 7,
    "start_time": "2023-06-02T03:10:33.630Z"
   },
   {
    "duration": 5281,
    "start_time": "2023-06-02T03:10:33.639Z"
   },
   {
    "duration": 16,
    "start_time": "2023-06-02T03:10:38.922Z"
   },
   {
    "duration": 9,
    "start_time": "2023-06-02T03:10:38.939Z"
   },
   {
    "duration": 10,
    "start_time": "2023-06-02T03:10:38.950Z"
   },
   {
    "duration": 10,
    "start_time": "2023-06-02T03:10:38.962Z"
   },
   {
    "duration": 65,
    "start_time": "2023-06-02T03:10:38.973Z"
   },
   {
    "duration": 9,
    "start_time": "2023-06-02T03:10:39.040Z"
   },
   {
    "duration": 29,
    "start_time": "2023-06-02T03:10:39.050Z"
   },
   {
    "duration": 46,
    "start_time": "2023-06-02T03:10:39.081Z"
   },
   {
    "duration": 9990,
    "start_time": "2023-06-02T03:10:39.128Z"
   },
   {
    "duration": 206,
    "start_time": "2023-06-02T03:10:49.120Z"
   },
   {
    "duration": 9890,
    "start_time": "2023-06-02T03:11:28.515Z"
   },
   {
    "duration": 540,
    "start_time": "2023-06-02T03:25:11.810Z"
   },
   {
    "duration": 1220,
    "start_time": "2023-06-08T11:37:33.238Z"
   },
   {
    "duration": 12,
    "start_time": "2023-06-08T11:37:34.460Z"
   },
   {
    "duration": 24,
    "start_time": "2023-06-08T11:37:34.474Z"
   },
   {
    "duration": 42,
    "start_time": "2023-06-08T11:37:34.500Z"
   },
   {
    "duration": 36,
    "start_time": "2023-06-08T11:37:34.544Z"
   },
   {
    "duration": 41,
    "start_time": "2023-06-08T11:37:34.582Z"
   },
   {
    "duration": 33,
    "start_time": "2023-06-08T11:37:34.625Z"
   },
   {
    "duration": 26,
    "start_time": "2023-06-08T11:37:34.659Z"
   },
   {
    "duration": 5814,
    "start_time": "2023-06-08T11:37:34.687Z"
   },
   {
    "duration": 18,
    "start_time": "2023-06-08T11:37:40.504Z"
   },
   {
    "duration": 14,
    "start_time": "2023-06-08T11:37:40.524Z"
   },
   {
    "duration": 209,
    "start_time": "2023-06-08T11:37:40.540Z"
   },
   {
    "duration": 86,
    "start_time": "2023-06-08T11:37:40.751Z"
   },
   {
    "duration": 113,
    "start_time": "2023-06-08T11:37:40.841Z"
   },
   {
    "duration": 35,
    "start_time": "2023-06-08T11:37:40.955Z"
   },
   {
    "duration": 107,
    "start_time": "2023-06-08T11:37:40.991Z"
   },
   {
    "duration": 30,
    "start_time": "2023-06-08T11:37:41.099Z"
   },
   {
    "duration": 28,
    "start_time": "2023-06-08T11:37:59.243Z"
   },
   {
    "duration": 51,
    "start_time": "2023-06-08T13:37:07.176Z"
   },
   {
    "duration": 1600,
    "start_time": "2023-06-08T13:37:13.420Z"
   },
   {
    "duration": 18,
    "start_time": "2023-06-08T13:37:15.023Z"
   },
   {
    "duration": 62,
    "start_time": "2023-06-08T13:37:15.043Z"
   },
   {
    "duration": 33,
    "start_time": "2023-06-08T13:37:15.107Z"
   },
   {
    "duration": 23,
    "start_time": "2023-06-08T13:37:15.143Z"
   },
   {
    "duration": 17,
    "start_time": "2023-06-08T13:37:15.173Z"
   },
   {
    "duration": 18,
    "start_time": "2023-06-08T13:37:15.196Z"
   },
   {
    "duration": 9,
    "start_time": "2023-06-08T13:37:15.217Z"
   },
   {
    "duration": 7924,
    "start_time": "2023-06-08T13:37:15.228Z"
   },
   {
    "duration": 48,
    "start_time": "2023-06-08T13:37:23.154Z"
   },
   {
    "duration": 16,
    "start_time": "2023-06-08T13:37:23.205Z"
   },
   {
    "duration": 26,
    "start_time": "2023-06-08T13:37:23.223Z"
   },
   {
    "duration": 48,
    "start_time": "2023-06-08T13:37:23.251Z"
   },
   {
    "duration": 82,
    "start_time": "2023-06-08T13:37:23.302Z"
   },
   {
    "duration": 11,
    "start_time": "2023-06-08T13:37:23.385Z"
   },
   {
    "duration": 57,
    "start_time": "2023-06-08T13:37:23.398Z"
   },
   {
    "duration": 103,
    "start_time": "2023-06-08T13:37:23.457Z"
   },
   {
    "duration": 38,
    "start_time": "2023-06-08T13:37:35.680Z"
   },
   {
    "duration": 11158,
    "start_time": "2023-06-08T13:37:35.720Z"
   },
   {
    "duration": 10943,
    "start_time": "2023-06-08T13:39:10.980Z"
   },
   {
    "duration": 27139,
    "start_time": "2023-06-08T13:39:51.778Z"
   },
   {
    "duration": 107,
    "start_time": "2023-06-08T13:41:59.894Z"
   },
   {
    "duration": 572,
    "start_time": "2023-06-08T13:43:39.292Z"
   },
   {
    "duration": 5611,
    "start_time": "2023-06-08T13:46:31.219Z"
   },
   {
    "duration": 8725,
    "start_time": "2023-06-08T13:46:49.394Z"
   },
   {
    "duration": 50,
    "start_time": "2023-06-09T17:38:38.509Z"
   },
   {
    "duration": 1363,
    "start_time": "2023-06-09T17:38:41.478Z"
   },
   {
    "duration": 13,
    "start_time": "2023-06-09T17:38:42.843Z"
   },
   {
    "duration": 8,
    "start_time": "2023-06-09T17:38:42.858Z"
   },
   {
    "duration": 15,
    "start_time": "2023-06-09T17:38:42.867Z"
   },
   {
    "duration": 9,
    "start_time": "2023-06-09T17:38:42.884Z"
   },
   {
    "duration": 12,
    "start_time": "2023-06-09T17:38:42.895Z"
   },
   {
    "duration": 13,
    "start_time": "2023-06-09T17:38:42.909Z"
   },
   {
    "duration": 26,
    "start_time": "2023-06-09T17:38:42.923Z"
   },
   {
    "duration": 6174,
    "start_time": "2023-06-09T17:38:42.950Z"
   },
   {
    "duration": 17,
    "start_time": "2023-06-09T17:38:49.126Z"
   },
   {
    "duration": 188,
    "start_time": "2023-06-09T17:38:49.145Z"
   },
   {
    "duration": 21,
    "start_time": "2023-06-09T17:38:49.334Z"
   },
   {
    "duration": 24,
    "start_time": "2023-06-09T17:38:49.357Z"
   },
   {
    "duration": 78,
    "start_time": "2023-06-09T17:38:49.384Z"
   },
   {
    "duration": 8,
    "start_time": "2023-06-09T17:38:49.464Z"
   },
   {
    "duration": 66,
    "start_time": "2023-06-09T17:38:49.474Z"
   },
   {
    "duration": 6,
    "start_time": "2023-06-09T17:38:49.542Z"
   },
   {
    "duration": 100,
    "start_time": "2023-06-09T17:38:49.549Z"
   },
   {
    "duration": 25660,
    "start_time": "2023-06-09T17:38:49.651Z"
   },
   {
    "duration": 8619,
    "start_time": "2023-06-09T17:39:15.313Z"
   },
   {
    "duration": 30,
    "start_time": "2023-06-09T17:39:23.934Z"
   },
   {
    "duration": 122,
    "start_time": "2023-06-09T17:39:24.048Z"
   },
   {
    "duration": 10,
    "start_time": "2023-06-09T17:49:26.736Z"
   },
   {
    "duration": 39,
    "start_time": "2023-06-09T17:49:32.443Z"
   },
   {
    "duration": 6,
    "start_time": "2023-06-09T17:49:58.075Z"
   },
   {
    "duration": 28,
    "start_time": "2023-06-09T17:50:00.417Z"
   },
   {
    "duration": 25076,
    "start_time": "2023-06-09T17:50:06.935Z"
   },
   {
    "duration": 8509,
    "start_time": "2023-06-09T17:51:05.913Z"
   },
   {
    "duration": 16,
    "start_time": "2023-06-09T17:53:32.561Z"
   },
   {
    "duration": 35,
    "start_time": "2023-06-09T17:53:36.683Z"
   },
   {
    "duration": 6,
    "start_time": "2023-06-09T17:53:39.868Z"
   },
   {
    "duration": 17,
    "start_time": "2023-06-09T17:55:19.620Z"
   },
   {
    "duration": 1381,
    "start_time": "2023-06-09T17:56:12.063Z"
   },
   {
    "duration": 20,
    "start_time": "2023-06-09T17:56:26.889Z"
   },
   {
    "duration": 6,
    "start_time": "2023-06-09T17:56:37.692Z"
   },
   {
    "duration": 7,
    "start_time": "2023-06-09T17:56:58.419Z"
   },
   {
    "duration": 7,
    "start_time": "2023-06-09T17:57:10.528Z"
   },
   {
    "duration": 8,
    "start_time": "2023-06-09T17:57:58.371Z"
   },
   {
    "duration": 8,
    "start_time": "2023-06-09T17:58:17.244Z"
   },
   {
    "duration": 8,
    "start_time": "2023-06-09T17:58:27.202Z"
   },
   {
    "duration": 33,
    "start_time": "2023-06-09T17:58:39.691Z"
   },
   {
    "duration": 7,
    "start_time": "2023-06-09T17:58:42.970Z"
   },
   {
    "duration": 9,
    "start_time": "2023-06-09T17:59:05.443Z"
   },
   {
    "duration": 38,
    "start_time": "2023-06-09T18:01:53.497Z"
   },
   {
    "duration": 13,
    "start_time": "2023-06-09T18:02:18.611Z"
   },
   {
    "duration": 14,
    "start_time": "2023-06-09T18:02:41.714Z"
   },
   {
    "duration": 36,
    "start_time": "2023-06-09T18:02:46.525Z"
   },
   {
    "duration": 12,
    "start_time": "2023-06-09T18:02:47.171Z"
   },
   {
    "duration": 19,
    "start_time": "2023-06-09T18:02:47.714Z"
   },
   {
    "duration": 42,
    "start_time": "2023-06-09T18:03:24.074Z"
   },
   {
    "duration": 12,
    "start_time": "2023-06-09T18:03:25.241Z"
   },
   {
    "duration": 15,
    "start_time": "2023-06-09T18:03:25.628Z"
   },
   {
    "duration": 14,
    "start_time": "2023-06-09T18:03:58.967Z"
   },
   {
    "duration": 39,
    "start_time": "2023-06-09T18:03:59.980Z"
   },
   {
    "duration": 12,
    "start_time": "2023-06-09T18:04:00.474Z"
   },
   {
    "duration": 11,
    "start_time": "2023-06-09T18:04:00.938Z"
   },
   {
    "duration": 73,
    "start_time": "2023-06-09T18:04:05.829Z"
   },
   {
    "duration": 11,
    "start_time": "2023-06-09T18:04:05.905Z"
   },
   {
    "duration": 34,
    "start_time": "2023-06-09T18:04:05.918Z"
   },
   {
    "duration": 48,
    "start_time": "2023-06-09T18:04:05.954Z"
   },
   {
    "duration": 50,
    "start_time": "2023-06-09T18:04:06.004Z"
   },
   {
    "duration": 23,
    "start_time": "2023-06-09T18:04:06.055Z"
   },
   {
    "duration": 33,
    "start_time": "2023-06-09T18:04:06.079Z"
   },
   {
    "duration": 25,
    "start_time": "2023-06-09T18:04:06.114Z"
   },
   {
    "duration": 5439,
    "start_time": "2023-06-09T18:04:06.140Z"
   },
   {
    "duration": 16,
    "start_time": "2023-06-09T18:04:11.581Z"
   },
   {
    "duration": 9,
    "start_time": "2023-06-09T18:04:11.599Z"
   },
   {
    "duration": 38,
    "start_time": "2023-06-09T18:04:11.609Z"
   },
   {
    "duration": 31,
    "start_time": "2023-06-09T18:04:11.648Z"
   },
   {
    "duration": 42,
    "start_time": "2023-06-09T18:04:11.682Z"
   },
   {
    "duration": 15,
    "start_time": "2023-06-09T18:04:11.726Z"
   },
   {
    "duration": 41,
    "start_time": "2023-06-09T18:04:11.746Z"
   },
   {
    "duration": 15,
    "start_time": "2023-06-09T18:04:11.789Z"
   },
   {
    "duration": 22,
    "start_time": "2023-06-09T18:04:11.805Z"
   },
   {
    "duration": 25,
    "start_time": "2023-06-09T18:04:11.829Z"
   },
   {
    "duration": 94,
    "start_time": "2023-06-09T18:04:11.856Z"
   },
   {
    "duration": 21822,
    "start_time": "2023-06-09T18:04:11.952Z"
   },
   {
    "duration": 7640,
    "start_time": "2023-06-09T18:04:33.776Z"
   },
   {
    "duration": 32,
    "start_time": "2023-06-09T18:04:41.418Z"
   },
   {
    "duration": 22742,
    "start_time": "2023-06-09T18:05:43.761Z"
   },
   {
    "duration": 14,
    "start_time": "2023-06-09T18:07:12.533Z"
   },
   {
    "duration": 12779,
    "start_time": "2023-06-09T18:09:23.296Z"
   },
   {
    "duration": 10,
    "start_time": "2023-06-09T18:09:45.037Z"
   },
   {
    "duration": 56,
    "start_time": "2023-06-09T18:09:54.265Z"
   },
   {
    "duration": 12,
    "start_time": "2023-06-09T18:09:54.323Z"
   },
   {
    "duration": 8,
    "start_time": "2023-06-09T18:09:54.337Z"
   },
   {
    "duration": 15,
    "start_time": "2023-06-09T18:09:54.347Z"
   },
   {
    "duration": 5,
    "start_time": "2023-06-09T18:09:54.364Z"
   },
   {
    "duration": 12,
    "start_time": "2023-06-09T18:09:54.371Z"
   },
   {
    "duration": 16,
    "start_time": "2023-06-09T18:09:54.385Z"
   },
   {
    "duration": 10,
    "start_time": "2023-06-09T18:09:54.403Z"
   },
   {
    "duration": 5515,
    "start_time": "2023-06-09T18:09:54.414Z"
   },
   {
    "duration": 27,
    "start_time": "2023-06-09T18:09:59.930Z"
   },
   {
    "duration": 9,
    "start_time": "2023-06-09T18:09:59.959Z"
   },
   {
    "duration": 20,
    "start_time": "2023-06-09T18:09:59.969Z"
   },
   {
    "duration": 19,
    "start_time": "2023-06-09T18:09:59.990Z"
   },
   {
    "duration": 82,
    "start_time": "2023-06-09T18:10:00.011Z"
   },
   {
    "duration": 19,
    "start_time": "2023-06-09T18:10:00.094Z"
   },
   {
    "duration": 55,
    "start_time": "2023-06-09T18:10:00.115Z"
   },
   {
    "duration": 41,
    "start_time": "2023-06-09T18:10:00.172Z"
   },
   {
    "duration": 42,
    "start_time": "2023-06-09T18:10:00.215Z"
   },
   {
    "duration": 43,
    "start_time": "2023-06-09T18:10:00.259Z"
   },
   {
    "duration": 58,
    "start_time": "2023-06-09T18:10:00.304Z"
   },
   {
    "duration": 21751,
    "start_time": "2023-06-09T18:10:00.364Z"
   },
   {
    "duration": 10,
    "start_time": "2023-06-09T18:10:22.117Z"
   },
   {
    "duration": 7542,
    "start_time": "2023-06-09T18:10:22.129Z"
   },
   {
    "duration": 77,
    "start_time": "2023-06-09T18:10:29.672Z"
   },
   {
    "duration": 11,
    "start_time": "2023-06-09T18:11:14.813Z"
   },
   {
    "duration": 12,
    "start_time": "2023-06-09T18:12:09.540Z"
   },
   {
    "duration": 11,
    "start_time": "2023-06-09T18:12:15.621Z"
   },
   {
    "duration": 22474,
    "start_time": "2023-06-09T18:13:31.338Z"
   },
   {
    "duration": 31,
    "start_time": "2023-06-09T18:17:02.435Z"
   },
   {
    "duration": 22350,
    "start_time": "2023-06-09T18:17:05.158Z"
   },
   {
    "duration": 11,
    "start_time": "2023-06-09T18:17:33.404Z"
   },
   {
    "duration": 8054,
    "start_time": "2023-06-09T18:17:36.763Z"
   },
   {
    "duration": 7531,
    "start_time": "2023-06-09T18:18:27.571Z"
   },
   {
    "duration": 1247,
    "start_time": "2023-06-09T20:12:36.005Z"
   },
   {
    "duration": 14,
    "start_time": "2023-06-09T20:12:37.255Z"
   },
   {
    "duration": 8,
    "start_time": "2023-06-09T20:12:37.271Z"
   },
   {
    "duration": 17,
    "start_time": "2023-06-09T20:12:37.281Z"
   },
   {
    "duration": 12,
    "start_time": "2023-06-09T20:12:37.300Z"
   },
   {
    "duration": 9,
    "start_time": "2023-06-09T20:12:37.314Z"
   },
   {
    "duration": 13,
    "start_time": "2023-06-09T20:12:37.325Z"
   },
   {
    "duration": 7,
    "start_time": "2023-06-09T20:12:37.357Z"
   },
   {
    "duration": 5889,
    "start_time": "2023-06-09T20:12:37.365Z"
   },
   {
    "duration": 22,
    "start_time": "2023-06-09T20:12:43.256Z"
   },
   {
    "duration": 11,
    "start_time": "2023-06-09T20:12:43.280Z"
   },
   {
    "duration": 19,
    "start_time": "2023-06-09T20:12:43.293Z"
   },
   {
    "duration": 25,
    "start_time": "2023-06-09T20:12:43.313Z"
   },
   {
    "duration": 46,
    "start_time": "2023-06-09T20:12:43.356Z"
   },
   {
    "duration": 18,
    "start_time": "2023-06-09T20:12:43.403Z"
   },
   {
    "duration": 103,
    "start_time": "2023-06-09T20:12:43.422Z"
   },
   {
    "duration": 11,
    "start_time": "2023-06-09T20:12:43.527Z"
   },
   {
    "duration": 23,
    "start_time": "2023-06-09T20:12:43.540Z"
   },
   {
    "duration": 28,
    "start_time": "2023-06-09T20:12:43.565Z"
   },
   {
    "duration": 65,
    "start_time": "2023-06-09T20:12:43.595Z"
   },
   {
    "duration": 20273,
    "start_time": "2023-06-09T20:12:43.662Z"
   },
   {
    "duration": 23,
    "start_time": "2023-06-09T20:13:03.937Z"
   },
   {
    "duration": 7102,
    "start_time": "2023-06-09T20:13:03.962Z"
   },
   {
    "duration": 25,
    "start_time": "2023-06-09T20:13:11.065Z"
   },
   {
    "duration": 10,
    "start_time": "2023-06-09T20:14:37.461Z"
   },
   {
    "duration": 7134,
    "start_time": "2023-06-09T20:14:45.316Z"
   },
   {
    "duration": 86,
    "start_time": "2023-06-09T20:14:55.442Z"
   },
   {
    "duration": 38,
    "start_time": "2023-06-09T20:17:09.769Z"
   },
   {
    "duration": 56,
    "start_time": "2023-06-09T20:19:27.576Z"
   },
   {
    "duration": 12,
    "start_time": "2023-06-09T20:19:27.634Z"
   },
   {
    "duration": 16,
    "start_time": "2023-06-09T20:19:27.648Z"
   },
   {
    "duration": 47,
    "start_time": "2023-06-09T20:19:27.665Z"
   },
   {
    "duration": 10,
    "start_time": "2023-06-09T20:19:27.714Z"
   },
   {
    "duration": 24,
    "start_time": "2023-06-09T20:19:27.726Z"
   },
   {
    "duration": 18,
    "start_time": "2023-06-09T20:19:27.752Z"
   },
   {
    "duration": 15,
    "start_time": "2023-06-09T20:19:27.772Z"
   },
   {
    "duration": 5642,
    "start_time": "2023-06-09T20:19:27.789Z"
   },
   {
    "duration": 28,
    "start_time": "2023-06-09T20:19:33.433Z"
   },
   {
    "duration": 11,
    "start_time": "2023-06-09T20:19:33.463Z"
   },
   {
    "duration": 21,
    "start_time": "2023-06-09T20:19:33.476Z"
   },
   {
    "duration": 15,
    "start_time": "2023-06-09T20:19:33.498Z"
   },
   {
    "duration": 59,
    "start_time": "2023-06-09T20:19:33.516Z"
   },
   {
    "duration": 14,
    "start_time": "2023-06-09T20:19:33.577Z"
   },
   {
    "duration": 36,
    "start_time": "2023-06-09T20:19:33.593Z"
   },
   {
    "duration": 31,
    "start_time": "2023-06-09T20:19:33.630Z"
   },
   {
    "duration": 12,
    "start_time": "2023-06-09T20:19:33.663Z"
   },
   {
    "duration": 21,
    "start_time": "2023-06-09T20:19:33.677Z"
   },
   {
    "duration": 59,
    "start_time": "2023-06-09T20:19:33.700Z"
   },
   {
    "duration": 18821,
    "start_time": "2023-06-09T20:19:33.760Z"
   },
   {
    "duration": 11,
    "start_time": "2023-06-09T20:19:52.583Z"
   },
   {
    "duration": 6556,
    "start_time": "2023-06-09T20:19:52.596Z"
   },
   {
    "duration": 50,
    "start_time": "2023-06-09T20:19:59.156Z"
   },
   {
    "duration": 55,
    "start_time": "2023-06-09T20:19:59.209Z"
   },
   {
    "duration": 58,
    "start_time": "2023-06-09T20:20:28.877Z"
   },
   {
    "duration": 60,
    "start_time": "2023-06-09T20:36:07.492Z"
   },
   {
    "duration": 16,
    "start_time": "2023-06-09T20:36:07.554Z"
   },
   {
    "duration": 9,
    "start_time": "2023-06-09T20:36:07.571Z"
   },
   {
    "duration": 25,
    "start_time": "2023-06-09T20:36:07.582Z"
   },
   {
    "duration": 19,
    "start_time": "2023-06-09T20:36:07.609Z"
   },
   {
    "duration": 55,
    "start_time": "2023-06-09T20:36:07.629Z"
   },
   {
    "duration": 13,
    "start_time": "2023-06-09T20:36:07.687Z"
   },
   {
    "duration": 15,
    "start_time": "2023-06-09T20:36:07.702Z"
   },
   {
    "duration": 5821,
    "start_time": "2023-06-09T20:36:07.719Z"
   },
   {
    "duration": 20,
    "start_time": "2023-06-09T20:36:13.542Z"
   },
   {
    "duration": 9,
    "start_time": "2023-06-09T20:36:13.564Z"
   },
   {
    "duration": 45,
    "start_time": "2023-06-09T20:36:13.575Z"
   },
   {
    "duration": 25,
    "start_time": "2023-06-09T20:36:13.621Z"
   },
   {
    "duration": 57,
    "start_time": "2023-06-09T20:36:13.647Z"
   },
   {
    "duration": 15,
    "start_time": "2023-06-09T20:36:13.705Z"
   },
   {
    "duration": 50,
    "start_time": "2023-06-09T20:36:13.722Z"
   },
   {
    "duration": 15,
    "start_time": "2023-06-09T20:36:13.774Z"
   },
   {
    "duration": 26,
    "start_time": "2023-06-09T20:36:13.792Z"
   },
   {
    "duration": 15,
    "start_time": "2023-06-09T20:36:13.820Z"
   },
   {
    "duration": 129,
    "start_time": "2023-06-09T20:36:13.837Z"
   },
   {
    "duration": 19249,
    "start_time": "2023-06-09T20:36:14.057Z"
   },
   {
    "duration": 10,
    "start_time": "2023-06-09T20:36:33.308Z"
   },
   {
    "duration": 6661,
    "start_time": "2023-06-09T20:36:33.320Z"
   },
   {
    "duration": 52,
    "start_time": "2023-06-09T20:36:39.983Z"
   },
   {
    "duration": 123,
    "start_time": "2023-06-09T20:36:40.037Z"
   },
   {
    "duration": 52,
    "start_time": "2023-06-09T20:46:56.134Z"
   },
   {
    "duration": 16,
    "start_time": "2023-06-09T20:46:56.188Z"
   },
   {
    "duration": 7,
    "start_time": "2023-06-09T20:46:56.205Z"
   },
   {
    "duration": 9,
    "start_time": "2023-06-09T20:46:56.213Z"
   },
   {
    "duration": 6,
    "start_time": "2023-06-09T20:46:56.224Z"
   },
   {
    "duration": 30,
    "start_time": "2023-06-09T20:46:56.231Z"
   },
   {
    "duration": 11,
    "start_time": "2023-06-09T20:46:56.262Z"
   },
   {
    "duration": 6,
    "start_time": "2023-06-09T20:46:56.274Z"
   },
   {
    "duration": 5686,
    "start_time": "2023-06-09T20:46:56.281Z"
   },
   {
    "duration": 22,
    "start_time": "2023-06-09T20:47:01.970Z"
   },
   {
    "duration": 28,
    "start_time": "2023-06-09T20:47:01.994Z"
   },
   {
    "duration": 48,
    "start_time": "2023-06-09T20:47:02.024Z"
   },
   {
    "duration": 25,
    "start_time": "2023-06-09T20:47:02.074Z"
   },
   {
    "duration": 64,
    "start_time": "2023-06-09T20:47:02.102Z"
   },
   {
    "duration": 22,
    "start_time": "2023-06-09T20:47:02.167Z"
   },
   {
    "duration": 74,
    "start_time": "2023-06-09T20:47:02.191Z"
   },
   {
    "duration": 28,
    "start_time": "2023-06-09T20:47:02.268Z"
   },
   {
    "duration": 37,
    "start_time": "2023-06-09T20:47:02.298Z"
   },
   {
    "duration": 18,
    "start_time": "2023-06-09T20:47:02.337Z"
   },
   {
    "duration": 28,
    "start_time": "2023-06-09T20:47:02.357Z"
   },
   {
    "duration": 19124,
    "start_time": "2023-06-09T20:47:02.387Z"
   },
   {
    "duration": 8,
    "start_time": "2023-06-09T20:47:21.513Z"
   },
   {
    "duration": 6641,
    "start_time": "2023-06-09T20:47:21.523Z"
   },
   {
    "duration": 48,
    "start_time": "2023-06-09T20:47:28.165Z"
   },
   {
    "duration": 46,
    "start_time": "2023-06-09T20:47:28.215Z"
   },
   {
    "duration": 50,
    "start_time": "2023-06-09T20:48:46.680Z"
   },
   {
    "duration": 19868,
    "start_time": "2023-06-09T20:48:56.230Z"
   },
   {
    "duration": 11,
    "start_time": "2023-06-09T20:49:38.551Z"
   },
   {
    "duration": 60,
    "start_time": "2023-06-09T20:50:25.865Z"
   },
   {
    "duration": 6694,
    "start_time": "2023-06-09T20:50:43.585Z"
   },
   {
    "duration": 52,
    "start_time": "2023-06-09T20:51:08.805Z"
   },
   {
    "duration": 1381,
    "start_time": "2023-06-10T10:54:32.987Z"
   },
   {
    "duration": 15,
    "start_time": "2023-06-10T10:54:34.370Z"
   },
   {
    "duration": 14,
    "start_time": "2023-06-10T10:54:34.387Z"
   },
   {
    "duration": 24,
    "start_time": "2023-06-10T10:54:34.403Z"
   },
   {
    "duration": 9,
    "start_time": "2023-06-10T10:54:34.431Z"
   },
   {
    "duration": 12,
    "start_time": "2023-06-10T10:54:34.442Z"
   },
   {
    "duration": 13,
    "start_time": "2023-06-10T10:54:34.455Z"
   },
   {
    "duration": 24,
    "start_time": "2023-06-10T10:54:34.470Z"
   },
   {
    "duration": 6399,
    "start_time": "2023-06-10T10:54:34.496Z"
   },
   {
    "duration": 19,
    "start_time": "2023-06-10T10:54:40.897Z"
   },
   {
    "duration": 12,
    "start_time": "2023-06-10T10:54:40.918Z"
   },
   {
    "duration": 26,
    "start_time": "2023-06-10T10:54:40.931Z"
   },
   {
    "duration": 13,
    "start_time": "2023-06-10T10:54:40.958Z"
   },
   {
    "duration": 55,
    "start_time": "2023-06-10T10:54:40.974Z"
   },
   {
    "duration": 23,
    "start_time": "2023-06-10T10:54:41.032Z"
   },
   {
    "duration": 70,
    "start_time": "2023-06-10T10:54:41.057Z"
   },
   {
    "duration": 12,
    "start_time": "2023-06-10T10:54:41.129Z"
   },
   {
    "duration": 22,
    "start_time": "2023-06-10T10:54:41.143Z"
   },
   {
    "duration": 9,
    "start_time": "2023-06-10T10:54:41.168Z"
   },
   {
    "duration": 63,
    "start_time": "2023-06-10T10:54:41.178Z"
   },
   {
    "duration": 20971,
    "start_time": "2023-06-10T10:54:41.327Z"
   },
   {
    "duration": 10,
    "start_time": "2023-06-10T10:55:02.299Z"
   },
   {
    "duration": 7458,
    "start_time": "2023-06-10T10:55:02.311Z"
   },
   {
    "duration": 71,
    "start_time": "2023-06-10T10:55:09.771Z"
   },
   {
    "duration": 84,
    "start_time": "2023-06-10T10:55:09.844Z"
   },
   {
    "duration": 22328,
    "start_time": "2023-06-10T10:55:09.932Z"
   },
   {
    "duration": 9,
    "start_time": "2023-06-10T10:55:32.262Z"
   },
   {
    "duration": 7316,
    "start_time": "2023-06-10T10:55:32.273Z"
   },
   {
    "duration": 66,
    "start_time": "2023-06-10T10:55:39.592Z"
   },
   {
    "duration": 124,
    "start_time": "2023-06-10T10:57:18.202Z"
   },
   {
    "duration": 218,
    "start_time": "2023-06-10T10:57:48.145Z"
   },
   {
    "duration": 273,
    "start_time": "2023-06-10T10:58:03.922Z"
   },
   {
    "duration": 236,
    "start_time": "2023-06-10T10:58:25.166Z"
   },
   {
    "duration": 323,
    "start_time": "2023-06-10T10:58:44.808Z"
   },
   {
    "duration": 305,
    "start_time": "2023-06-10T10:59:43.044Z"
   },
   {
    "duration": 232,
    "start_time": "2023-06-10T10:59:59.751Z"
   },
   {
    "duration": 101,
    "start_time": "2023-06-10T11:02:27.028Z"
   },
   {
    "duration": 65,
    "start_time": "2023-06-10T11:02:58.262Z"
   },
   {
    "duration": 197,
    "start_time": "2023-06-10T11:03:56.530Z"
   },
   {
    "duration": 56,
    "start_time": "2023-06-10T11:05:05.185Z"
   },
   {
    "duration": 121,
    "start_time": "2023-06-10T11:05:47.305Z"
   },
   {
    "duration": 57,
    "start_time": "2023-06-10T11:05:51.594Z"
   },
   {
    "duration": 196,
    "start_time": "2023-06-10T11:05:58.930Z"
   },
   {
    "duration": 121,
    "start_time": "2023-06-10T11:06:41.506Z"
   },
   {
    "duration": 61,
    "start_time": "2023-06-10T11:07:44.972Z"
   },
   {
    "duration": 15,
    "start_time": "2023-06-10T11:07:45.037Z"
   },
   {
    "duration": 17,
    "start_time": "2023-06-10T11:07:45.054Z"
   },
   {
    "duration": 28,
    "start_time": "2023-06-10T11:07:45.073Z"
   },
   {
    "duration": 11,
    "start_time": "2023-06-10T11:07:45.104Z"
   },
   {
    "duration": 13,
    "start_time": "2023-06-10T11:07:45.118Z"
   },
   {
    "duration": 13,
    "start_time": "2023-06-10T11:07:45.133Z"
   },
   {
    "duration": 10,
    "start_time": "2023-06-10T11:07:45.148Z"
   },
   {
    "duration": 6210,
    "start_time": "2023-06-10T11:07:45.160Z"
   },
   {
    "duration": 26,
    "start_time": "2023-06-10T11:07:51.373Z"
   },
   {
    "duration": 36,
    "start_time": "2023-06-10T11:07:51.402Z"
   },
   {
    "duration": 24,
    "start_time": "2023-06-10T11:07:51.441Z"
   },
   {
    "duration": 58,
    "start_time": "2023-06-10T11:07:51.467Z"
   },
   {
    "duration": 53,
    "start_time": "2023-06-10T11:07:51.529Z"
   },
   {
    "duration": 18,
    "start_time": "2023-06-10T11:07:51.584Z"
   },
   {
    "duration": 52,
    "start_time": "2023-06-10T11:07:51.606Z"
   },
   {
    "duration": 15,
    "start_time": "2023-06-10T11:07:51.660Z"
   },
   {
    "duration": 43,
    "start_time": "2023-06-10T11:07:51.677Z"
   },
   {
    "duration": 39,
    "start_time": "2023-06-10T11:07:51.722Z"
   },
   {
    "duration": 36,
    "start_time": "2023-06-10T11:07:51.763Z"
   },
   {
    "duration": 22041,
    "start_time": "2023-06-10T11:07:51.826Z"
   },
   {
    "duration": 12,
    "start_time": "2023-06-10T11:08:13.870Z"
   },
   {
    "duration": 7704,
    "start_time": "2023-06-10T11:08:13.884Z"
   },
   {
    "duration": 66,
    "start_time": "2023-06-10T11:08:21.590Z"
   },
   {
    "duration": 72,
    "start_time": "2023-06-10T11:08:21.658Z"
   },
   {
    "duration": 22807,
    "start_time": "2023-06-10T11:08:21.732Z"
   },
   {
    "duration": 9,
    "start_time": "2023-06-10T11:08:44.541Z"
   },
   {
    "duration": 7725,
    "start_time": "2023-06-10T11:08:44.552Z"
   },
   {
    "duration": 53,
    "start_time": "2023-06-10T11:08:52.279Z"
   },
   {
    "duration": 248,
    "start_time": "2023-06-10T11:08:52.334Z"
   },
   {
    "duration": 116217,
    "start_time": "2023-06-10T11:11:44.740Z"
   },
   {
    "duration": 48296,
    "start_time": "2023-06-10T11:26:45.483Z"
   },
   {
    "duration": 51618,
    "start_time": "2023-06-10T11:27:42.429Z"
   },
   {
    "duration": 52388,
    "start_time": "2023-06-10T11:34:21.547Z"
   },
   {
    "duration": 10,
    "start_time": "2023-06-10T11:35:56.225Z"
   },
   {
    "duration": 75,
    "start_time": "2023-06-10T11:38:31.844Z"
   },
   {
    "duration": 54,
    "start_time": "2023-06-10T11:38:44.014Z"
   },
   {
    "duration": 56,
    "start_time": "2023-06-10T11:39:28.660Z"
   },
   {
    "duration": 8157,
    "start_time": "2023-06-10T11:40:20.188Z"
   },
   {
    "duration": 58,
    "start_time": "2023-06-10T11:40:43.320Z"
   },
   {
    "duration": 20,
    "start_time": "2023-06-10T12:25:53.960Z"
   },
   {
    "duration": 71,
    "start_time": "2023-06-10T12:26:12.955Z"
   },
   {
    "duration": 86,
    "start_time": "2023-06-10T12:27:13.652Z"
   },
   {
    "duration": 26867,
    "start_time": "2023-06-10T12:28:20.674Z"
   },
   {
    "duration": 13,
    "start_time": "2023-06-10T12:29:15.087Z"
   },
   {
    "duration": 10571,
    "start_time": "2023-06-10T12:30:03.706Z"
   },
   {
    "duration": 70,
    "start_time": "2023-06-10T12:30:25.014Z"
   },
   {
    "duration": 26,
    "start_time": "2023-06-10T12:35:11.973Z"
   },
   {
    "duration": 12239,
    "start_time": "2023-06-10T12:45:07.814Z"
   },
   {
    "duration": 10,
    "start_time": "2023-06-10T12:45:27.390Z"
   },
   {
    "duration": 4544,
    "start_time": "2023-06-10T12:46:02.812Z"
   },
   {
    "duration": 51,
    "start_time": "2023-06-10T12:46:11.364Z"
   },
   {
    "duration": 6,
    "start_time": "2023-06-10T12:47:24.096Z"
   },
   {
    "duration": 1147,
    "start_time": "2023-06-11T06:37:19.172Z"
   },
   {
    "duration": 11,
    "start_time": "2023-06-11T06:37:20.321Z"
   },
   {
    "duration": 14,
    "start_time": "2023-06-11T06:37:20.333Z"
   },
   {
    "duration": 21,
    "start_time": "2023-06-11T06:37:20.348Z"
   },
   {
    "duration": 25,
    "start_time": "2023-06-11T06:37:20.371Z"
   },
   {
    "duration": 22,
    "start_time": "2023-06-11T06:37:20.397Z"
   },
   {
    "duration": 22,
    "start_time": "2023-06-11T06:37:20.420Z"
   },
   {
    "duration": 22,
    "start_time": "2023-06-11T06:37:20.443Z"
   },
   {
    "duration": 5380,
    "start_time": "2023-06-11T06:37:20.466Z"
   },
   {
    "duration": 17,
    "start_time": "2023-06-11T06:37:25.848Z"
   },
   {
    "duration": 141,
    "start_time": "2023-06-11T06:37:25.867Z"
   },
   {
    "duration": 21,
    "start_time": "2023-06-11T06:37:26.010Z"
   },
   {
    "duration": 15,
    "start_time": "2023-06-11T06:37:26.032Z"
   },
   {
    "duration": 36,
    "start_time": "2023-06-11T06:37:26.050Z"
   },
   {
    "duration": 12,
    "start_time": "2023-06-11T06:37:26.088Z"
   },
   {
    "duration": 44,
    "start_time": "2023-06-11T06:37:26.101Z"
   },
   {
    "duration": 11,
    "start_time": "2023-06-11T06:37:26.147Z"
   },
   {
    "duration": 37,
    "start_time": "2023-06-11T06:37:26.166Z"
   },
   {
    "duration": 15,
    "start_time": "2023-06-11T06:37:26.204Z"
   },
   {
    "duration": 95,
    "start_time": "2023-06-11T06:37:26.221Z"
   },
   {
    "duration": 20411,
    "start_time": "2023-06-11T06:37:26.318Z"
   },
   {
    "duration": 9,
    "start_time": "2023-06-11T06:37:46.731Z"
   },
   {
    "duration": 6893,
    "start_time": "2023-06-11T06:37:46.741Z"
   },
   {
    "duration": 40,
    "start_time": "2023-06-11T06:37:53.636Z"
   },
   {
    "duration": 41,
    "start_time": "2023-06-11T06:37:53.678Z"
   },
   {
    "duration": 21995,
    "start_time": "2023-06-11T06:37:53.721Z"
   },
   {
    "duration": 10,
    "start_time": "2023-06-11T06:38:15.718Z"
   },
   {
    "duration": 7478,
    "start_time": "2023-06-11T06:38:15.730Z"
   },
   {
    "duration": 37,
    "start_time": "2023-06-11T06:38:23.210Z"
   },
   {
    "duration": 205,
    "start_time": "2023-06-11T06:38:23.249Z"
   },
   {
    "duration": 46670,
    "start_time": "2023-06-11T06:38:23.457Z"
   },
   {
    "duration": 12,
    "start_time": "2023-06-11T06:39:10.129Z"
   },
   {
    "duration": 7503,
    "start_time": "2023-06-11T06:39:10.143Z"
   },
   {
    "duration": 41,
    "start_time": "2023-06-11T06:39:17.648Z"
   },
   {
    "duration": 132,
    "start_time": "2023-06-11T06:39:17.691Z"
   },
   {
    "duration": 26371,
    "start_time": "2023-06-11T06:39:17.825Z"
   },
   {
    "duration": 18,
    "start_time": "2023-06-11T06:39:44.197Z"
   },
   {
    "duration": 10021,
    "start_time": "2023-06-11T06:39:44.218Z"
   },
   {
    "duration": 38,
    "start_time": "2023-06-11T06:39:54.240Z"
   },
   {
    "duration": 46,
    "start_time": "2023-06-11T06:39:54.279Z"
   },
   {
    "duration": 11333,
    "start_time": "2023-06-11T06:39:54.415Z"
   },
   {
    "duration": 7,
    "start_time": "2023-06-11T06:40:05.750Z"
   },
   {
    "duration": 4304,
    "start_time": "2023-06-11T06:40:05.758Z"
   },
   {
    "duration": 34,
    "start_time": "2023-06-11T06:40:10.064Z"
   },
   {
    "duration": 22,
    "start_time": "2023-06-11T06:40:10.100Z"
   },
   {
    "duration": 27,
    "start_time": "2023-06-11T06:44:34.616Z"
   },
   {
    "duration": 267,
    "start_time": "2023-06-11T06:45:22.362Z"
   },
   {
    "duration": 119,
    "start_time": "2023-06-11T06:45:44.706Z"
   },
   {
    "duration": 103,
    "start_time": "2023-06-11T06:46:11.633Z"
   },
   {
    "duration": 79,
    "start_time": "2023-06-11T06:46:35.209Z"
   },
   {
    "duration": 16,
    "start_time": "2023-06-11T06:46:35.290Z"
   },
   {
    "duration": 52,
    "start_time": "2023-06-11T06:46:35.307Z"
   },
   {
    "duration": 106,
    "start_time": "2023-06-11T06:46:35.361Z"
   },
   {
    "duration": 34,
    "start_time": "2023-06-11T06:46:35.470Z"
   },
   {
    "duration": 39,
    "start_time": "2023-06-11T06:46:35.506Z"
   },
   {
    "duration": 56,
    "start_time": "2023-06-11T06:46:35.546Z"
   },
   {
    "duration": 43,
    "start_time": "2023-06-11T06:46:35.604Z"
   },
   {
    "duration": 5435,
    "start_time": "2023-06-11T06:46:35.649Z"
   },
   {
    "duration": 14,
    "start_time": "2023-06-11T06:46:41.086Z"
   },
   {
    "duration": 23,
    "start_time": "2023-06-11T06:46:41.102Z"
   },
   {
    "duration": 17,
    "start_time": "2023-06-11T06:46:41.128Z"
   },
   {
    "duration": 17,
    "start_time": "2023-06-11T06:46:41.146Z"
   },
   {
    "duration": 59,
    "start_time": "2023-06-11T06:46:41.167Z"
   },
   {
    "duration": 15,
    "start_time": "2023-06-11T06:46:41.229Z"
   },
   {
    "duration": 41,
    "start_time": "2023-06-11T06:46:41.245Z"
   },
   {
    "duration": 9,
    "start_time": "2023-06-11T06:46:41.287Z"
   },
   {
    "duration": 23,
    "start_time": "2023-06-11T06:46:41.298Z"
   },
   {
    "duration": 22,
    "start_time": "2023-06-11T06:46:41.324Z"
   },
   {
    "duration": 27,
    "start_time": "2023-06-11T06:46:49.182Z"
   },
   {
    "duration": 753,
    "start_time": "2023-06-11T06:50:10.515Z"
   },
   {
    "duration": 755,
    "start_time": "2023-06-11T06:51:16.830Z"
   },
   {
    "duration": 761,
    "start_time": "2023-06-11T06:53:38.427Z"
   },
   {
    "duration": 140,
    "start_time": "2023-06-11T06:55:05.477Z"
   },
   {
    "duration": 56,
    "start_time": "2023-06-11T06:56:35.505Z"
   },
   {
    "duration": 12,
    "start_time": "2023-06-11T06:56:35.562Z"
   },
   {
    "duration": 17,
    "start_time": "2023-06-11T06:56:35.576Z"
   },
   {
    "duration": 24,
    "start_time": "2023-06-11T06:56:35.595Z"
   },
   {
    "duration": 9,
    "start_time": "2023-06-11T06:56:35.621Z"
   },
   {
    "duration": 26,
    "start_time": "2023-06-11T06:56:35.631Z"
   },
   {
    "duration": 29,
    "start_time": "2023-06-11T06:56:35.658Z"
   },
   {
    "duration": 39,
    "start_time": "2023-06-11T06:56:35.689Z"
   },
   {
    "duration": 5400,
    "start_time": "2023-06-11T06:56:35.729Z"
   },
   {
    "duration": 15,
    "start_time": "2023-06-11T06:56:41.131Z"
   },
   {
    "duration": 10,
    "start_time": "2023-06-11T06:56:41.148Z"
   },
   {
    "duration": 25,
    "start_time": "2023-06-11T06:56:41.159Z"
   },
   {
    "duration": 32,
    "start_time": "2023-06-11T06:56:41.186Z"
   },
   {
    "duration": 38,
    "start_time": "2023-06-11T06:56:41.222Z"
   },
   {
    "duration": 14,
    "start_time": "2023-06-11T06:56:41.262Z"
   },
   {
    "duration": 57,
    "start_time": "2023-06-11T06:56:41.278Z"
   },
   {
    "duration": 12,
    "start_time": "2023-06-11T06:56:41.336Z"
   },
   {
    "duration": 13,
    "start_time": "2023-06-11T06:56:41.349Z"
   },
   {
    "duration": 8,
    "start_time": "2023-06-11T06:56:41.364Z"
   },
   {
    "duration": 74,
    "start_time": "2023-06-11T06:56:47.242Z"
   },
   {
    "duration": 715,
    "start_time": "2023-06-11T06:58:24.406Z"
   },
   {
    "duration": 710,
    "start_time": "2023-06-11T06:58:42.653Z"
   },
   {
    "duration": 6854,
    "start_time": "2023-06-11T07:04:16.909Z"
   },
   {
    "duration": 71,
    "start_time": "2023-06-11T07:10:36.851Z"
   },
   {
    "duration": 7110,
    "start_time": "2023-06-11T07:12:11.176Z"
   },
   {
    "duration": 7018,
    "start_time": "2023-06-11T07:12:33.508Z"
   },
   {
    "duration": 203,
    "start_time": "2023-06-11T07:16:43.914Z"
   },
   {
    "duration": 52,
    "start_time": "2023-06-11T07:16:49.104Z"
   },
   {
    "duration": 11,
    "start_time": "2023-06-11T07:16:49.158Z"
   },
   {
    "duration": 5,
    "start_time": "2023-06-11T07:16:49.171Z"
   },
   {
    "duration": 12,
    "start_time": "2023-06-11T07:16:49.177Z"
   },
   {
    "duration": 5,
    "start_time": "2023-06-11T07:16:49.191Z"
   },
   {
    "duration": 8,
    "start_time": "2023-06-11T07:16:49.197Z"
   },
   {
    "duration": 5,
    "start_time": "2023-06-11T07:16:49.216Z"
   },
   {
    "duration": 5,
    "start_time": "2023-06-11T07:16:49.223Z"
   },
   {
    "duration": 4984,
    "start_time": "2023-06-11T07:16:49.230Z"
   },
   {
    "duration": 14,
    "start_time": "2023-06-11T07:16:54.216Z"
   },
   {
    "duration": 8,
    "start_time": "2023-06-11T07:16:54.232Z"
   },
   {
    "duration": 16,
    "start_time": "2023-06-11T07:16:54.242Z"
   },
   {
    "duration": 18,
    "start_time": "2023-06-11T07:16:54.259Z"
   },
   {
    "duration": 195,
    "start_time": "2023-06-11T07:16:54.280Z"
   },
   {
    "duration": 13,
    "start_time": "2023-06-11T07:16:54.476Z"
   },
   {
    "duration": 44,
    "start_time": "2023-06-11T07:16:54.490Z"
   },
   {
    "duration": 10,
    "start_time": "2023-06-11T07:16:54.535Z"
   },
   {
    "duration": 13,
    "start_time": "2023-06-11T07:16:54.547Z"
   },
   {
    "duration": 15,
    "start_time": "2023-06-11T07:16:54.562Z"
   },
   {
    "duration": 84,
    "start_time": "2023-06-11T07:16:57.938Z"
   },
   {
    "duration": 54,
    "start_time": "2023-06-11T07:17:21.343Z"
   },
   {
    "duration": 15,
    "start_time": "2023-06-11T07:17:21.399Z"
   },
   {
    "duration": 16,
    "start_time": "2023-06-11T07:17:21.415Z"
   },
   {
    "duration": 20,
    "start_time": "2023-06-11T07:17:21.433Z"
   },
   {
    "duration": 12,
    "start_time": "2023-06-11T07:17:21.455Z"
   },
   {
    "duration": 13,
    "start_time": "2023-06-11T07:17:21.468Z"
   },
   {
    "duration": 23,
    "start_time": "2023-06-11T07:17:21.483Z"
   },
   {
    "duration": 25,
    "start_time": "2023-06-11T07:17:21.508Z"
   },
   {
    "duration": 5091,
    "start_time": "2023-06-11T07:17:21.535Z"
   },
   {
    "duration": 17,
    "start_time": "2023-06-11T07:17:26.628Z"
   },
   {
    "duration": 16,
    "start_time": "2023-06-11T07:17:26.647Z"
   },
   {
    "duration": 13,
    "start_time": "2023-06-11T07:17:26.665Z"
   },
   {
    "duration": 14,
    "start_time": "2023-06-11T07:17:26.680Z"
   },
   {
    "duration": 35,
    "start_time": "2023-06-11T07:17:26.715Z"
   },
   {
    "duration": 14,
    "start_time": "2023-06-11T07:17:26.752Z"
   },
   {
    "duration": 59,
    "start_time": "2023-06-11T07:17:26.768Z"
   },
   {
    "duration": 13,
    "start_time": "2023-06-11T07:17:26.829Z"
   },
   {
    "duration": 16,
    "start_time": "2023-06-11T07:17:26.844Z"
   },
   {
    "duration": 16,
    "start_time": "2023-06-11T07:17:26.863Z"
   },
   {
    "duration": 296,
    "start_time": "2023-06-11T07:17:33.321Z"
   },
   {
    "duration": 895,
    "start_time": "2023-06-11T07:17:57.045Z"
   },
   {
    "duration": 7077,
    "start_time": "2023-06-11T07:18:24.598Z"
   },
   {
    "duration": 290,
    "start_time": "2023-06-11T07:24:30.375Z"
   },
   {
    "duration": 836,
    "start_time": "2023-06-11T07:24:41.663Z"
   },
   {
    "duration": 308,
    "start_time": "2023-06-11T07:26:13.896Z"
   },
   {
    "duration": 289,
    "start_time": "2023-06-11T07:26:40.011Z"
   },
   {
    "duration": 885,
    "start_time": "2023-06-11T07:27:05.182Z"
   },
   {
    "duration": 7016,
    "start_time": "2023-06-11T07:27:16.762Z"
   },
   {
    "duration": 61,
    "start_time": "2023-06-11T16:13:00.020Z"
   },
   {
    "duration": 1536,
    "start_time": "2023-06-11T16:13:05.502Z"
   },
   {
    "duration": 12,
    "start_time": "2023-06-11T16:13:07.041Z"
   },
   {
    "duration": 9,
    "start_time": "2023-06-11T16:13:07.055Z"
   },
   {
    "duration": 9,
    "start_time": "2023-06-11T16:13:07.065Z"
   },
   {
    "duration": 12,
    "start_time": "2023-06-11T16:13:07.077Z"
   },
   {
    "duration": 8,
    "start_time": "2023-06-11T16:13:07.090Z"
   },
   {
    "duration": 10,
    "start_time": "2023-06-11T16:13:07.100Z"
   },
   {
    "duration": 5,
    "start_time": "2023-06-11T16:13:07.111Z"
   },
   {
    "duration": 4891,
    "start_time": "2023-06-11T16:13:07.118Z"
   },
   {
    "duration": 15,
    "start_time": "2023-06-11T16:13:12.010Z"
   },
   {
    "duration": 9,
    "start_time": "2023-06-11T16:13:12.026Z"
   },
   {
    "duration": 44,
    "start_time": "2023-06-11T16:13:12.037Z"
   },
   {
    "duration": 22,
    "start_time": "2023-06-11T16:13:12.082Z"
   },
   {
    "duration": 38,
    "start_time": "2023-06-11T16:13:12.107Z"
   },
   {
    "duration": 14,
    "start_time": "2023-06-11T16:13:12.146Z"
   },
   {
    "duration": 49,
    "start_time": "2023-06-11T16:13:12.162Z"
   },
   {
    "duration": 11,
    "start_time": "2023-06-11T16:13:12.213Z"
   },
   {
    "duration": 15,
    "start_time": "2023-06-11T16:13:12.226Z"
   },
   {
    "duration": 9,
    "start_time": "2023-06-11T16:13:12.243Z"
   },
   {
    "duration": 379,
    "start_time": "2023-06-11T16:13:12.254Z"
   },
   {
    "duration": 867,
    "start_time": "2023-06-11T16:13:12.635Z"
   },
   {
    "duration": 6213,
    "start_time": "2023-06-11T16:13:13.505Z"
   },
   {
    "duration": 316,
    "start_time": "2023-06-11T16:13:37.198Z"
   },
   {
    "duration": 30,
    "start_time": "2023-06-11T16:18:46.160Z"
   },
   {
    "duration": 695,
    "start_time": "2023-06-11T16:26:05.426Z"
   },
   {
    "duration": 5948,
    "start_time": "2023-06-11T16:32:05.741Z"
   },
   {
    "duration": 6255,
    "start_time": "2023-06-11T16:33:53.862Z"
   },
   {
    "duration": 443,
    "start_time": "2023-06-11T16:52:22.280Z"
   },
   {
    "duration": 36,
    "start_time": "2023-06-11T16:53:07.547Z"
   },
   {
    "duration": 109,
    "start_time": "2023-06-11T16:54:53.603Z"
   },
   {
    "duration": 134,
    "start_time": "2023-06-11T16:55:18.485Z"
   },
   {
    "duration": 60,
    "start_time": "2023-06-11T16:57:57.859Z"
   },
   {
    "duration": 50,
    "start_time": "2023-06-11T16:58:32.856Z"
   },
   {
    "duration": 14,
    "start_time": "2023-06-11T16:58:32.907Z"
   },
   {
    "duration": 6,
    "start_time": "2023-06-11T16:58:32.923Z"
   },
   {
    "duration": 26,
    "start_time": "2023-06-11T16:58:32.931Z"
   },
   {
    "duration": 10,
    "start_time": "2023-06-11T16:58:32.960Z"
   },
   {
    "duration": 11,
    "start_time": "2023-06-11T16:58:32.973Z"
   },
   {
    "duration": 20,
    "start_time": "2023-06-11T16:58:32.986Z"
   },
   {
    "duration": 10,
    "start_time": "2023-06-11T16:58:33.008Z"
   },
   {
    "duration": 5127,
    "start_time": "2023-06-11T16:58:33.019Z"
   },
   {
    "duration": 15,
    "start_time": "2023-06-11T16:58:38.148Z"
   },
   {
    "duration": 10,
    "start_time": "2023-06-11T16:58:38.164Z"
   },
   {
    "duration": 34,
    "start_time": "2023-06-11T16:58:38.175Z"
   },
   {
    "duration": 16,
    "start_time": "2023-06-11T16:58:38.211Z"
   },
   {
    "duration": 50,
    "start_time": "2023-06-11T16:58:38.231Z"
   },
   {
    "duration": 28,
    "start_time": "2023-06-11T16:58:38.283Z"
   },
   {
    "duration": 34,
    "start_time": "2023-06-11T16:58:38.313Z"
   },
   {
    "duration": 12,
    "start_time": "2023-06-11T16:58:38.349Z"
   },
   {
    "duration": 14,
    "start_time": "2023-06-11T16:58:38.362Z"
   },
   {
    "duration": 35,
    "start_time": "2023-06-11T16:58:38.378Z"
   },
   {
    "duration": 393,
    "start_time": "2023-06-11T16:58:38.415Z"
   },
   {
    "duration": 703,
    "start_time": "2023-06-11T16:58:38.809Z"
   },
   {
    "duration": 6269,
    "start_time": "2023-06-11T16:58:39.514Z"
   },
   {
    "duration": 505,
    "start_time": "2023-06-11T16:58:45.785Z"
   },
   {
    "duration": 735,
    "start_time": "2023-06-11T16:58:46.292Z"
   },
   {
    "duration": 6393,
    "start_time": "2023-06-11T16:58:47.028Z"
   },
   {
    "duration": 439,
    "start_time": "2023-06-11T16:59:00.385Z"
   },
   {
    "duration": 359,
    "start_time": "2023-06-11T16:59:27.699Z"
   },
   {
    "duration": 58,
    "start_time": "2023-06-11T17:34:06.522Z"
   },
   {
    "duration": 150,
    "start_time": "2023-06-11T17:34:28.562Z"
   },
   {
    "duration": 130,
    "start_time": "2023-06-11T17:35:12.708Z"
   },
   {
    "duration": 109,
    "start_time": "2023-06-11T17:37:25.348Z"
   },
   {
    "duration": 151,
    "start_time": "2023-06-11T17:38:16.304Z"
   },
   {
    "duration": 156,
    "start_time": "2023-06-11T17:38:57.009Z"
   },
   {
    "duration": 385,
    "start_time": "2023-06-11T17:52:05.267Z"
   },
   {
    "duration": 856,
    "start_time": "2023-06-11T17:58:41.243Z"
   },
   {
    "duration": 846,
    "start_time": "2023-06-11T18:02:23.503Z"
   },
   {
    "duration": 13,
    "start_time": "2023-06-11T18:02:55.318Z"
   },
   {
    "duration": 8161,
    "start_time": "2023-06-11T18:03:05.367Z"
   },
   {
    "duration": 8206,
    "start_time": "2023-06-11T18:03:38.235Z"
   },
   {
    "duration": 8179,
    "start_time": "2023-06-11T18:04:10.246Z"
   },
   {
    "duration": 52,
    "start_time": "2023-06-11T18:12:35.108Z"
   },
   {
    "duration": 327,
    "start_time": "2023-06-11T19:17:59.684Z"
   },
   {
    "duration": 355,
    "start_time": "2023-06-11T19:19:02.699Z"
   },
   {
    "duration": 216,
    "start_time": "2023-06-11T19:21:07.891Z"
   },
   {
    "duration": 284,
    "start_time": "2023-06-11T19:24:27.855Z"
   },
   {
    "duration": 3692,
    "start_time": "2023-06-11T19:27:00.073Z"
   },
   {
    "duration": 102,
    "start_time": "2023-06-11T19:36:23.547Z"
   },
   {
    "duration": 5,
    "start_time": "2023-06-11T19:37:51.584Z"
   },
   {
    "duration": 51,
    "start_time": "2023-06-11T19:38:06.419Z"
   },
   {
    "duration": 46,
    "start_time": "2023-06-11T19:38:19.587Z"
   },
   {
    "duration": 45,
    "start_time": "2023-06-11T19:39:24.987Z"
   },
   {
    "duration": 48,
    "start_time": "2023-06-11T19:40:13.104Z"
   },
   {
    "duration": 62,
    "start_time": "2023-06-11T19:40:18.494Z"
   },
   {
    "duration": 10,
    "start_time": "2023-06-11T19:40:18.558Z"
   },
   {
    "duration": 5,
    "start_time": "2023-06-11T19:40:18.569Z"
   },
   {
    "duration": 9,
    "start_time": "2023-06-11T19:40:18.576Z"
   },
   {
    "duration": 6,
    "start_time": "2023-06-11T19:40:18.587Z"
   },
   {
    "duration": 15,
    "start_time": "2023-06-11T19:40:18.594Z"
   },
   {
    "duration": 8,
    "start_time": "2023-06-11T19:40:18.611Z"
   },
   {
    "duration": 8,
    "start_time": "2023-06-11T19:40:18.620Z"
   },
   {
    "duration": 4874,
    "start_time": "2023-06-11T19:40:18.629Z"
   },
   {
    "duration": 15,
    "start_time": "2023-06-11T19:40:23.504Z"
   },
   {
    "duration": 8,
    "start_time": "2023-06-11T19:40:23.520Z"
   },
   {
    "duration": 12,
    "start_time": "2023-06-11T19:40:23.529Z"
   },
   {
    "duration": 12,
    "start_time": "2023-06-11T19:40:23.542Z"
   },
   {
    "duration": 66,
    "start_time": "2023-06-11T19:40:23.557Z"
   },
   {
    "duration": 12,
    "start_time": "2023-06-11T19:40:23.625Z"
   },
   {
    "duration": 33,
    "start_time": "2023-06-11T19:40:23.639Z"
   },
   {
    "duration": 10,
    "start_time": "2023-06-11T19:40:23.673Z"
   },
   {
    "duration": 34,
    "start_time": "2023-06-11T19:40:23.685Z"
   },
   {
    "duration": 14,
    "start_time": "2023-06-11T19:40:23.721Z"
   },
   {
    "duration": 369,
    "start_time": "2023-06-11T19:40:23.737Z"
   },
   {
    "duration": 711,
    "start_time": "2023-06-11T19:40:24.107Z"
   },
   {
    "duration": 6294,
    "start_time": "2023-06-11T19:40:24.819Z"
   },
   {
    "duration": 279,
    "start_time": "2023-06-11T19:40:31.115Z"
   },
   {
    "duration": 746,
    "start_time": "2023-06-11T19:40:31.406Z"
   },
   {
    "duration": 6148,
    "start_time": "2023-06-11T19:40:32.154Z"
   },
   {
    "duration": 479,
    "start_time": "2023-06-11T19:40:38.304Z"
   },
   {
    "duration": 887,
    "start_time": "2023-06-11T19:40:38.785Z"
   },
   {
    "duration": 8221,
    "start_time": "2023-06-11T19:40:39.674Z"
   },
   {
    "duration": 121,
    "start_time": "2023-06-11T19:40:47.896Z"
   },
   {
    "duration": 407,
    "start_time": "2023-06-11T19:40:48.019Z"
   },
   {
    "duration": 4026,
    "start_time": "2023-06-11T19:40:48.429Z"
   },
   {
    "duration": 177,
    "start_time": "2023-06-11T19:40:52.457Z"
   },
   {
    "duration": 12,
    "start_time": "2023-06-11T19:40:52.635Z"
   },
   {
    "duration": 132,
    "start_time": "2023-06-11T19:41:10.352Z"
   },
   {
    "duration": 148,
    "start_time": "2023-06-11T19:41:19.827Z"
   },
   {
    "duration": 41,
    "start_time": "2023-06-11T19:44:13.028Z"
   },
   {
    "duration": 40,
    "start_time": "2023-06-11T19:44:47.336Z"
   },
   {
    "duration": 183,
    "start_time": "2023-06-11T19:49:23.589Z"
   },
   {
    "duration": 178,
    "start_time": "2023-06-11T19:50:27.394Z"
   },
   {
    "duration": 193,
    "start_time": "2023-06-11T19:57:38.830Z"
   },
   {
    "duration": 203,
    "start_time": "2023-06-11T19:57:54.538Z"
   },
   {
    "duration": 211,
    "start_time": "2023-06-11T19:58:09.855Z"
   },
   {
    "duration": 2338,
    "start_time": "2023-06-12T06:45:57.181Z"
   },
   {
    "duration": 15,
    "start_time": "2023-06-12T06:45:59.521Z"
   },
   {
    "duration": 7,
    "start_time": "2023-06-12T06:45:59.538Z"
   },
   {
    "duration": 18,
    "start_time": "2023-06-12T06:45:59.547Z"
   },
   {
    "duration": 27,
    "start_time": "2023-06-12T06:45:59.566Z"
   },
   {
    "duration": 24,
    "start_time": "2023-06-12T06:45:59.595Z"
   },
   {
    "duration": 20,
    "start_time": "2023-06-12T06:45:59.621Z"
   },
   {
    "duration": 28,
    "start_time": "2023-06-12T06:45:59.642Z"
   },
   {
    "duration": 6081,
    "start_time": "2023-06-12T06:45:59.671Z"
   },
   {
    "duration": 16,
    "start_time": "2023-06-12T06:46:05.754Z"
   },
   {
    "duration": 26,
    "start_time": "2023-06-12T06:46:05.771Z"
   },
   {
    "duration": 67,
    "start_time": "2023-06-12T06:46:05.799Z"
   },
   {
    "duration": 55,
    "start_time": "2023-06-12T06:46:05.868Z"
   },
   {
    "duration": 91,
    "start_time": "2023-06-12T06:46:05.926Z"
   },
   {
    "duration": 22,
    "start_time": "2023-06-12T06:46:06.019Z"
   },
   {
    "duration": 72,
    "start_time": "2023-06-12T06:46:06.043Z"
   },
   {
    "duration": 22,
    "start_time": "2023-06-12T06:46:06.117Z"
   },
   {
    "duration": 38,
    "start_time": "2023-06-12T06:46:06.141Z"
   },
   {
    "duration": 25,
    "start_time": "2023-06-12T06:46:06.181Z"
   },
   {
    "duration": 340,
    "start_time": "2023-06-12T06:46:06.209Z"
   },
   {
    "duration": 851,
    "start_time": "2023-06-12T06:46:06.550Z"
   },
   {
    "duration": 64,
    "start_time": "2023-06-12T08:07:22.479Z"
   },
   {
    "duration": 1815,
    "start_time": "2023-06-12T08:07:25.677Z"
   },
   {
    "duration": 16,
    "start_time": "2023-06-12T08:07:27.494Z"
   },
   {
    "duration": 14,
    "start_time": "2023-06-12T08:07:27.512Z"
   },
   {
    "duration": 32,
    "start_time": "2023-06-12T08:07:27.528Z"
   },
   {
    "duration": 32,
    "start_time": "2023-06-12T08:07:27.562Z"
   },
   {
    "duration": 21,
    "start_time": "2023-06-12T08:07:27.596Z"
   },
   {
    "duration": 18,
    "start_time": "2023-06-12T08:07:27.619Z"
   },
   {
    "duration": 26,
    "start_time": "2023-06-12T08:07:27.638Z"
   },
   {
    "duration": 6050,
    "start_time": "2023-06-12T08:07:27.666Z"
   },
   {
    "duration": 24,
    "start_time": "2023-06-12T08:07:33.719Z"
   },
   {
    "duration": 78,
    "start_time": "2023-06-12T08:07:33.745Z"
   },
   {
    "duration": 0,
    "start_time": "2023-06-12T08:07:33.825Z"
   },
   {
    "duration": 0,
    "start_time": "2023-06-12T08:07:33.827Z"
   },
   {
    "duration": 0,
    "start_time": "2023-06-12T08:07:33.828Z"
   },
   {
    "duration": 0,
    "start_time": "2023-06-12T08:07:33.829Z"
   },
   {
    "duration": 0,
    "start_time": "2023-06-12T08:07:33.831Z"
   },
   {
    "duration": 0,
    "start_time": "2023-06-12T08:07:33.847Z"
   },
   {
    "duration": 0,
    "start_time": "2023-06-12T08:07:33.848Z"
   },
   {
    "duration": 0,
    "start_time": "2023-06-12T08:07:33.850Z"
   },
   {
    "duration": 0,
    "start_time": "2023-06-12T08:07:33.851Z"
   },
   {
    "duration": 0,
    "start_time": "2023-06-12T08:07:33.853Z"
   },
   {
    "duration": 0,
    "start_time": "2023-06-12T08:07:33.854Z"
   },
   {
    "duration": 0,
    "start_time": "2023-06-12T08:07:33.856Z"
   },
   {
    "duration": 0,
    "start_time": "2023-06-12T08:07:33.858Z"
   },
   {
    "duration": 0,
    "start_time": "2023-06-12T08:07:33.859Z"
   },
   {
    "duration": 0,
    "start_time": "2023-06-12T08:07:33.861Z"
   },
   {
    "duration": 0,
    "start_time": "2023-06-12T08:07:33.862Z"
   },
   {
    "duration": 0,
    "start_time": "2023-06-12T08:07:33.864Z"
   },
   {
    "duration": 0,
    "start_time": "2023-06-12T08:07:33.865Z"
   },
   {
    "duration": 0,
    "start_time": "2023-06-12T08:07:33.866Z"
   },
   {
    "duration": 0,
    "start_time": "2023-06-12T08:07:33.868Z"
   },
   {
    "duration": 0,
    "start_time": "2023-06-12T08:07:33.869Z"
   },
   {
    "duration": 0,
    "start_time": "2023-06-12T08:07:33.870Z"
   },
   {
    "duration": 0,
    "start_time": "2023-06-12T08:07:33.871Z"
   },
   {
    "duration": 3455,
    "start_time": "2023-06-12T08:09:45.191Z"
   },
   {
    "duration": 12253,
    "start_time": "2023-06-12T08:09:53.798Z"
   },
   {
    "duration": 1124,
    "start_time": "2023-06-12T08:10:36.939Z"
   },
   {
    "duration": 1122,
    "start_time": "2023-06-12T08:10:52.155Z"
   },
   {
    "duration": 33,
    "start_time": "2023-06-12T08:13:56.344Z"
   },
   {
    "duration": 1747,
    "start_time": "2023-06-12T08:14:27.157Z"
   },
   {
    "duration": 252,
    "start_time": "2023-06-12T08:30:26.448Z"
   },
   {
    "duration": 420,
    "start_time": "2023-06-12T08:30:38.394Z"
   },
   {
    "duration": 424,
    "start_time": "2023-06-12T08:34:13.376Z"
   },
   {
    "duration": 242,
    "start_time": "2023-06-12T08:35:55.779Z"
   },
   {
    "duration": 434,
    "start_time": "2023-06-12T08:37:22.942Z"
   },
   {
    "duration": 37,
    "start_time": "2023-06-12T08:46:13.379Z"
   },
   {
    "duration": 19,
    "start_time": "2023-06-12T08:47:22.570Z"
   },
   {
    "duration": 13,
    "start_time": "2023-06-12T08:48:46.613Z"
   },
   {
    "duration": 19,
    "start_time": "2023-06-12T08:49:10.964Z"
   },
   {
    "duration": 61,
    "start_time": "2023-06-12T08:49:33.327Z"
   },
   {
    "duration": 80,
    "start_time": "2023-06-12T08:50:00.431Z"
   },
   {
    "duration": 4405,
    "start_time": "2023-06-12T08:51:02.470Z"
   },
   {
    "duration": 30,
    "start_time": "2023-06-12T08:51:18.299Z"
   },
   {
    "duration": 83,
    "start_time": "2023-06-12T08:52:05.395Z"
   },
   {
    "duration": 21,
    "start_time": "2023-06-12T08:55:04.177Z"
   },
   {
    "duration": 13,
    "start_time": "2023-06-12T08:55:12.568Z"
   },
   {
    "duration": 18,
    "start_time": "2023-06-12T08:55:17.402Z"
   },
   {
    "duration": 32,
    "start_time": "2023-06-12T08:55:39.234Z"
   },
   {
    "duration": 20,
    "start_time": "2023-06-12T08:56:12.799Z"
   },
   {
    "duration": 116,
    "start_time": "2023-06-12T08:56:25.587Z"
   },
   {
    "duration": 19,
    "start_time": "2023-06-12T08:56:31.172Z"
   },
   {
    "duration": 55,
    "start_time": "2023-06-12T12:34:00.445Z"
   },
   {
    "duration": 1154,
    "start_time": "2023-06-12T12:34:06.955Z"
   },
   {
    "duration": 1305,
    "start_time": "2023-06-12T12:34:15.660Z"
   },
   {
    "duration": 26,
    "start_time": "2023-06-12T12:34:16.971Z"
   },
   {
    "duration": 10,
    "start_time": "2023-06-12T12:34:16.999Z"
   },
   {
    "duration": 45,
    "start_time": "2023-06-12T12:34:17.012Z"
   },
   {
    "duration": 20,
    "start_time": "2023-06-12T12:34:17.064Z"
   },
   {
    "duration": 24,
    "start_time": "2023-06-12T12:34:17.086Z"
   },
   {
    "duration": 38,
    "start_time": "2023-06-12T12:34:17.112Z"
   },
   {
    "duration": 11,
    "start_time": "2023-06-12T12:34:17.152Z"
   },
   {
    "duration": 8026,
    "start_time": "2023-06-12T12:34:17.165Z"
   },
   {
    "duration": 22,
    "start_time": "2023-06-12T12:34:25.195Z"
   },
   {
    "duration": 3701,
    "start_time": "2023-06-12T12:34:25.219Z"
   },
   {
    "duration": 13321,
    "start_time": "2023-06-12T12:34:28.924Z"
   },
   {
    "duration": 1875,
    "start_time": "2023-06-12T12:34:42.249Z"
   },
   {
    "duration": 25,
    "start_time": "2023-06-12T12:34:44.126Z"
   },
   {
    "duration": 19,
    "start_time": "2023-06-12T12:34:44.156Z"
   },
   {
    "duration": 24,
    "start_time": "2023-06-12T12:34:44.177Z"
   },
   {
    "duration": 81,
    "start_time": "2023-06-12T12:34:44.203Z"
   },
   {
    "duration": 86,
    "start_time": "2023-06-12T12:34:44.286Z"
   },
   {
    "duration": 15,
    "start_time": "2023-06-12T12:34:44.374Z"
   },
   {
    "duration": 76,
    "start_time": "2023-06-12T12:34:44.391Z"
   },
   {
    "duration": 20,
    "start_time": "2023-06-12T12:34:44.470Z"
   },
   {
    "duration": 86,
    "start_time": "2023-06-12T12:34:44.492Z"
   },
   {
    "duration": 17,
    "start_time": "2023-06-12T12:34:44.579Z"
   },
   {
    "duration": 311,
    "start_time": "2023-06-12T12:34:44.598Z"
   },
   {
    "duration": 996,
    "start_time": "2023-06-12T12:34:44.911Z"
   },
   {
    "duration": 8985,
    "start_time": "2023-06-12T12:34:45.909Z"
   },
   {
    "duration": 511,
    "start_time": "2023-06-12T12:34:54.896Z"
   },
   {
    "duration": 1056,
    "start_time": "2023-06-12T12:34:55.411Z"
   },
   {
    "duration": 9921,
    "start_time": "2023-06-12T12:34:56.468Z"
   },
   {
    "duration": 375,
    "start_time": "2023-06-12T12:35:06.392Z"
   },
   {
    "duration": 1237,
    "start_time": "2023-06-12T12:35:06.773Z"
   },
   {
    "duration": 12477,
    "start_time": "2023-06-12T12:35:08.012Z"
   },
   {
    "duration": 179,
    "start_time": "2023-06-12T12:35:20.491Z"
   },
   {
    "duration": 466,
    "start_time": "2023-06-12T12:35:20.725Z"
   },
   {
    "duration": 5557,
    "start_time": "2023-06-12T12:35:21.193Z"
   },
   {
    "duration": 239,
    "start_time": "2023-06-12T12:35:26.752Z"
   },
   {
    "duration": 286,
    "start_time": "2023-06-12T12:35:26.994Z"
   },
   {
    "duration": 1456,
    "start_time": "2023-06-12T12:35:49.860Z"
   },
   {
    "duration": 35,
    "start_time": "2023-06-12T12:36:12.068Z"
   },
   {
    "duration": 43,
    "start_time": "2023-06-12T12:37:07.149Z"
   },
   {
    "duration": 881,
    "start_time": "2023-06-12T12:38:27.583Z"
   },
   {
    "duration": 733,
    "start_time": "2023-06-12T12:40:24.856Z"
   },
   {
    "duration": 835,
    "start_time": "2023-06-12T12:43:43.378Z"
   },
   {
    "duration": 41,
    "start_time": "2023-06-12T12:50:23.454Z"
   },
   {
    "duration": 27,
    "start_time": "2023-06-12T12:50:28.868Z"
   },
   {
    "duration": 1000,
    "start_time": "2023-06-12T12:54:33.869Z"
   },
   {
    "duration": 959,
    "start_time": "2023-06-12T12:54:41.849Z"
   },
   {
    "duration": 29,
    "start_time": "2023-06-12T12:58:35.305Z"
   },
   {
    "duration": 29,
    "start_time": "2023-06-12T12:58:49.150Z"
   },
   {
    "duration": 13,
    "start_time": "2023-06-12T12:58:52.429Z"
   },
   {
    "duration": 33,
    "start_time": "2023-06-12T12:59:03.857Z"
   },
   {
    "duration": 22,
    "start_time": "2023-06-12T13:01:58.663Z"
   },
   {
    "duration": 22,
    "start_time": "2023-06-12T13:02:07.498Z"
   },
   {
    "duration": 21,
    "start_time": "2023-06-12T13:03:46.758Z"
   },
   {
    "duration": 25,
    "start_time": "2023-06-12T13:03:59.598Z"
   },
   {
    "duration": 35,
    "start_time": "2023-06-12T13:04:32.852Z"
   },
   {
    "duration": 1181,
    "start_time": "2023-06-12T13:05:22.122Z"
   },
   {
    "duration": 26,
    "start_time": "2023-06-12T13:05:39.583Z"
   },
   {
    "duration": 28,
    "start_time": "2023-06-12T13:05:40.569Z"
   },
   {
    "duration": 15,
    "start_time": "2023-06-12T13:06:05.676Z"
   },
   {
    "duration": 42,
    "start_time": "2023-06-12T13:06:20.701Z"
   },
   {
    "duration": 16,
    "start_time": "2023-06-12T13:06:58.908Z"
   },
   {
    "duration": 40,
    "start_time": "2023-06-12T13:07:23.059Z"
   },
   {
    "duration": 25,
    "start_time": "2023-06-12T13:08:12.957Z"
   },
   {
    "duration": 61,
    "start_time": "2023-06-12T13:08:15.863Z"
   },
   {
    "duration": 38,
    "start_time": "2023-06-12T13:08:15.929Z"
   },
   {
    "duration": 99,
    "start_time": "2023-06-12T13:08:15.973Z"
   },
   {
    "duration": 104,
    "start_time": "2023-06-12T13:08:16.074Z"
   },
   {
    "duration": 24,
    "start_time": "2023-06-12T13:08:16.181Z"
   },
   {
    "duration": 38,
    "start_time": "2023-06-12T13:08:16.207Z"
   },
   {
    "duration": 17,
    "start_time": "2023-06-12T13:08:16.246Z"
   },
   {
    "duration": 23,
    "start_time": "2023-06-12T13:08:16.264Z"
   },
   {
    "duration": 7479,
    "start_time": "2023-06-12T13:08:16.289Z"
   },
   {
    "duration": 18,
    "start_time": "2023-06-12T13:08:23.772Z"
   },
   {
    "duration": 2678,
    "start_time": "2023-06-12T13:08:23.792Z"
   },
   {
    "duration": 12370,
    "start_time": "2023-06-12T13:08:26.473Z"
   },
   {
    "duration": 1733,
    "start_time": "2023-06-12T13:08:38.845Z"
   },
   {
    "duration": 11,
    "start_time": "2023-06-12T13:08:40.581Z"
   },
   {
    "duration": 62,
    "start_time": "2023-06-12T13:08:40.594Z"
   },
   {
    "duration": 47,
    "start_time": "2023-06-12T13:08:40.666Z"
   },
   {
    "duration": 36,
    "start_time": "2023-06-12T13:08:40.715Z"
   },
   {
    "duration": 15,
    "start_time": "2023-06-12T13:08:40.766Z"
   },
   {
    "duration": 87,
    "start_time": "2023-06-12T13:08:40.783Z"
   },
   {
    "duration": 16,
    "start_time": "2023-06-12T13:08:40.872Z"
   },
   {
    "duration": 66,
    "start_time": "2023-06-12T13:08:40.891Z"
   },
   {
    "duration": 18,
    "start_time": "2023-06-12T13:08:40.958Z"
   },
   {
    "duration": 18,
    "start_time": "2023-06-12T13:08:40.978Z"
   },
   {
    "duration": 8,
    "start_time": "2023-06-12T13:08:40.998Z"
   },
   {
    "duration": 343,
    "start_time": "2023-06-12T13:08:41.008Z"
   },
   {
    "duration": 976,
    "start_time": "2023-06-12T13:08:41.353Z"
   },
   {
    "duration": 8823,
    "start_time": "2023-06-12T13:08:42.332Z"
   },
   {
    "duration": 310,
    "start_time": "2023-06-12T13:08:51.161Z"
   },
   {
    "duration": 1307,
    "start_time": "2023-06-12T13:08:51.476Z"
   },
   {
    "duration": 8916,
    "start_time": "2023-06-12T13:08:52.786Z"
   },
   {
    "duration": 392,
    "start_time": "2023-06-12T13:09:01.705Z"
   },
   {
    "duration": 1214,
    "start_time": "2023-06-12T13:09:02.099Z"
   },
   {
    "duration": 11895,
    "start_time": "2023-06-12T13:09:03.315Z"
   },
   {
    "duration": 218,
    "start_time": "2023-06-12T13:09:15.211Z"
   },
   {
    "duration": 434,
    "start_time": "2023-06-12T13:09:15.437Z"
   },
   {
    "duration": 5287,
    "start_time": "2023-06-12T13:09:15.873Z"
   },
   {
    "duration": 216,
    "start_time": "2023-06-12T13:09:21.162Z"
   },
   {
    "duration": 253,
    "start_time": "2023-06-12T13:09:21.380Z"
   },
   {
    "duration": 41,
    "start_time": "2023-06-12T13:12:59.948Z"
   },
   {
    "duration": 69,
    "start_time": "2023-06-12T13:13:11.374Z"
   },
   {
    "duration": 20,
    "start_time": "2023-06-12T13:13:11.451Z"
   },
   {
    "duration": 28,
    "start_time": "2023-06-12T13:13:11.473Z"
   },
   {
    "duration": 67,
    "start_time": "2023-06-12T13:13:11.504Z"
   },
   {
    "duration": 7,
    "start_time": "2023-06-12T13:13:11.575Z"
   },
   {
    "duration": 7,
    "start_time": "2023-06-12T13:13:11.584Z"
   },
   {
    "duration": 8,
    "start_time": "2023-06-12T13:13:11.592Z"
   },
   {
    "duration": 15,
    "start_time": "2023-06-12T13:13:11.601Z"
   },
   {
    "duration": 7348,
    "start_time": "2023-06-12T13:13:11.617Z"
   },
   {
    "duration": 21,
    "start_time": "2023-06-12T13:13:18.968Z"
   },
   {
    "duration": 2717,
    "start_time": "2023-06-12T13:13:18.991Z"
   },
   {
    "duration": 1268,
    "start_time": "2023-06-12T13:13:21.711Z"
   },
   {
    "duration": 1790,
    "start_time": "2023-06-12T13:13:22.981Z"
   },
   {
    "duration": 11,
    "start_time": "2023-06-12T13:13:24.773Z"
   },
   {
    "duration": 22,
    "start_time": "2023-06-12T13:13:24.786Z"
   },
   {
    "duration": 45,
    "start_time": "2023-06-12T13:13:24.810Z"
   },
   {
    "duration": 17,
    "start_time": "2023-06-12T13:13:24.857Z"
   },
   {
    "duration": 19,
    "start_time": "2023-06-12T13:13:24.876Z"
   },
   {
    "duration": 73,
    "start_time": "2023-06-12T13:13:24.897Z"
   },
   {
    "duration": 16,
    "start_time": "2023-06-12T13:13:24.972Z"
   },
   {
    "duration": 89,
    "start_time": "2023-06-12T13:13:24.990Z"
   },
   {
    "duration": 15,
    "start_time": "2023-06-12T13:13:25.082Z"
   },
   {
    "duration": 50,
    "start_time": "2023-06-12T13:13:25.099Z"
   },
   {
    "duration": 31,
    "start_time": "2023-06-12T13:13:25.151Z"
   },
   {
    "duration": 312,
    "start_time": "2023-06-12T13:13:25.184Z"
   },
   {
    "duration": 1019,
    "start_time": "2023-06-12T13:13:25.499Z"
   },
   {
    "duration": 9018,
    "start_time": "2023-06-12T13:13:26.519Z"
   },
   {
    "duration": 392,
    "start_time": "2023-06-12T13:13:35.541Z"
   },
   {
    "duration": 1020,
    "start_time": "2023-06-12T13:13:35.938Z"
   },
   {
    "duration": 9641,
    "start_time": "2023-06-12T13:13:36.965Z"
   },
   {
    "duration": 504,
    "start_time": "2023-06-12T13:13:46.608Z"
   },
   {
    "duration": 1282,
    "start_time": "2023-06-12T13:13:47.114Z"
   },
   {
    "duration": 12808,
    "start_time": "2023-06-12T13:13:48.398Z"
   },
   {
    "duration": 223,
    "start_time": "2023-06-12T13:14:01.209Z"
   },
   {
    "duration": 490,
    "start_time": "2023-06-12T13:14:01.439Z"
   },
   {
    "duration": 5561,
    "start_time": "2023-06-12T13:14:01.935Z"
   },
   {
    "duration": 249,
    "start_time": "2023-06-12T13:14:07.498Z"
   },
   {
    "duration": 271,
    "start_time": "2023-06-12T13:14:07.754Z"
   },
   {
    "duration": 26,
    "start_time": "2023-06-12T13:14:17.404Z"
   },
   {
    "duration": 32,
    "start_time": "2023-06-12T13:14:18.188Z"
   },
   {
    "duration": 16,
    "start_time": "2023-06-12T13:15:40.569Z"
   },
   {
    "duration": 15,
    "start_time": "2023-06-12T13:15:46.473Z"
   },
   {
    "duration": 39,
    "start_time": "2023-06-12T13:15:49.133Z"
   },
   {
    "duration": 21,
    "start_time": "2023-06-12T13:16:50.666Z"
   },
   {
    "duration": 22,
    "start_time": "2023-06-12T13:32:22.573Z"
   },
   {
    "duration": 21,
    "start_time": "2023-06-12T13:32:25.871Z"
   },
   {
    "duration": 14,
    "start_time": "2023-06-12T13:32:29.309Z"
   },
   {
    "duration": 36,
    "start_time": "2023-06-12T13:32:29.870Z"
   },
   {
    "duration": 22,
    "start_time": "2023-06-12T13:33:07.370Z"
   },
   {
    "duration": 23,
    "start_time": "2023-06-12T13:33:19.011Z"
   },
   {
    "duration": 87,
    "start_time": "2023-06-12T13:34:44.883Z"
   },
   {
    "duration": 23,
    "start_time": "2023-06-12T13:34:48.604Z"
   },
   {
    "duration": 9,
    "start_time": "2023-06-12T13:35:10.495Z"
   },
   {
    "duration": 16,
    "start_time": "2023-06-12T13:35:33.682Z"
   },
   {
    "duration": 16,
    "start_time": "2023-06-12T13:35:45.852Z"
   },
   {
    "duration": 16,
    "start_time": "2023-06-12T13:35:48.067Z"
   },
   {
    "duration": 15,
    "start_time": "2023-06-12T13:35:53.274Z"
   },
   {
    "duration": 9,
    "start_time": "2023-06-12T13:36:02.967Z"
   },
   {
    "duration": 31,
    "start_time": "2023-06-12T13:36:34.476Z"
   }
  ],
  "kernelspec": {
   "display_name": "Python 3 (ipykernel)",
   "language": "python",
   "name": "python3"
  },
  "language_info": {
   "codemirror_mode": {
    "name": "ipython",
    "version": 3
   },
   "file_extension": ".py",
   "mimetype": "text/x-python",
   "name": "python",
   "nbconvert_exporter": "python",
   "pygments_lexer": "ipython3",
   "version": "3.9.17"
  },
  "toc": {
   "base_numbering": 1,
   "nav_menu": {},
   "number_sections": true,
   "sideBar": true,
   "skip_h1_title": true,
   "title_cell": "Содержание",
   "title_sidebar": "Contents",
   "toc_cell": true,
   "toc_position": {
    "height": "calc(100% - 180px)",
    "left": "10px",
    "top": "150px",
    "width": "165px"
   },
   "toc_section_display": true,
   "toc_window_display": true
  }
 },
 "nbformat": 4,
 "nbformat_minor": 2
}
